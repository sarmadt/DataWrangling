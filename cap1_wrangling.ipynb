{
 "cells": [
  {
   "cell_type": "code",
   "execution_count": 1,
   "metadata": {
    "collapsed": true
   },
   "outputs": [],
   "source": [
    "%matplotlib inline\n",
    "import pandas as pd"
   ]
  },
  {
   "cell_type": "code",
   "execution_count": 2,
   "metadata": {
    "collapsed": true
   },
   "outputs": [],
   "source": [
    "import os\n",
    "os.chdir('C:\\\\Users\\\\babsab\\\\Google Drive\\\\Courses\\\\Springboard\\\\Project\\\\Cap1\\\\data')"
   ]
  },
  {
   "cell_type": "code",
   "execution_count": 3,
   "metadata": {
    "collapsed": false
   },
   "outputs": [
    {
     "name": "stderr",
     "output_type": "stream",
     "text": [
      "C:\\Users\\babsab\\Anaconda2\\lib\\site-packages\\IPython\\core\\interactiveshell.py:2717: DtypeWarning: Columns (35) have mixed types. Specify dtype option on import or set low_memory=False.\n",
      "  interactivity=interactivity, compiler=compiler, result=result)\n"
     ]
    }
   ],
   "source": [
    "# read company financial data\n",
    "fin_data = pd.read_csv('na_enterprize.csv', sep = ',', header = 0)"
   ]
  },
  {
   "cell_type": "code",
   "execution_count": 4,
   "metadata": {
    "collapsed": false
   },
   "outputs": [
    {
     "data": {
      "text/html": [
       "<div>\n",
       "<table border=\"1\" class=\"dataframe\">\n",
       "  <thead>\n",
       "    <tr style=\"text-align: right;\">\n",
       "      <th></th>\n",
       "      <th>gvkey</th>\n",
       "      <th>datadate</th>\n",
       "      <th>fyear</th>\n",
       "      <th>indfmt</th>\n",
       "      <th>consol</th>\n",
       "      <th>popsrc</th>\n",
       "      <th>datafmt</th>\n",
       "      <th>tic</th>\n",
       "      <th>conm</th>\n",
       "      <th>curcd</th>\n",
       "      <th>...</th>\n",
       "      <th>ni_fn</th>\n",
       "      <th>re_fn</th>\n",
       "      <th>sale_fn</th>\n",
       "      <th>xint_fn</th>\n",
       "      <th>addzip</th>\n",
       "      <th>city</th>\n",
       "      <th>dlrsn</th>\n",
       "      <th>fyrc</th>\n",
       "      <th>state</th>\n",
       "      <th>dldte</th>\n",
       "    </tr>\n",
       "  </thead>\n",
       "  <tbody>\n",
       "    <tr>\n",
       "      <th>0</th>\n",
       "      <td>1004</td>\n",
       "      <td>19950531</td>\n",
       "      <td>1994.0</td>\n",
       "      <td>INDL</td>\n",
       "      <td>C</td>\n",
       "      <td>D</td>\n",
       "      <td>STD</td>\n",
       "      <td>AIR</td>\n",
       "      <td>AAR CORP</td>\n",
       "      <td>USD</td>\n",
       "      <td>...</td>\n",
       "      <td>NaN</td>\n",
       "      <td>NaN</td>\n",
       "      <td>NaN</td>\n",
       "      <td>NaN</td>\n",
       "      <td>60191</td>\n",
       "      <td>Wood Dale</td>\n",
       "      <td>NaN</td>\n",
       "      <td>5</td>\n",
       "      <td>IL</td>\n",
       "      <td>NaN</td>\n",
       "    </tr>\n",
       "    <tr>\n",
       "      <th>1</th>\n",
       "      <td>1004</td>\n",
       "      <td>19960531</td>\n",
       "      <td>1995.0</td>\n",
       "      <td>INDL</td>\n",
       "      <td>C</td>\n",
       "      <td>D</td>\n",
       "      <td>STD</td>\n",
       "      <td>AIR</td>\n",
       "      <td>AAR CORP</td>\n",
       "      <td>USD</td>\n",
       "      <td>...</td>\n",
       "      <td>NaN</td>\n",
       "      <td>NaN</td>\n",
       "      <td>NaN</td>\n",
       "      <td>NaN</td>\n",
       "      <td>60191</td>\n",
       "      <td>Wood Dale</td>\n",
       "      <td>NaN</td>\n",
       "      <td>5</td>\n",
       "      <td>IL</td>\n",
       "      <td>NaN</td>\n",
       "    </tr>\n",
       "    <tr>\n",
       "      <th>2</th>\n",
       "      <td>1004</td>\n",
       "      <td>19970531</td>\n",
       "      <td>1996.0</td>\n",
       "      <td>INDL</td>\n",
       "      <td>C</td>\n",
       "      <td>D</td>\n",
       "      <td>STD</td>\n",
       "      <td>AIR</td>\n",
       "      <td>AAR CORP</td>\n",
       "      <td>USD</td>\n",
       "      <td>...</td>\n",
       "      <td>NaN</td>\n",
       "      <td>NaN</td>\n",
       "      <td>NaN</td>\n",
       "      <td>NaN</td>\n",
       "      <td>60191</td>\n",
       "      <td>Wood Dale</td>\n",
       "      <td>NaN</td>\n",
       "      <td>5</td>\n",
       "      <td>IL</td>\n",
       "      <td>NaN</td>\n",
       "    </tr>\n",
       "  </tbody>\n",
       "</table>\n",
       "<p>3 rows × 44 columns</p>\n",
       "</div>"
      ],
      "text/plain": [
       "   gvkey  datadate   fyear indfmt consol popsrc datafmt  tic      conm curcd  \\\n",
       "0   1004  19950531  1994.0   INDL      C      D     STD  AIR  AAR CORP   USD   \n",
       "1   1004  19960531  1995.0   INDL      C      D     STD  AIR  AAR CORP   USD   \n",
       "2   1004  19970531  1996.0   INDL      C      D     STD  AIR  AAR CORP   USD   \n",
       "\n",
       "   ...    ni_fn  re_fn  sale_fn  xint_fn  addzip       city  dlrsn  fyrc  \\\n",
       "0  ...      NaN    NaN      NaN      NaN   60191  Wood Dale    NaN     5   \n",
       "1  ...      NaN    NaN      NaN      NaN   60191  Wood Dale    NaN     5   \n",
       "2  ...      NaN    NaN      NaN      NaN   60191  Wood Dale    NaN     5   \n",
       "\n",
       "   state  dldte  \n",
       "0     IL    NaN  \n",
       "1     IL    NaN  \n",
       "2     IL    NaN  \n",
       "\n",
       "[3 rows x 44 columns]"
      ]
     },
     "execution_count": 4,
     "metadata": {},
     "output_type": "execute_result"
    }
   ],
   "source": [
    "fin_data.head(3)"
   ]
  },
  {
   "cell_type": "code",
   "execution_count": 5,
   "metadata": {
    "collapsed": false
   },
   "outputs": [
    {
     "data": {
      "text/plain": [
       "array([ 2003.,  2004.,  2005.,  2006.,  2007.,  2008.,  2009.,  2010.,\n",
       "        2011.,  2012.,  2013.,  2014.])"
      ]
     },
     "execution_count": 5,
     "metadata": {},
     "output_type": "execute_result"
    }
   ],
   "source": [
    "# filter the last decade sme data\n",
    "fin_data_dec1 = fin_data[(fin_data['fyear'] > 2002) & (fin_data['fyear'] < 2015) & (fin_data['fic'] == 'USA') \\\n",
    "                        & (fin_data['curcd'] == 'USD')]\n",
    "fin_data_dec1['fyear'].unique()"
   ]
  },
  {
   "cell_type": "code",
   "execution_count": 6,
   "metadata": {
    "collapsed": false
   },
   "outputs": [
    {
     "data": {
      "text/html": [
       "<div>\n",
       "<table border=\"1\" class=\"dataframe\">\n",
       "  <thead>\n",
       "    <tr style=\"text-align: right;\">\n",
       "      <th></th>\n",
       "      <th>gvkey</th>\n",
       "      <th>datadate</th>\n",
       "      <th>fyear</th>\n",
       "      <th>indfmt</th>\n",
       "      <th>consol</th>\n",
       "      <th>popsrc</th>\n",
       "      <th>datafmt</th>\n",
       "      <th>tic</th>\n",
       "      <th>conm</th>\n",
       "      <th>curcd</th>\n",
       "      <th>...</th>\n",
       "      <th>ni_fn</th>\n",
       "      <th>re_fn</th>\n",
       "      <th>sale_fn</th>\n",
       "      <th>xint_fn</th>\n",
       "      <th>addzip</th>\n",
       "      <th>city</th>\n",
       "      <th>dlrsn</th>\n",
       "      <th>fyrc</th>\n",
       "      <th>state</th>\n",
       "      <th>dldte</th>\n",
       "    </tr>\n",
       "  </thead>\n",
       "  <tbody>\n",
       "    <tr>\n",
       "      <th>233370</th>\n",
       "      <td>311524</td>\n",
       "      <td>20131231</td>\n",
       "      <td>2013.0</td>\n",
       "      <td>INDL</td>\n",
       "      <td>C</td>\n",
       "      <td>D</td>\n",
       "      <td>STD</td>\n",
       "      <td>TAM</td>\n",
       "      <td>TAMINCO CORP</td>\n",
       "      <td>USD</td>\n",
       "      <td>...</td>\n",
       "      <td>GP</td>\n",
       "      <td>NaN</td>\n",
       "      <td>NaN</td>\n",
       "      <td>QA</td>\n",
       "      <td>18195</td>\n",
       "      <td>Allentown</td>\n",
       "      <td>1.0</td>\n",
       "      <td>12</td>\n",
       "      <td>PA</td>\n",
       "      <td>20141208.0</td>\n",
       "    </tr>\n",
       "    <tr>\n",
       "      <th>233389</th>\n",
       "      <td>315318</td>\n",
       "      <td>20111231</td>\n",
       "      <td>2011.0</td>\n",
       "      <td>INDL</td>\n",
       "      <td>C</td>\n",
       "      <td>D</td>\n",
       "      <td>STD</td>\n",
       "      <td>PAH</td>\n",
       "      <td>PLATFORM SPECIALTY PRODUCTS</td>\n",
       "      <td>USD</td>\n",
       "      <td>...</td>\n",
       "      <td>NaN</td>\n",
       "      <td>NaN</td>\n",
       "      <td>NaN</td>\n",
       "      <td>NaN</td>\n",
       "      <td>33401</td>\n",
       "      <td>West Palm Beach</td>\n",
       "      <td>NaN</td>\n",
       "      <td>12</td>\n",
       "      <td>FL</td>\n",
       "      <td>NaN</td>\n",
       "    </tr>\n",
       "    <tr>\n",
       "      <th>233390</th>\n",
       "      <td>315318</td>\n",
       "      <td>20121231</td>\n",
       "      <td>2012.0</td>\n",
       "      <td>INDL</td>\n",
       "      <td>C</td>\n",
       "      <td>D</td>\n",
       "      <td>STD</td>\n",
       "      <td>PAH</td>\n",
       "      <td>PLATFORM SPECIALTY PRODUCTS</td>\n",
       "      <td>USD</td>\n",
       "      <td>...</td>\n",
       "      <td>NaN</td>\n",
       "      <td>NaN</td>\n",
       "      <td>AA</td>\n",
       "      <td>QA</td>\n",
       "      <td>33401</td>\n",
       "      <td>West Palm Beach</td>\n",
       "      <td>NaN</td>\n",
       "      <td>12</td>\n",
       "      <td>FL</td>\n",
       "      <td>NaN</td>\n",
       "    </tr>\n",
       "    <tr>\n",
       "      <th>233391</th>\n",
       "      <td>315318</td>\n",
       "      <td>20131231</td>\n",
       "      <td>2013.0</td>\n",
       "      <td>INDL</td>\n",
       "      <td>C</td>\n",
       "      <td>D</td>\n",
       "      <td>STD</td>\n",
       "      <td>PAH</td>\n",
       "      <td>PLATFORM SPECIALTY PRODUCTS</td>\n",
       "      <td>USD</td>\n",
       "      <td>...</td>\n",
       "      <td>NaN</td>\n",
       "      <td>NaN</td>\n",
       "      <td>AA</td>\n",
       "      <td>NaN</td>\n",
       "      <td>33401</td>\n",
       "      <td>West Palm Beach</td>\n",
       "      <td>NaN</td>\n",
       "      <td>12</td>\n",
       "      <td>FL</td>\n",
       "      <td>NaN</td>\n",
       "    </tr>\n",
       "    <tr>\n",
       "      <th>233392</th>\n",
       "      <td>315318</td>\n",
       "      <td>20141231</td>\n",
       "      <td>2014.0</td>\n",
       "      <td>INDL</td>\n",
       "      <td>C</td>\n",
       "      <td>D</td>\n",
       "      <td>STD</td>\n",
       "      <td>PAH</td>\n",
       "      <td>PLATFORM SPECIALTY PRODUCTS</td>\n",
       "      <td>USD</td>\n",
       "      <td>...</td>\n",
       "      <td>NaN</td>\n",
       "      <td>NaN</td>\n",
       "      <td>AA</td>\n",
       "      <td>NaN</td>\n",
       "      <td>33401</td>\n",
       "      <td>West Palm Beach</td>\n",
       "      <td>NaN</td>\n",
       "      <td>12</td>\n",
       "      <td>FL</td>\n",
       "      <td>NaN</td>\n",
       "    </tr>\n",
       "  </tbody>\n",
       "</table>\n",
       "<p>5 rows × 44 columns</p>\n",
       "</div>"
      ],
      "text/plain": [
       "         gvkey  datadate   fyear indfmt consol popsrc datafmt  tic  \\\n",
       "233370  311524  20131231  2013.0   INDL      C      D     STD  TAM   \n",
       "233389  315318  20111231  2011.0   INDL      C      D     STD  PAH   \n",
       "233390  315318  20121231  2012.0   INDL      C      D     STD  PAH   \n",
       "233391  315318  20131231  2013.0   INDL      C      D     STD  PAH   \n",
       "233392  315318  20141231  2014.0   INDL      C      D     STD  PAH   \n",
       "\n",
       "                               conm curcd     ...      ni_fn  re_fn  sale_fn  \\\n",
       "233370                 TAMINCO CORP   USD     ...         GP    NaN      NaN   \n",
       "233389  PLATFORM SPECIALTY PRODUCTS   USD     ...        NaN    NaN      NaN   \n",
       "233390  PLATFORM SPECIALTY PRODUCTS   USD     ...        NaN    NaN       AA   \n",
       "233391  PLATFORM SPECIALTY PRODUCTS   USD     ...        NaN    NaN       AA   \n",
       "233392  PLATFORM SPECIALTY PRODUCTS   USD     ...        NaN    NaN       AA   \n",
       "\n",
       "        xint_fn  addzip             city  dlrsn  fyrc  state       dldte  \n",
       "233370       QA   18195        Allentown    1.0    12     PA  20141208.0  \n",
       "233389      NaN   33401  West Palm Beach    NaN    12     FL         NaN  \n",
       "233390       QA   33401  West Palm Beach    NaN    12     FL         NaN  \n",
       "233391      NaN   33401  West Palm Beach    NaN    12     FL         NaN  \n",
       "233392      NaN   33401  West Palm Beach    NaN    12     FL         NaN  \n",
       "\n",
       "[5 rows x 44 columns]"
      ]
     },
     "execution_count": 6,
     "metadata": {},
     "output_type": "execute_result"
    }
   ],
   "source": [
    "fin_data_dec1.tail()"
   ]
  },
  {
   "cell_type": "code",
   "execution_count": 7,
   "metadata": {
    "collapsed": false
   },
   "outputs": [
    {
     "name": "stderr",
     "output_type": "stream",
     "text": [
      "C:\\Users\\babsab\\Anaconda2\\lib\\site-packages\\ipykernel\\__main__.py:2: UserWarning: Boolean Series key will be reindexed to match DataFrame index.\n",
      "  from ipykernel import kernelapp as app\n"
     ]
    }
   ],
   "source": [
    "# filter the data for bankrupt enterprizes\n",
    "bkrpt_ent_data = fin_data_dec1[fin_data['dlrsn'] == 2]"
   ]
  },
  {
   "cell_type": "code",
   "execution_count": 8,
   "metadata": {
    "collapsed": false
   },
   "outputs": [
    {
     "data": {
      "text/html": [
       "<div>\n",
       "<table border=\"1\" class=\"dataframe\">\n",
       "  <thead>\n",
       "    <tr style=\"text-align: right;\">\n",
       "      <th></th>\n",
       "      <th>ticker</th>\n",
       "      <th>name</th>\n",
       "      <th>bkrpt_date</th>\n",
       "    </tr>\n",
       "  </thead>\n",
       "  <tbody>\n",
       "    <tr>\n",
       "      <th>0</th>\n",
       "      <td>KYC.</td>\n",
       "      <td>KEYSTONE CAMERA PRODUCTS</td>\n",
       "      <td>19920331.0</td>\n",
       "    </tr>\n",
       "    <tr>\n",
       "      <th>1</th>\n",
       "      <td>3HDTV.</td>\n",
       "      <td>HI-DEF ENTERPRISE INC</td>\n",
       "      <td>19930331.0</td>\n",
       "    </tr>\n",
       "    <tr>\n",
       "      <th>2</th>\n",
       "      <td>NAMS</td>\n",
       "      <td>NAMSCO CORP</td>\n",
       "      <td>19940331.0</td>\n",
       "    </tr>\n",
       "    <tr>\n",
       "      <th>3</th>\n",
       "      <td>3SCRD</td>\n",
       "      <td>SCIENTIFIC RADIO SYSTEMS INC</td>\n",
       "      <td>19950930.0</td>\n",
       "    </tr>\n",
       "    <tr>\n",
       "      <th>4</th>\n",
       "      <td>REDL</td>\n",
       "      <td>REDLINE PERFORMANCE PRODS</td>\n",
       "      <td>20040827.0</td>\n",
       "    </tr>\n",
       "  </tbody>\n",
       "</table>\n",
       "</div>"
      ],
      "text/plain": [
       "   ticker                          name  bkrpt_date\n",
       "0    KYC.      KEYSTONE CAMERA PRODUCTS  19920331.0\n",
       "1  3HDTV.         HI-DEF ENTERPRISE INC  19930331.0\n",
       "2    NAMS                   NAMSCO CORP  19940331.0\n",
       "3   3SCRD  SCIENTIFIC RADIO SYSTEMS INC  19950930.0\n",
       "4    REDL     REDLINE PERFORMANCE PRODS  20040827.0"
      ]
     },
     "execution_count": 8,
     "metadata": {},
     "output_type": "execute_result"
    }
   ],
   "source": [
    "# create a list of bankrupt enterprizes\n",
    "bkrpt_ent = bkrpt_ent_data[['tic', 'conm', 'fyear', 'dlrsn', 'dldte']]\n",
    "bkrpt_ent.columns = ['ticker', 'name', 'fin_year', 'dlrsn', 'bkrpt_date']\n",
    "bkrpt_ent = bkrpt_ent.drop_duplicates(subset = ['ticker', 'name'], keep = 'last')\n",
    "bkrpt_ent = bkrpt_ent.sort_values(by = 'bkrpt_date')\n",
    "bkrpt_ent = bkrpt_ent.set_index('ticker').reset_index()\n",
    "bkrpt_ent = bkrpt_ent.drop(['fin_year', 'dlrsn'], 1)\n",
    "bkrpt_ent.head()"
   ]
  },
  {
   "cell_type": "code",
   "execution_count": 9,
   "metadata": {
    "collapsed": true
   },
   "outputs": [],
   "source": [
    "def conv(x):\n",
    "    return pd.Period(year = x // 10000, month = x//100 % 100, day = x%100, freq='D')\n",
    "\n",
    "bkrpt_ent['bkrpt_date'] = bkrpt_ent['bkrpt_date'].apply(conv)"
   ]
  },
  {
   "cell_type": "code",
   "execution_count": 10,
   "metadata": {
    "collapsed": false
   },
   "outputs": [
    {
     "name": "stdout",
     "output_type": "stream",
     "text": [
      "Total enterprizes defaulted during or after 2009  :  87\n"
     ]
    },
    {
     "data": {
      "text/html": [
       "<div>\n",
       "<table border=\"1\" class=\"dataframe\">\n",
       "  <thead>\n",
       "    <tr style=\"text-align: right;\">\n",
       "      <th></th>\n",
       "      <th>ticker</th>\n",
       "      <th>name</th>\n",
       "      <th>bkrpt_date</th>\n",
       "    </tr>\n",
       "  </thead>\n",
       "  <tbody>\n",
       "    <tr>\n",
       "      <th>91</th>\n",
       "      <td>FWMHQ</td>\n",
       "      <td>FAIRWAY GROUP HOLDINGS</td>\n",
       "      <td>2016-07-07</td>\n",
       "    </tr>\n",
       "    <tr>\n",
       "      <th>92</th>\n",
       "      <td>ANRZQ</td>\n",
       "      <td>ALPHA NATURAL RESOURCES INC</td>\n",
       "      <td>2016-07-28</td>\n",
       "    </tr>\n",
       "    <tr>\n",
       "      <th>93</th>\n",
       "      <td>DXMMQ</td>\n",
       "      <td>DEX MEDIA INC</td>\n",
       "      <td>2016-08-01</td>\n",
       "    </tr>\n",
       "    <tr>\n",
       "      <th>94</th>\n",
       "      <td>SMXIQ</td>\n",
       "      <td>SEBRING SOFTWARE INC</td>\n",
       "      <td>2016-08-15</td>\n",
       "    </tr>\n",
       "    <tr>\n",
       "      <th>95</th>\n",
       "      <td>KWKAQ</td>\n",
       "      <td>QUICKSILVER RESOURCES INC</td>\n",
       "      <td>2016-09-01</td>\n",
       "    </tr>\n",
       "  </tbody>\n",
       "</table>\n",
       "</div>"
      ],
      "text/plain": [
       "   ticker                         name bkrpt_date\n",
       "91  FWMHQ       FAIRWAY GROUP HOLDINGS 2016-07-07\n",
       "92  ANRZQ  ALPHA NATURAL RESOURCES INC 2016-07-28\n",
       "93  DXMMQ                DEX MEDIA INC 2016-08-01\n",
       "94  SMXIQ         SEBRING SOFTWARE INC 2016-08-15\n",
       "95  KWKAQ    QUICKSILVER RESOURCES INC 2016-09-01"
      ]
     },
     "execution_count": 10,
     "metadata": {},
     "output_type": "execute_result"
    }
   ],
   "source": [
    "# filter the enterprizes that defaulted during or after 2011\n",
    "year = 2009\n",
    "bkrpt_ent = bkrpt_ent[bkrpt_ent['bkrpt_date'] > pd.Period(year = year, month = 1, day = 1, freq='D')]\n",
    "print \"Total enterprizes defaulted during or after\", year, \" : \", len(bkrpt_ent)\n",
    "bkrpt_ent.tail()"
   ]
  },
  {
   "cell_type": "code",
   "execution_count": 11,
   "metadata": {
    "collapsed": false
   },
   "outputs": [
    {
     "data": {
      "text/html": [
       "<div>\n",
       "<table border=\"1\" class=\"dataframe\">\n",
       "  <thead>\n",
       "    <tr style=\"text-align: right;\">\n",
       "      <th></th>\n",
       "      <th>gvkey</th>\n",
       "      <th>datadate</th>\n",
       "      <th>fyear</th>\n",
       "      <th>indfmt</th>\n",
       "      <th>consol</th>\n",
       "      <th>popsrc</th>\n",
       "      <th>datafmt</th>\n",
       "      <th>tic</th>\n",
       "      <th>conm</th>\n",
       "      <th>curcd</th>\n",
       "      <th>...</th>\n",
       "      <th>ni_fn</th>\n",
       "      <th>re_fn</th>\n",
       "      <th>sale_fn</th>\n",
       "      <th>xint_fn</th>\n",
       "      <th>addzip</th>\n",
       "      <th>city</th>\n",
       "      <th>dlrsn</th>\n",
       "      <th>fyrc</th>\n",
       "      <th>state</th>\n",
       "      <th>dldte</th>\n",
       "    </tr>\n",
       "  </thead>\n",
       "  <tbody>\n",
       "    <tr>\n",
       "      <th>0</th>\n",
       "      <td>1367</td>\n",
       "      <td>20030630</td>\n",
       "      <td>2003.0</td>\n",
       "      <td>INDL</td>\n",
       "      <td>C</td>\n",
       "      <td>D</td>\n",
       "      <td>STD</td>\n",
       "      <td>3AMBEQ</td>\n",
       "      <td>AMBER RESOURCES CO OF COLO</td>\n",
       "      <td>USD</td>\n",
       "      <td>...</td>\n",
       "      <td>NaN</td>\n",
       "      <td>NaN</td>\n",
       "      <td>NaN</td>\n",
       "      <td>NaN</td>\n",
       "      <td>80202</td>\n",
       "      <td>Denver</td>\n",
       "      <td>2.0</td>\n",
       "      <td>12</td>\n",
       "      <td>CO</td>\n",
       "      <td>20120831.0</td>\n",
       "    </tr>\n",
       "    <tr>\n",
       "      <th>1</th>\n",
       "      <td>1367</td>\n",
       "      <td>20040630</td>\n",
       "      <td>2004.0</td>\n",
       "      <td>INDL</td>\n",
       "      <td>C</td>\n",
       "      <td>D</td>\n",
       "      <td>STD</td>\n",
       "      <td>3AMBEQ</td>\n",
       "      <td>AMBER RESOURCES CO OF COLO</td>\n",
       "      <td>USD</td>\n",
       "      <td>...</td>\n",
       "      <td>NaN</td>\n",
       "      <td>NaN</td>\n",
       "      <td>NaN</td>\n",
       "      <td>NaN</td>\n",
       "      <td>80202</td>\n",
       "      <td>Denver</td>\n",
       "      <td>2.0</td>\n",
       "      <td>12</td>\n",
       "      <td>CO</td>\n",
       "      <td>20120831.0</td>\n",
       "    </tr>\n",
       "    <tr>\n",
       "      <th>2</th>\n",
       "      <td>1367</td>\n",
       "      <td>20050630</td>\n",
       "      <td>2005.0</td>\n",
       "      <td>INDL</td>\n",
       "      <td>C</td>\n",
       "      <td>D</td>\n",
       "      <td>STD</td>\n",
       "      <td>3AMBEQ</td>\n",
       "      <td>AMBER RESOURCES CO OF COLO</td>\n",
       "      <td>USD</td>\n",
       "      <td>...</td>\n",
       "      <td>NaN</td>\n",
       "      <td>NaN</td>\n",
       "      <td>NaN</td>\n",
       "      <td>NaN</td>\n",
       "      <td>80202</td>\n",
       "      <td>Denver</td>\n",
       "      <td>2.0</td>\n",
       "      <td>12</td>\n",
       "      <td>CO</td>\n",
       "      <td>20120831.0</td>\n",
       "    </tr>\n",
       "  </tbody>\n",
       "</table>\n",
       "<p>3 rows × 44 columns</p>\n",
       "</div>"
      ],
      "text/plain": [
       "   gvkey  datadate   fyear indfmt consol popsrc datafmt     tic  \\\n",
       "0   1367  20030630  2003.0   INDL      C      D     STD  3AMBEQ   \n",
       "1   1367  20040630  2004.0   INDL      C      D     STD  3AMBEQ   \n",
       "2   1367  20050630  2005.0   INDL      C      D     STD  3AMBEQ   \n",
       "\n",
       "                         conm curcd     ...      ni_fn  re_fn  sale_fn  \\\n",
       "0  AMBER RESOURCES CO OF COLO   USD     ...        NaN    NaN      NaN   \n",
       "1  AMBER RESOURCES CO OF COLO   USD     ...        NaN    NaN      NaN   \n",
       "2  AMBER RESOURCES CO OF COLO   USD     ...        NaN    NaN      NaN   \n",
       "\n",
       "   xint_fn  addzip    city  dlrsn  fyrc  state       dldte  \n",
       "0      NaN   80202  Denver    2.0    12     CO  20120831.0  \n",
       "1      NaN   80202  Denver    2.0    12     CO  20120831.0  \n",
       "2      NaN   80202  Denver    2.0    12     CO  20120831.0  \n",
       "\n",
       "[3 rows x 44 columns]"
      ]
     },
     "execution_count": 11,
     "metadata": {},
     "output_type": "execute_result"
    }
   ],
   "source": [
    "# keep only the above enterprizes in the last decade default data\n",
    "# merge bkrpt_ent_data with the bkrpt_ent on ticker, lh = later half\n",
    "bkrpt_lh = bkrpt_ent_data.merge(bkrpt_ent, how='right', left_on='tic', right_on='ticker')\n",
    "bkrpt_lh = bkrpt_lh.drop(['ticker', 'name', 'bkrpt_date'], 1)\n",
    "bkrpt_lh.head(3)"
   ]
  },
  {
   "cell_type": "code",
   "execution_count": 12,
   "metadata": {
    "collapsed": false
   },
   "outputs": [
    {
     "name": "stderr",
     "output_type": "stream",
     "text": [
      "C:\\Users\\babsab\\Anaconda2\\lib\\site-packages\\ipykernel\\__main__.py:2: UserWarning: Boolean Series key will be reindexed to match DataFrame index.\n",
      "  from ipykernel import kernelapp as app\n"
     ]
    },
    {
     "data": {
      "text/plain": [
       "(98016, 44)"
      ]
     },
     "execution_count": 12,
     "metadata": {},
     "output_type": "execute_result"
    }
   ],
   "source": [
    "# filter the data for non-defaulting enterprizes\n",
    "nd_ent = fin_data_dec1[fin_data['dlrsn'] != 2]\n",
    "nd_ent.shape"
   ]
  },
  {
   "cell_type": "code",
   "execution_count": 13,
   "metadata": {
    "collapsed": false
   },
   "outputs": [
    {
     "data": {
      "text/plain": [
       "(98616, 44)"
      ]
     },
     "execution_count": 13,
     "metadata": {},
     "output_type": "execute_result"
    }
   ],
   "source": [
    "# concat the default and non-default data\n",
    "dec1 = pd.concat([bkrpt_lh, nd_ent])\n",
    "dec1.shape"
   ]
  },
  {
   "cell_type": "code",
   "execution_count": 14,
   "metadata": {
    "collapsed": false
   },
   "outputs": [
    {
     "data": {
      "text/plain": [
       "(98616, 45)"
      ]
     },
     "execution_count": 14,
     "metadata": {},
     "output_type": "execute_result"
    }
   ],
   "source": [
    "# add default column\n",
    "dec1.ix[dec1['dlrsn']==2,'default'] = 1;\n",
    "dec1.ix[dec1['dlrsn']!=2,'default'] = 0;\n",
    "dec1.shape"
   ]
  },
  {
   "cell_type": "code",
   "execution_count": 15,
   "metadata": {
    "collapsed": false
   },
   "outputs": [
    {
     "data": {
      "text/html": [
       "<div>\n",
       "<table border=\"1\" class=\"dataframe\">\n",
       "  <thead>\n",
       "    <tr style=\"text-align: right;\">\n",
       "      <th></th>\n",
       "      <th>tic</th>\n",
       "      <th>gvkey</th>\n",
       "      <th>datadate</th>\n",
       "      <th>fyear</th>\n",
       "      <th>indfmt</th>\n",
       "      <th>consol</th>\n",
       "      <th>popsrc</th>\n",
       "      <th>datafmt</th>\n",
       "      <th>conm</th>\n",
       "      <th>curcd</th>\n",
       "      <th>...</th>\n",
       "      <th>re_fn</th>\n",
       "      <th>sale_fn</th>\n",
       "      <th>xint_fn</th>\n",
       "      <th>addzip</th>\n",
       "      <th>city</th>\n",
       "      <th>dlrsn</th>\n",
       "      <th>fyrc</th>\n",
       "      <th>state</th>\n",
       "      <th>dldte</th>\n",
       "      <th>default</th>\n",
       "    </tr>\n",
       "  </thead>\n",
       "  <tbody>\n",
       "    <tr>\n",
       "      <th>0</th>\n",
       "      <td>3AMBEQ</td>\n",
       "      <td>1367</td>\n",
       "      <td>20030630</td>\n",
       "      <td>2003.0</td>\n",
       "      <td>INDL</td>\n",
       "      <td>C</td>\n",
       "      <td>D</td>\n",
       "      <td>STD</td>\n",
       "      <td>AMBER RESOURCES CO OF COLO</td>\n",
       "      <td>USD</td>\n",
       "      <td>...</td>\n",
       "      <td>NaN</td>\n",
       "      <td>NaN</td>\n",
       "      <td>NaN</td>\n",
       "      <td>80202</td>\n",
       "      <td>Denver</td>\n",
       "      <td>2.0</td>\n",
       "      <td>12</td>\n",
       "      <td>CO</td>\n",
       "      <td>20120831.0</td>\n",
       "      <td>1.0</td>\n",
       "    </tr>\n",
       "    <tr>\n",
       "      <th>1</th>\n",
       "      <td>3AMBEQ</td>\n",
       "      <td>1367</td>\n",
       "      <td>20040630</td>\n",
       "      <td>2004.0</td>\n",
       "      <td>INDL</td>\n",
       "      <td>C</td>\n",
       "      <td>D</td>\n",
       "      <td>STD</td>\n",
       "      <td>AMBER RESOURCES CO OF COLO</td>\n",
       "      <td>USD</td>\n",
       "      <td>...</td>\n",
       "      <td>NaN</td>\n",
       "      <td>NaN</td>\n",
       "      <td>NaN</td>\n",
       "      <td>80202</td>\n",
       "      <td>Denver</td>\n",
       "      <td>2.0</td>\n",
       "      <td>12</td>\n",
       "      <td>CO</td>\n",
       "      <td>20120831.0</td>\n",
       "      <td>1.0</td>\n",
       "    </tr>\n",
       "    <tr>\n",
       "      <th>2</th>\n",
       "      <td>3AMBEQ</td>\n",
       "      <td>1367</td>\n",
       "      <td>20050630</td>\n",
       "      <td>2005.0</td>\n",
       "      <td>INDL</td>\n",
       "      <td>C</td>\n",
       "      <td>D</td>\n",
       "      <td>STD</td>\n",
       "      <td>AMBER RESOURCES CO OF COLO</td>\n",
       "      <td>USD</td>\n",
       "      <td>...</td>\n",
       "      <td>NaN</td>\n",
       "      <td>NaN</td>\n",
       "      <td>NaN</td>\n",
       "      <td>80202</td>\n",
       "      <td>Denver</td>\n",
       "      <td>2.0</td>\n",
       "      <td>12</td>\n",
       "      <td>CO</td>\n",
       "      <td>20120831.0</td>\n",
       "      <td>1.0</td>\n",
       "    </tr>\n",
       "  </tbody>\n",
       "</table>\n",
       "<p>3 rows × 45 columns</p>\n",
       "</div>"
      ],
      "text/plain": [
       "      tic  gvkey  datadate   fyear indfmt consol popsrc datafmt  \\\n",
       "0  3AMBEQ   1367  20030630  2003.0   INDL      C      D     STD   \n",
       "1  3AMBEQ   1367  20040630  2004.0   INDL      C      D     STD   \n",
       "2  3AMBEQ   1367  20050630  2005.0   INDL      C      D     STD   \n",
       "\n",
       "                         conm curcd   ...     re_fn  sale_fn  xint_fn  addzip  \\\n",
       "0  AMBER RESOURCES CO OF COLO   USD   ...       NaN      NaN      NaN   80202   \n",
       "1  AMBER RESOURCES CO OF COLO   USD   ...       NaN      NaN      NaN   80202   \n",
       "2  AMBER RESOURCES CO OF COLO   USD   ...       NaN      NaN      NaN   80202   \n",
       "\n",
       "     city  dlrsn  fyrc  state       dldte  default  \n",
       "0  Denver    2.0    12     CO  20120831.0      1.0  \n",
       "1  Denver    2.0    12     CO  20120831.0      1.0  \n",
       "2  Denver    2.0    12     CO  20120831.0      1.0  \n",
       "\n",
       "[3 rows x 45 columns]"
      ]
     },
     "execution_count": 15,
     "metadata": {},
     "output_type": "execute_result"
    }
   ],
   "source": [
    "fcwise = dec1.set_index('tic', 'fyear').reset_index()\n",
    "fcwise.head(3)"
   ]
  },
  {
   "cell_type": "code",
   "execution_count": 16,
   "metadata": {
    "collapsed": false
   },
   "outputs": [
    {
     "data": {
      "text/plain": [
       "5482"
      ]
     },
     "execution_count": 16,
     "metadata": {},
     "output_type": "execute_result"
    }
   ],
   "source": [
    "# filter small and medium enterprizes - those with average sale less than $65M\n",
    "avg_sale = fcwise[['tic', 'conm', 'sale']].groupby('tic').mean()\n",
    "sme_sales = avg_sale[avg_sale['sale'] <= 65]\n",
    "sme_sales = sme_sales.reset_index()\n",
    "len(sme_sales)"
   ]
  },
  {
   "cell_type": "code",
   "execution_count": 17,
   "metadata": {
    "collapsed": false
   },
   "outputs": [
    {
     "data": {
      "text/plain": [
       "(32213, 45)"
      ]
     },
     "execution_count": 17,
     "metadata": {},
     "output_type": "execute_result"
    }
   ],
   "source": [
    "# keep only the sme data in sme_data\n",
    "sme_data = fcwise.merge(sme_sales, how='right', left_on='tic', right_on='tic')\n",
    "sme_data = sme_data.drop('sale_y', 1)\n",
    "sme_data.shape"
   ]
  },
  {
   "cell_type": "code",
   "execution_count": 18,
   "metadata": {
    "collapsed": false
   },
   "outputs": [
    {
     "data": {
      "text/html": [
       "<div>\n",
       "<table border=\"1\" class=\"dataframe\">\n",
       "  <thead>\n",
       "    <tr style=\"text-align: right;\">\n",
       "      <th>default</th>\n",
       "      <th>0.0</th>\n",
       "      <th>1.0</th>\n",
       "      <th>ratio</th>\n",
       "    </tr>\n",
       "    <tr>\n",
       "      <th>fyear</th>\n",
       "      <th></th>\n",
       "      <th></th>\n",
       "      <th></th>\n",
       "    </tr>\n",
       "  </thead>\n",
       "  <tbody>\n",
       "    <tr>\n",
       "      <th>2003.0</th>\n",
       "      <td>3168</td>\n",
       "      <td>23</td>\n",
       "      <td>137.739130</td>\n",
       "    </tr>\n",
       "    <tr>\n",
       "      <th>2004.0</th>\n",
       "      <td>3010</td>\n",
       "      <td>26</td>\n",
       "      <td>115.769231</td>\n",
       "    </tr>\n",
       "    <tr>\n",
       "      <th>2005.0</th>\n",
       "      <td>2873</td>\n",
       "      <td>27</td>\n",
       "      <td>106.407407</td>\n",
       "    </tr>\n",
       "    <tr>\n",
       "      <th>2006.0</th>\n",
       "      <td>2798</td>\n",
       "      <td>27</td>\n",
       "      <td>103.629630</td>\n",
       "    </tr>\n",
       "    <tr>\n",
       "      <th>2007.0</th>\n",
       "      <td>2684</td>\n",
       "      <td>27</td>\n",
       "      <td>99.407407</td>\n",
       "    </tr>\n",
       "  </tbody>\n",
       "</table>\n",
       "</div>"
      ],
      "text/plain": [
       "default   0.0  1.0       ratio\n",
       "fyear                         \n",
       "2003.0   3168   23  137.739130\n",
       "2004.0   3010   26  115.769231\n",
       "2005.0   2873   27  106.407407\n",
       "2006.0   2798   27  103.629630\n",
       "2007.0   2684   27   99.407407"
      ]
     },
     "execution_count": 18,
     "metadata": {},
     "output_type": "execute_result"
    }
   ],
   "source": [
    "fdd1 = sme_data[['fyear', 'tic', 'default']].groupby(['fyear', 'default'])['tic'].count().reset_index()\n",
    "fdd1 = fdd1.set_index(['fyear', 'default'])\n",
    "fdd1 = fdd1.unstack('default')\n",
    "fdd1.columns = fdd1.columns.droplevel(0)\n",
    "fdd1['ratio'] = fdd1.iloc[:,0] / fdd1.iloc[:,1]\n",
    "fdd1.head()"
   ]
  },
  {
   "cell_type": "code",
   "execution_count": 19,
   "metadata": {
    "collapsed": false
   },
   "outputs": [
    {
     "data": {
      "text/plain": [
       "<matplotlib.text.Text at 0x9406208>"
      ]
     },
     "execution_count": 19,
     "metadata": {},
     "output_type": "execute_result"
    },
    {
     "data": {
      "image/png": "[encoded data removed]",
      "text/plain": [
       "<matplotlib.figure.Figure at 0x9406908>"
      ]
     },
     "metadata": {},
     "output_type": "display_data"
    }
   ],
   "source": [
    "ax = fdd1['ratio'].plot(kind='bar')\n",
    "ax.set_ylabel('Ratio of Non Defaulting to\\n Defaulting Enterprizes')\n",
    "ax.set_xlabel('Financial Year')"
   ]
  },
  {
   "cell_type": "code",
   "execution_count": 20,
   "metadata": {
    "collapsed": true
   },
   "outputs": [],
   "source": [
    "# drop not needed columns\n",
    "sme_data = sme_data.drop(['consol', 'popsrc', 'datafmt', 'ap_fn', 'at_fn', 'ni_fn', 're_fn', 'sale_fn', 'xint_fn'], 1)"
   ]
  },
  {
   "cell_type": "code",
   "execution_count": 21,
   "metadata": {
    "collapsed": true
   },
   "outputs": [],
   "source": [
    "sme_d = sme_data[sme_data['default']==1]\n",
    "sme_nd = sme_data[sme_data['default']==0]"
   ]
  },
  {
   "cell_type": "code",
   "execution_count": 22,
   "metadata": {
    "collapsed": false
   },
   "outputs": [
    {
     "name": "stdout",
     "output_type": "stream",
     "text": [
      "shape of sme_data (32213, 36)\n",
      "shape of sme_d (217, 36)\n",
      "shape of sme_nd (31996, 36)\n"
     ]
    }
   ],
   "source": [
    "# now, we have three data sets\n",
    "# 1. sme_data - all enterprizes data\n",
    "# 2. sme_d - defaulting enterprizes data\n",
    "# 3. sme_nd - non-defaulting enterprizes data\n",
    "\n",
    "print 'shape of sme_data', sme_data.shape\n",
    "print 'shape of sme_d', sme_d.shape\n",
    "print 'shape of sme_nd', sme_nd.shape"
   ]
  },
  {
   "cell_type": "code",
   "execution_count": 23,
   "metadata": {
    "collapsed": false
   },
   "outputs": [
    {
     "data": {
      "text/html": [
       "<div>\n",
       "<table border=\"1\" class=\"dataframe\">\n",
       "  <thead>\n",
       "    <tr style=\"text-align: right;\">\n",
       "      <th></th>\n",
       "      <th>ap</th>\n",
       "      <th>at</th>\n",
       "      <th>ceq</th>\n",
       "      <th>ceql</th>\n",
       "      <th>ch</th>\n",
       "      <th>ebit</th>\n",
       "      <th>ebitda</th>\n",
       "      <th>intan</th>\n",
       "      <th>lt</th>\n",
       "      <th>ni</th>\n",
       "      <th>re</th>\n",
       "      <th>recd</th>\n",
       "      <th>rect</th>\n",
       "      <th>rectr</th>\n",
       "      <th>sale_x</th>\n",
       "      <th>seq</th>\n",
       "      <th>teq</th>\n",
       "      <th>wcap</th>\n",
       "      <th>xint</th>\n",
       "    </tr>\n",
       "  </thead>\n",
       "  <tbody>\n",
       "    <tr>\n",
       "      <th>0</th>\n",
       "      <td>9</td>\n",
       "      <td>9</td>\n",
       "      <td>9</td>\n",
       "      <td>9</td>\n",
       "      <td>9</td>\n",
       "      <td>9</td>\n",
       "      <td>9</td>\n",
       "      <td>9</td>\n",
       "      <td>9</td>\n",
       "      <td>9</td>\n",
       "      <td>9</td>\n",
       "      <td>9</td>\n",
       "      <td>9</td>\n",
       "      <td>9</td>\n",
       "      <td>9</td>\n",
       "      <td>9</td>\n",
       "      <td>9</td>\n",
       "      <td>9</td>\n",
       "      <td>9</td>\n",
       "    </tr>\n",
       "    <tr>\n",
       "      <th>1</th>\n",
       "      <td>3</td>\n",
       "      <td>3</td>\n",
       "      <td>3</td>\n",
       "      <td>3</td>\n",
       "      <td>3</td>\n",
       "      <td>3</td>\n",
       "      <td>3</td>\n",
       "      <td>3</td>\n",
       "      <td>3</td>\n",
       "      <td>3</td>\n",
       "      <td>3</td>\n",
       "      <td>1</td>\n",
       "      <td>3</td>\n",
       "      <td>3</td>\n",
       "      <td>3</td>\n",
       "      <td>3</td>\n",
       "      <td>0</td>\n",
       "      <td>3</td>\n",
       "      <td>3</td>\n",
       "    </tr>\n",
       "    <tr>\n",
       "      <th>2</th>\n",
       "      <td>6</td>\n",
       "      <td>6</td>\n",
       "      <td>6</td>\n",
       "      <td>6</td>\n",
       "      <td>6</td>\n",
       "      <td>6</td>\n",
       "      <td>6</td>\n",
       "      <td>6</td>\n",
       "      <td>6</td>\n",
       "      <td>6</td>\n",
       "      <td>6</td>\n",
       "      <td>1</td>\n",
       "      <td>6</td>\n",
       "      <td>6</td>\n",
       "      <td>6</td>\n",
       "      <td>6</td>\n",
       "      <td>0</td>\n",
       "      <td>6</td>\n",
       "      <td>5</td>\n",
       "    </tr>\n",
       "    <tr>\n",
       "      <th>3</th>\n",
       "      <td>6</td>\n",
       "      <td>6</td>\n",
       "      <td>6</td>\n",
       "      <td>6</td>\n",
       "      <td>6</td>\n",
       "      <td>6</td>\n",
       "      <td>6</td>\n",
       "      <td>6</td>\n",
       "      <td>6</td>\n",
       "      <td>6</td>\n",
       "      <td>6</td>\n",
       "      <td>1</td>\n",
       "      <td>6</td>\n",
       "      <td>6</td>\n",
       "      <td>6</td>\n",
       "      <td>6</td>\n",
       "      <td>0</td>\n",
       "      <td>6</td>\n",
       "      <td>6</td>\n",
       "    </tr>\n",
       "    <tr>\n",
       "      <th>4</th>\n",
       "      <td>12</td>\n",
       "      <td>12</td>\n",
       "      <td>12</td>\n",
       "      <td>12</td>\n",
       "      <td>12</td>\n",
       "      <td>12</td>\n",
       "      <td>12</td>\n",
       "      <td>11</td>\n",
       "      <td>12</td>\n",
       "      <td>12</td>\n",
       "      <td>12</td>\n",
       "      <td>12</td>\n",
       "      <td>12</td>\n",
       "      <td>12</td>\n",
       "      <td>12</td>\n",
       "      <td>12</td>\n",
       "      <td>7</td>\n",
       "      <td>12</td>\n",
       "      <td>12</td>\n",
       "    </tr>\n",
       "  </tbody>\n",
       "</table>\n",
       "</div>"
      ],
      "text/plain": [
       "   ap  at  ceq  ceql  ch  ebit  ebitda  intan  lt  ni  re  recd  rect  rectr  \\\n",
       "0   9   9    9     9   9     9       9      9   9   9   9     9     9      9   \n",
       "1   3   3    3     3   3     3       3      3   3   3   3     1     3      3   \n",
       "2   6   6    6     6   6     6       6      6   6   6   6     1     6      6   \n",
       "3   6   6    6     6   6     6       6      6   6   6   6     1     6      6   \n",
       "4  12  12   12    12  12    12      12     11  12  12  12    12    12     12   \n",
       "\n",
       "   sale_x  seq  teq  wcap  xint  \n",
       "0       9    9    9     9     9  \n",
       "1       3    3    0     3     3  \n",
       "2       6    6    0     6     5  \n",
       "3       6    6    0     6     6  \n",
       "4      12   12    7    12    12  "
      ]
     },
     "execution_count": 23,
     "metadata": {},
     "output_type": "execute_result"
    }
   ],
   "source": [
    "sme_d_pts = sme_d.groupby('tic').count().reset_index()\n",
    "sme_d_pts.iloc[:,8:27].head()"
   ]
  },
  {
   "cell_type": "code",
   "execution_count": 24,
   "metadata": {
    "collapsed": false
   },
   "outputs": [
    {
     "data": {
      "text/plain": [
       "ap        6.966667\n",
       "at        6.966667\n",
       "ceq       6.966667\n",
       "ceql      6.900000\n",
       "ch        6.933333\n",
       "ebit      6.966667\n",
       "ebitda    6.966667\n",
       "intan     6.900000\n",
       "lt        6.966667\n",
       "ni        6.966667\n",
       "re        6.966667\n",
       "recd      4.733333\n",
       "rect      6.966667\n",
       "rectr     6.966667\n",
       "sale_x    6.966667\n",
       "seq       6.966667\n",
       "teq       3.166667\n",
       "wcap      6.733333\n",
       "xint      6.800000\n",
       "dtype: float64"
      ]
     },
     "execution_count": 24,
     "metadata": {},
     "output_type": "execute_result"
    }
   ],
   "source": [
    "sme_d_pts.mean()[7:26]"
   ]
  },
  {
   "cell_type": "code",
   "execution_count": 25,
   "metadata": {
    "collapsed": false
   },
   "outputs": [
    {
     "data": {
      "text/plain": [
       "ap        6.0\n",
       "at        6.0\n",
       "ceq       6.0\n",
       "ceql      6.0\n",
       "ch        6.0\n",
       "ebit      6.0\n",
       "ebitda    6.0\n",
       "intan     6.0\n",
       "lt        6.0\n",
       "ni        6.0\n",
       "re        6.0\n",
       "recd      5.0\n",
       "rect      6.0\n",
       "rectr     6.0\n",
       "sale_x    6.0\n",
       "seq       6.0\n",
       "teq       1.0\n",
       "wcap      6.0\n",
       "xint      6.0\n",
       "dtype: float64"
      ]
     },
     "execution_count": 25,
     "metadata": {},
     "output_type": "execute_result"
    }
   ],
   "source": [
    "sme_d_pts.median()[7:26]"
   ]
  },
  {
   "cell_type": "code",
   "execution_count": 26,
   "metadata": {
    "collapsed": false
   },
   "outputs": [
    {
     "data": {
      "text/plain": [
       "<matplotlib.axes._subplots.AxesSubplot at 0xd381908>"
      ]
     },
     "execution_count": 26,
     "metadata": {},
     "output_type": "execute_result"
    },
    {
     "data": {
      "image/png": "[encoded data removed]",
      "text/plain": [
       "<matplotlib.figure.Figure at 0x11962cf8>"
      ]
     },
     "metadata": {},
     "output_type": "display_data"
    }
   ],
   "source": [
    "sme_d_pts['ap'].plot(kind='hist', normed=True)"
   ]
  },
  {
   "cell_type": "code",
   "execution_count": 27,
   "metadata": {
    "collapsed": false
   },
   "outputs": [
    {
     "data": {
      "text/html": [
       "<div>\n",
       "<table border=\"1\" class=\"dataframe\">\n",
       "  <thead>\n",
       "    <tr style=\"text-align: right;\">\n",
       "      <th></th>\n",
       "      <th>ap</th>\n",
       "      <th>at</th>\n",
       "      <th>ceq</th>\n",
       "      <th>ceql</th>\n",
       "      <th>ch</th>\n",
       "      <th>ebit</th>\n",
       "      <th>ebitda</th>\n",
       "      <th>intan</th>\n",
       "      <th>lt</th>\n",
       "      <th>ni</th>\n",
       "      <th>re</th>\n",
       "      <th>recd</th>\n",
       "      <th>rect</th>\n",
       "      <th>rectr</th>\n",
       "      <th>sale_x</th>\n",
       "      <th>seq</th>\n",
       "      <th>teq</th>\n",
       "      <th>wcap</th>\n",
       "      <th>xint</th>\n",
       "    </tr>\n",
       "  </thead>\n",
       "  <tbody>\n",
       "    <tr>\n",
       "      <th>0</th>\n",
       "      <td>10</td>\n",
       "      <td>10</td>\n",
       "      <td>10</td>\n",
       "      <td>9</td>\n",
       "      <td>2</td>\n",
       "      <td>10</td>\n",
       "      <td>10</td>\n",
       "      <td>10</td>\n",
       "      <td>10</td>\n",
       "      <td>10</td>\n",
       "      <td>10</td>\n",
       "      <td>2</td>\n",
       "      <td>10</td>\n",
       "      <td>10</td>\n",
       "      <td>10</td>\n",
       "      <td>10</td>\n",
       "      <td>10</td>\n",
       "      <td>0</td>\n",
       "      <td>10</td>\n",
       "    </tr>\n",
       "    <tr>\n",
       "      <th>1</th>\n",
       "      <td>2</td>\n",
       "      <td>2</td>\n",
       "      <td>2</td>\n",
       "      <td>2</td>\n",
       "      <td>2</td>\n",
       "      <td>2</td>\n",
       "      <td>2</td>\n",
       "      <td>2</td>\n",
       "      <td>2</td>\n",
       "      <td>2</td>\n",
       "      <td>2</td>\n",
       "      <td>0</td>\n",
       "      <td>2</td>\n",
       "      <td>2</td>\n",
       "      <td>2</td>\n",
       "      <td>2</td>\n",
       "      <td>0</td>\n",
       "      <td>2</td>\n",
       "      <td>2</td>\n",
       "    </tr>\n",
       "    <tr>\n",
       "      <th>2</th>\n",
       "      <td>1</td>\n",
       "      <td>1</td>\n",
       "      <td>1</td>\n",
       "      <td>1</td>\n",
       "      <td>1</td>\n",
       "      <td>1</td>\n",
       "      <td>1</td>\n",
       "      <td>1</td>\n",
       "      <td>1</td>\n",
       "      <td>1</td>\n",
       "      <td>1</td>\n",
       "      <td>1</td>\n",
       "      <td>1</td>\n",
       "      <td>1</td>\n",
       "      <td>1</td>\n",
       "      <td>1</td>\n",
       "      <td>0</td>\n",
       "      <td>1</td>\n",
       "      <td>1</td>\n",
       "    </tr>\n",
       "    <tr>\n",
       "      <th>3</th>\n",
       "      <td>3</td>\n",
       "      <td>3</td>\n",
       "      <td>3</td>\n",
       "      <td>3</td>\n",
       "      <td>3</td>\n",
       "      <td>3</td>\n",
       "      <td>3</td>\n",
       "      <td>3</td>\n",
       "      <td>3</td>\n",
       "      <td>3</td>\n",
       "      <td>0</td>\n",
       "      <td>0</td>\n",
       "      <td>3</td>\n",
       "      <td>3</td>\n",
       "      <td>3</td>\n",
       "      <td>3</td>\n",
       "      <td>0</td>\n",
       "      <td>3</td>\n",
       "      <td>3</td>\n",
       "    </tr>\n",
       "    <tr>\n",
       "      <th>4</th>\n",
       "      <td>1</td>\n",
       "      <td>1</td>\n",
       "      <td>1</td>\n",
       "      <td>0</td>\n",
       "      <td>1</td>\n",
       "      <td>1</td>\n",
       "      <td>1</td>\n",
       "      <td>1</td>\n",
       "      <td>1</td>\n",
       "      <td>1</td>\n",
       "      <td>1</td>\n",
       "      <td>0</td>\n",
       "      <td>1</td>\n",
       "      <td>1</td>\n",
       "      <td>1</td>\n",
       "      <td>1</td>\n",
       "      <td>0</td>\n",
       "      <td>1</td>\n",
       "      <td>1</td>\n",
       "    </tr>\n",
       "  </tbody>\n",
       "</table>\n",
       "</div>"
      ],
      "text/plain": [
       "   ap  at  ceq  ceql  ch  ebit  ebitda  intan  lt  ni  re  recd  rect  rectr  \\\n",
       "0  10  10   10     9   2    10      10     10  10  10  10     2    10     10   \n",
       "1   2   2    2     2   2     2       2      2   2   2   2     0     2      2   \n",
       "2   1   1    1     1   1     1       1      1   1   1   1     1     1      1   \n",
       "3   3   3    3     3   3     3       3      3   3   3   0     0     3      3   \n",
       "4   1   1    1     0   1     1       1      1   1   1   1     0     1      1   \n",
       "\n",
       "   sale_x  seq  teq  wcap  xint  \n",
       "0      10   10   10     0    10  \n",
       "1       2    2    0     2     2  \n",
       "2       1    1    0     1     1  \n",
       "3       3    3    0     3     3  \n",
       "4       1    1    0     1     1  "
      ]
     },
     "execution_count": 27,
     "metadata": {},
     "output_type": "execute_result"
    }
   ],
   "source": [
    "sme_nd_pts = sme_nd.groupby('tic').count().reset_index()\n",
    "sme_nd_pts.iloc[:,8:27].head()"
   ]
  },
  {
   "cell_type": "code",
   "execution_count": 28,
   "metadata": {
    "collapsed": false
   },
   "outputs": [
    {
     "data": {
      "text/plain": [
       "ap        5.574652\n",
       "at        5.581988\n",
       "ceq       5.577770\n",
       "ceql      5.444424\n",
       "ch        5.528247\n",
       "ebit      5.520176\n",
       "ebitda    5.460382\n",
       "intan     5.442223\n",
       "lt        5.572450\n",
       "ni        5.544204\n",
       "re        5.475055\n",
       "recd      3.353448\n",
       "rect      5.542920\n",
       "rectr     4.665811\n",
       "sale_x    5.543287\n",
       "seq       5.581255\n",
       "teq       3.361702\n",
       "wcap      4.420763\n",
       "xint      4.348129\n",
       "dtype: float64"
      ]
     },
     "execution_count": 28,
     "metadata": {},
     "output_type": "execute_result"
    }
   ],
   "source": [
    "sme_nd_pts.mean()[7:26]"
   ]
  },
  {
   "cell_type": "code",
   "execution_count": 29,
   "metadata": {
    "collapsed": false
   },
   "outputs": [
    {
     "data": {
      "text/plain": [
       "<matplotlib.axes._subplots.AxesSubplot at 0xea3acf8>"
      ]
     },
     "execution_count": 29,
     "metadata": {},
     "output_type": "execute_result"
    },
    {
     "data": {
      "image/png": "[encoded data removed]",
      "text/plain": [
       "<matplotlib.figure.Figure at 0x119ac940>"
      ]
     },
     "metadata": {},
     "output_type": "display_data"
    }
   ],
   "source": [
    "sme_nd_pts['ap'].plot(kind='hist', normed=True)"
   ]
  },
  {
   "cell_type": "code",
   "execution_count": 30,
   "metadata": {
    "collapsed": false
   },
   "outputs": [
    {
     "data": {
      "text/plain": [
       "<matplotlib.axes._subplots.AxesSubplot at 0xd5346d8>"
      ]
     },
     "execution_count": 30,
     "metadata": {},
     "output_type": "execute_result"
    },
    {
     "data": {
      "image/png": "[encoded data removed]",
      "text/plain": [
       "<matplotlib.figure.Figure at 0x11a0f4a8>"
      ]
     },
     "metadata": {},
     "output_type": "display_data"
    }
   ],
   "source": [
    "sme_nd_pts['teq'].plot(kind='hist', normed=True)"
   ]
  },
  {
   "cell_type": "code",
   "execution_count": 31,
   "metadata": {
    "collapsed": false,
    "scrolled": true
   },
   "outputs": [
    {
     "data": {
      "text/plain": [
       "<matplotlib.axes._subplots.AxesSubplot at 0x11a0f3c8>"
      ]
     },
     "execution_count": 31,
     "metadata": {},
     "output_type": "execute_result"
    },
    {
     "data": {
      "image/png": "[encoded data removed]",
      "text/plain": [
       "<matplotlib.figure.Figure at 0x11381550>"
      ]
     },
     "metadata": {},
     "output_type": "display_data"
    }
   ],
   "source": [
    "sme_nd_pts['recd'].plot(kind='hist', normed=True)"
   ]
  },
  {
   "cell_type": "code",
   "execution_count": 32,
   "metadata": {
    "collapsed": false
   },
   "outputs": [
    {
     "data": {
      "text/plain": [
       "<matplotlib.axes._subplots.AxesSubplot at 0xe880cf8>"
      ]
     },
     "execution_count": 32,
     "metadata": {},
     "output_type": "execute_result"
    },
    {
     "data": {
      "image/png": "[encoded data removed]",
      "text/plain": [
       "<matplotlib.figure.Figure at 0xe850b38>"
      ]
     },
     "metadata": {},
     "output_type": "display_data"
    }
   ],
   "source": [
    "sme_nd_pts['rectr'].plot(kind='hist', normed=True)"
   ]
  },
  {
   "cell_type": "code",
   "execution_count": 33,
   "metadata": {
    "collapsed": false
   },
   "outputs": [
    {
     "data": {
      "text/plain": [
       "<matplotlib.axes._subplots.AxesSubplot at 0xebd2710>"
      ]
     },
     "execution_count": 33,
     "metadata": {},
     "output_type": "execute_result"
    },
    {
     "data": {
      "image/png": "[encoded data removed]",
      "text/plain": [
       "<matplotlib.figure.Figure at 0xa053be0>"
      ]
     },
     "metadata": {},
     "output_type": "display_data"
    }
   ],
   "source": [
    "sme_nd_pts['wcap'].plot(kind='hist', normed=True)"
   ]
  },
  {
   "cell_type": "code",
   "execution_count": 34,
   "metadata": {
    "collapsed": true
   },
   "outputs": [],
   "source": [
    "# let's drop the recd, teq because of insufficient data pts\n",
    "sme_data = sme_data.drop(['recd', 'teq'], 1)\n",
    "sme_d = sme_d.drop(['recd', 'teq'], 1)\n",
    "sme_nd = sme_nd.drop(['recd', 'teq'], 1)"
   ]
  },
  {
   "cell_type": "code",
   "execution_count": 35,
   "metadata": {
    "collapsed": false
   },
   "outputs": [
    {
     "data": {
      "text/plain": [
       "(796, 1)"
      ]
     },
     "execution_count": 35,
     "metadata": {},
     "output_type": "execute_result"
    }
   ],
   "source": [
    "# filter non defaulting sme with greater than t data points\n",
    "t = 8\n",
    "temp_nd = sme_nd_pts[(sme_nd_pts['ap']>t) & (sme_nd_pts['at']>t) & (sme_nd_pts['ceq']>t) & (sme_nd_pts['ceql']>t) &\n",
    "            (sme_nd_pts['ch']>t) & (sme_nd_pts['ebit']>t) & (sme_nd_pts['ebitda']>t) & (sme_nd_pts['intan']>t) &\n",
    "            (sme_nd_pts['lt']>t) & (sme_nd_pts['ni']>t) & (sme_nd_pts['re']>t) & (sme_nd_pts['rect']>t) &\n",
    "            (sme_nd_pts['rectr']>t) & (sme_nd_pts['sale_x']>t) & (sme_nd_pts['seq']>t) & (sme_nd_pts['wcap']>t) &\n",
    "            (sme_nd_pts['xint']>t)]\n",
    "\n",
    "#list of good data non defaulting sme\n",
    "gd_nd = temp_nd['tic'].reset_index().drop('index', 1)\n",
    "gd_nd.shape"
   ]
  },
  {
   "cell_type": "code",
   "execution_count": 36,
   "metadata": {
    "collapsed": false
   },
   "outputs": [
    {
     "data": {
      "text/plain": [
       "(9003, 34)"
      ]
     },
     "execution_count": 36,
     "metadata": {},
     "output_type": "execute_result"
    }
   ],
   "source": [
    "gd_sme_nd = gd_nd.merge(sme_nd, how='left', left_on='tic', right_on='tic')\n",
    "gd_sme_nd.shape"
   ]
  },
  {
   "cell_type": "code",
   "execution_count": 37,
   "metadata": {
    "collapsed": false
   },
   "outputs": [
    {
     "data": {
      "text/plain": [
       "(23, 1)"
      ]
     },
     "execution_count": 37,
     "metadata": {},
     "output_type": "execute_result"
    }
   ],
   "source": [
    "# filter defaulting sme with greater than t data points\n",
    "t = 4\n",
    "temp_d = sme_d_pts[(sme_d_pts['ap']>t) & (sme_d_pts['at']>t) & (sme_d_pts['ceq']>t) & (sme_d_pts['ceql']>t) &\n",
    "            (sme_d_pts['ch']>t) & (sme_d_pts['ebit']>t) & (sme_d_pts['ebitda']>t) & (sme_d_pts['intan']>t) &\n",
    "            (sme_d_pts['lt']>t) & (sme_d_pts['ni']>t) & (sme_d_pts['re']>t) & (sme_d_pts['rect']>t) &\n",
    "            (sme_d_pts['rectr']>t) & (sme_d_pts['sale_x']>t) & (sme_d_pts['seq']>t) & (sme_d_pts['wcap']>t) &\n",
    "            (sme_d_pts['xint']>t)]\n",
    "\n",
    "#list of good data non defaulting sme\n",
    "gd_d = temp_d['tic'].reset_index().drop('index', 1)\n",
    "gd_d.shape"
   ]
  },
  {
   "cell_type": "code",
   "execution_count": 38,
   "metadata": {
    "collapsed": false
   },
   "outputs": [
    {
     "data": {
      "text/plain": [
       "(179, 34)"
      ]
     },
     "execution_count": 38,
     "metadata": {},
     "output_type": "execute_result"
    }
   ],
   "source": [
    "# here we get the full data of the defaulting sme\n",
    "gd_sme_d = gd_d.merge(sme_d, how='left', left_on='tic', right_on='tic')\n",
    "gd_sme_d.shape"
   ]
  },
  {
   "cell_type": "code",
   "execution_count": 39,
   "metadata": {
    "collapsed": false
   },
   "outputs": [
    {
     "data": {
      "text/html": [
       "<div>\n",
       "<table border=\"1\" class=\"dataframe\">\n",
       "  <thead>\n",
       "    <tr style=\"text-align: right;\">\n",
       "      <th></th>\n",
       "      <th>tic</th>\n",
       "    </tr>\n",
       "    <tr>\n",
       "      <th>fyear</th>\n",
       "      <th></th>\n",
       "    </tr>\n",
       "  </thead>\n",
       "  <tbody>\n",
       "    <tr>\n",
       "      <th>2003.0</th>\n",
       "      <td>21</td>\n",
       "    </tr>\n",
       "    <tr>\n",
       "      <th>2004.0</th>\n",
       "      <td>23</td>\n",
       "    </tr>\n",
       "    <tr>\n",
       "      <th>2005.0</th>\n",
       "      <td>23</td>\n",
       "    </tr>\n",
       "    <tr>\n",
       "      <th>2006.0</th>\n",
       "      <td>23</td>\n",
       "    </tr>\n",
       "    <tr>\n",
       "      <th>2007.0</th>\n",
       "      <td>23</td>\n",
       "    </tr>\n",
       "    <tr>\n",
       "      <th>2008.0</th>\n",
       "      <td>17</td>\n",
       "    </tr>\n",
       "    <tr>\n",
       "      <th>2009.0</th>\n",
       "      <td>13</td>\n",
       "    </tr>\n",
       "    <tr>\n",
       "      <th>2010.0</th>\n",
       "      <td>11</td>\n",
       "    </tr>\n",
       "    <tr>\n",
       "      <th>2011.0</th>\n",
       "      <td>11</td>\n",
       "    </tr>\n",
       "    <tr>\n",
       "      <th>2012.0</th>\n",
       "      <td>6</td>\n",
       "    </tr>\n",
       "    <tr>\n",
       "      <th>2013.0</th>\n",
       "      <td>5</td>\n",
       "    </tr>\n",
       "    <tr>\n",
       "      <th>2014.0</th>\n",
       "      <td>3</td>\n",
       "    </tr>\n",
       "  </tbody>\n",
       "</table>\n",
       "</div>"
      ],
      "text/plain": [
       "        tic\n",
       "fyear      \n",
       "2003.0   21\n",
       "2004.0   23\n",
       "2005.0   23\n",
       "2006.0   23\n",
       "2007.0   23\n",
       "2008.0   17\n",
       "2009.0   13\n",
       "2010.0   11\n",
       "2011.0   11\n",
       "2012.0    6\n",
       "2013.0    5\n",
       "2014.0    3"
      ]
     },
     "execution_count": 39,
     "metadata": {},
     "output_type": "execute_result"
    }
   ],
   "source": [
    "# lets find the number of defaulting enterprizes per year\n",
    "gd_sme_ds = gd_sme_d[['fyear', 'tic']]\n",
    "num_defy = gd_sme_ds.groupby('fyear').count()\n",
    "num_defy"
   ]
  },
  {
   "cell_type": "code",
   "execution_count": 40,
   "metadata": {
    "collapsed": false
   },
   "outputs": [
    {
     "data": {
      "text/plain": [
       "fyear\n",
       "2003.0    350.000000\n",
       "2004.0    383.333333\n",
       "2005.0    383.333333\n",
       "2006.0    383.333333\n",
       "2007.0    383.333333\n",
       "2008.0    283.333333\n",
       "2009.0    216.666667\n",
       "2010.0    183.333333\n",
       "2011.0    183.333333\n",
       "2012.0    100.000000\n",
       "2013.0     83.333333\n",
       "2014.0     50.000000\n",
       "Name: tic, dtype: float64"
      ]
     },
     "execution_count": 40,
     "metadata": {},
     "output_type": "execute_result"
    }
   ],
   "source": [
    "# how many non-defaulting enterprizes do we need to maintain \n",
    "# the 6% national average of default. This will help in stratefied\n",
    "# sampline later\n",
    "num_ndefy = num_defy['tic']/0.06\n",
    "num_ndefy"
   ]
  },
  {
   "cell_type": "code",
   "execution_count": 41,
   "metadata": {
    "collapsed": false
   },
   "outputs": [
    {
     "data": {
      "text/html": [
       "<div>\n",
       "<table border=\"1\" class=\"dataframe\">\n",
       "  <thead>\n",
       "    <tr style=\"text-align: right;\">\n",
       "      <th></th>\n",
       "      <th>tic</th>\n",
       "    </tr>\n",
       "    <tr>\n",
       "      <th>fyear</th>\n",
       "      <th></th>\n",
       "    </tr>\n",
       "  </thead>\n",
       "  <tbody>\n",
       "    <tr>\n",
       "      <th>2003.0</th>\n",
       "      <td>725</td>\n",
       "    </tr>\n",
       "    <tr>\n",
       "      <th>2004.0</th>\n",
       "      <td>754</td>\n",
       "    </tr>\n",
       "    <tr>\n",
       "      <th>2005.0</th>\n",
       "      <td>777</td>\n",
       "    </tr>\n",
       "    <tr>\n",
       "      <th>2006.0</th>\n",
       "      <td>796</td>\n",
       "    </tr>\n",
       "    <tr>\n",
       "      <th>2007.0</th>\n",
       "      <td>796</td>\n",
       "    </tr>\n",
       "    <tr>\n",
       "      <th>2008.0</th>\n",
       "      <td>796</td>\n",
       "    </tr>\n",
       "    <tr>\n",
       "      <th>2009.0</th>\n",
       "      <td>796</td>\n",
       "    </tr>\n",
       "    <tr>\n",
       "      <th>2010.0</th>\n",
       "      <td>796</td>\n",
       "    </tr>\n",
       "    <tr>\n",
       "      <th>2011.0</th>\n",
       "      <td>796</td>\n",
       "    </tr>\n",
       "    <tr>\n",
       "      <th>2012.0</th>\n",
       "      <td>734</td>\n",
       "    </tr>\n",
       "    <tr>\n",
       "      <th>2013.0</th>\n",
       "      <td>681</td>\n",
       "    </tr>\n",
       "    <tr>\n",
       "      <th>2014.0</th>\n",
       "      <td>556</td>\n",
       "    </tr>\n",
       "  </tbody>\n",
       "</table>\n",
       "</div>"
      ],
      "text/plain": [
       "        tic\n",
       "fyear      \n",
       "2003.0  725\n",
       "2004.0  754\n",
       "2005.0  777\n",
       "2006.0  796\n",
       "2007.0  796\n",
       "2008.0  796\n",
       "2009.0  796\n",
       "2010.0  796\n",
       "2011.0  796\n",
       "2012.0  734\n",
       "2013.0  681\n",
       "2014.0  556"
      ]
     },
     "execution_count": 41,
     "metadata": {},
     "output_type": "execute_result"
    }
   ],
   "source": [
    "# actual number of non defaulting enterprizes\n",
    "# we have every year with fuller data i.e. greater\n",
    "# than 8 data points\n",
    "gd_sme_nds = gd_sme_nd[['fyear', 'tic']]\n",
    "gd_sme_nds.groupby('fyear').count()"
   ]
  },
  {
   "cell_type": "code",
   "execution_count": 42,
   "metadata": {
    "collapsed": false
   },
   "outputs": [
    {
     "data": {
      "text/html": [
       "<div>\n",
       "<table border=\"1\" class=\"dataframe\">\n",
       "  <thead>\n",
       "    <tr style=\"text-align: right;\">\n",
       "      <th></th>\n",
       "      <th>tic</th>\n",
       "      <th>fyear</th>\n",
       "      <th>ap</th>\n",
       "    </tr>\n",
       "  </thead>\n",
       "  <tbody>\n",
       "    <tr>\n",
       "      <th>0</th>\n",
       "      <td>2151B</td>\n",
       "      <td>2004.0</td>\n",
       "      <td>0.0</td>\n",
       "    </tr>\n",
       "    <tr>\n",
       "      <th>1</th>\n",
       "      <td>2151B</td>\n",
       "      <td>2005.0</td>\n",
       "      <td>0.0</td>\n",
       "    </tr>\n",
       "    <tr>\n",
       "      <th>2</th>\n",
       "      <td>2151B</td>\n",
       "      <td>2006.0</td>\n",
       "      <td>0.0</td>\n",
       "    </tr>\n",
       "    <tr>\n",
       "      <th>3</th>\n",
       "      <td>2151B</td>\n",
       "      <td>2007.0</td>\n",
       "      <td>0.0</td>\n",
       "    </tr>\n",
       "    <tr>\n",
       "      <th>4</th>\n",
       "      <td>2151B</td>\n",
       "      <td>2008.0</td>\n",
       "      <td>0.0</td>\n",
       "    </tr>\n",
       "  </tbody>\n",
       "</table>\n",
       "</div>"
      ],
      "text/plain": [
       "     tic   fyear   ap\n",
       "0  2151B  2004.0  0.0\n",
       "1  2151B  2005.0  0.0\n",
       "2  2151B  2006.0  0.0\n",
       "3  2151B  2007.0  0.0\n",
       "4  2151B  2008.0  0.0"
      ]
     },
     "execution_count": 42,
     "metadata": {},
     "output_type": "execute_result"
    }
   ],
   "source": [
    "#lets plot some variables\n",
    "gd_sme_nd_ap = gd_sme_nd[['tic', 'fyear', 'ap']]\n",
    "gd_sme_nd_ap.head()"
   ]
  },
  {
   "cell_type": "code",
   "execution_count": 43,
   "metadata": {
    "collapsed": false
   },
   "outputs": [],
   "source": [
    "gd_sme_nd_apy = gd_sme_nd_ap.set_index(['tic', 'fyear']).unstack('tic')"
   ]
  },
  {
   "cell_type": "code",
   "execution_count": 44,
   "metadata": {
    "collapsed": false
   },
   "outputs": [
    {
     "data": {
      "text/html": [
       "<div>\n",
       "<table border=\"1\" class=\"dataframe\">\n",
       "  <thead>\n",
       "    <tr>\n",
       "      <th></th>\n",
       "      <th colspan=\"21\" halign=\"left\">ap</th>\n",
       "    </tr>\n",
       "    <tr>\n",
       "      <th>tic</th>\n",
       "      <th>2151B</th>\n",
       "      <th>2638B</th>\n",
       "      <th>3BETM</th>\n",
       "      <th>3GTHP</th>\n",
       "      <th>3INIS</th>\n",
       "      <th>3NEPH</th>\n",
       "      <th>AACS</th>\n",
       "      <th>AASP</th>\n",
       "      <th>ABMC</th>\n",
       "      <th>ABPI</th>\n",
       "      <th>...</th>\n",
       "      <th>XPL</th>\n",
       "      <th>XSPY</th>\n",
       "      <th>XWES</th>\n",
       "      <th>YORW</th>\n",
       "      <th>YTEN</th>\n",
       "      <th>ZAAP</th>\n",
       "      <th>ZIOP</th>\n",
       "      <th>ZIXI</th>\n",
       "      <th>ZLCS</th>\n",
       "      <th>ZYXI</th>\n",
       "    </tr>\n",
       "    <tr>\n",
       "      <th>fyear</th>\n",
       "      <th></th>\n",
       "      <th></th>\n",
       "      <th></th>\n",
       "      <th></th>\n",
       "      <th></th>\n",
       "      <th></th>\n",
       "      <th></th>\n",
       "      <th></th>\n",
       "      <th></th>\n",
       "      <th></th>\n",
       "      <th></th>\n",
       "      <th></th>\n",
       "      <th></th>\n",
       "      <th></th>\n",
       "      <th></th>\n",
       "      <th></th>\n",
       "      <th></th>\n",
       "      <th></th>\n",
       "      <th></th>\n",
       "      <th></th>\n",
       "      <th></th>\n",
       "    </tr>\n",
       "  </thead>\n",
       "  <tbody>\n",
       "    <tr>\n",
       "      <th>2003.0</th>\n",
       "      <td>NaN</td>\n",
       "      <td>0.096</td>\n",
       "      <td>0.448</td>\n",
       "      <td>0.833</td>\n",
       "      <td>0.321</td>\n",
       "      <td>1.416</td>\n",
       "      <td>0.432</td>\n",
       "      <td>0.312</td>\n",
       "      <td>0.737</td>\n",
       "      <td>NaN</td>\n",
       "      <td>...</td>\n",
       "      <td>0.053</td>\n",
       "      <td>2.032</td>\n",
       "      <td>NaN</td>\n",
       "      <td>1.743</td>\n",
       "      <td>NaN</td>\n",
       "      <td>0.538</td>\n",
       "      <td>NaN</td>\n",
       "      <td>3.738</td>\n",
       "      <td>0.965</td>\n",
       "      <td>0.010</td>\n",
       "    </tr>\n",
       "    <tr>\n",
       "      <th>2004.0</th>\n",
       "      <td>0.0</td>\n",
       "      <td>0.074</td>\n",
       "      <td>0.516</td>\n",
       "      <td>0.566</td>\n",
       "      <td>0.329</td>\n",
       "      <td>0.630</td>\n",
       "      <td>0.289</td>\n",
       "      <td>0.199</td>\n",
       "      <td>1.358</td>\n",
       "      <td>6.650</td>\n",
       "      <td>...</td>\n",
       "      <td>0.142</td>\n",
       "      <td>2.244</td>\n",
       "      <td>0.241</td>\n",
       "      <td>1.798</td>\n",
       "      <td>1.495</td>\n",
       "      <td>0.150</td>\n",
       "      <td>NaN</td>\n",
       "      <td>1.234</td>\n",
       "      <td>1.701</td>\n",
       "      <td>0.180</td>\n",
       "    </tr>\n",
       "    <tr>\n",
       "      <th>2005.0</th>\n",
       "      <td>0.0</td>\n",
       "      <td>0.104</td>\n",
       "      <td>0.484</td>\n",
       "      <td>0.683</td>\n",
       "      <td>0.238</td>\n",
       "      <td>0.766</td>\n",
       "      <td>0.324</td>\n",
       "      <td>0.223</td>\n",
       "      <td>1.380</td>\n",
       "      <td>5.520</td>\n",
       "      <td>...</td>\n",
       "      <td>0.069</td>\n",
       "      <td>1.643</td>\n",
       "      <td>0.184</td>\n",
       "      <td>2.641</td>\n",
       "      <td>1.299</td>\n",
       "      <td>0.189</td>\n",
       "      <td>0.836</td>\n",
       "      <td>1.313</td>\n",
       "      <td>1.230</td>\n",
       "      <td>0.282</td>\n",
       "    </tr>\n",
       "    <tr>\n",
       "      <th>2006.0</th>\n",
       "      <td>0.0</td>\n",
       "      <td>0.105</td>\n",
       "      <td>0.789</td>\n",
       "      <td>0.925</td>\n",
       "      <td>0.209</td>\n",
       "      <td>0.568</td>\n",
       "      <td>0.468</td>\n",
       "      <td>0.281</td>\n",
       "      <td>1.091</td>\n",
       "      <td>8.017</td>\n",
       "      <td>...</td>\n",
       "      <td>0.163</td>\n",
       "      <td>6.418</td>\n",
       "      <td>0.989</td>\n",
       "      <td>1.627</td>\n",
       "      <td>1.604</td>\n",
       "      <td>0.250</td>\n",
       "      <td>0.776</td>\n",
       "      <td>0.221</td>\n",
       "      <td>4.489</td>\n",
       "      <td>0.342</td>\n",
       "    </tr>\n",
       "    <tr>\n",
       "      <th>2007.0</th>\n",
       "      <td>0.0</td>\n",
       "      <td>0.122</td>\n",
       "      <td>1.056</td>\n",
       "      <td>0.786</td>\n",
       "      <td>0.442</td>\n",
       "      <td>0.488</td>\n",
       "      <td>0.507</td>\n",
       "      <td>0.193</td>\n",
       "      <td>1.403</td>\n",
       "      <td>13.202</td>\n",
       "      <td>...</td>\n",
       "      <td>0.195</td>\n",
       "      <td>6.715</td>\n",
       "      <td>0.980</td>\n",
       "      <td>3.164</td>\n",
       "      <td>0.299</td>\n",
       "      <td>0.128</td>\n",
       "      <td>2.909</td>\n",
       "      <td>0.231</td>\n",
       "      <td>1.964</td>\n",
       "      <td>0.817</td>\n",
       "    </tr>\n",
       "  </tbody>\n",
       "</table>\n",
       "<p>5 rows × 796 columns</p>\n",
       "</div>"
      ],
      "text/plain": [
       "          ap                                                                  \\\n",
       "tic    2151B  2638B  3BETM  3GTHP  3INIS  3NEPH   AACS   AASP   ABMC    ABPI   \n",
       "fyear                                                                          \n",
       "2003.0   NaN  0.096  0.448  0.833  0.321  1.416  0.432  0.312  0.737     NaN   \n",
       "2004.0   0.0  0.074  0.516  0.566  0.329  0.630  0.289  0.199  1.358   6.650   \n",
       "2005.0   0.0  0.104  0.484  0.683  0.238  0.766  0.324  0.223  1.380   5.520   \n",
       "2006.0   0.0  0.105  0.789  0.925  0.209  0.568  0.468  0.281  1.091   8.017   \n",
       "2007.0   0.0  0.122  1.056  0.786  0.442  0.488  0.507  0.193  1.403  13.202   \n",
       "\n",
       "        ...                                                                   \\\n",
       "tic     ...      XPL   XSPY   XWES   YORW   YTEN   ZAAP   ZIOP   ZIXI   ZLCS   \n",
       "fyear   ...                                                                    \n",
       "2003.0  ...    0.053  2.032    NaN  1.743    NaN  0.538    NaN  3.738  0.965   \n",
       "2004.0  ...    0.142  2.244  0.241  1.798  1.495  0.150    NaN  1.234  1.701   \n",
       "2005.0  ...    0.069  1.643  0.184  2.641  1.299  0.189  0.836  1.313  1.230   \n",
       "2006.0  ...    0.163  6.418  0.989  1.627  1.604  0.250  0.776  0.221  4.489   \n",
       "2007.0  ...    0.195  6.715  0.980  3.164  0.299  0.128  2.909  0.231  1.964   \n",
       "\n",
       "               \n",
       "tic      ZYXI  \n",
       "fyear          \n",
       "2003.0  0.010  \n",
       "2004.0  0.180  \n",
       "2005.0  0.282  \n",
       "2006.0  0.342  \n",
       "2007.0  0.817  \n",
       "\n",
       "[5 rows x 796 columns]"
      ]
     },
     "execution_count": 44,
     "metadata": {},
     "output_type": "execute_result"
    }
   ],
   "source": [
    "gd_sme_nd_apy.head()"
   ]
  },
  {
   "cell_type": "code",
   "execution_count": 45,
   "metadata": {
    "collapsed": false
   },
   "outputs": [
    {
     "data": {
      "text/plain": [
       "<matplotlib.axes._subplots.AxesSubplot at 0x10b6b630>"
      ]
     },
     "execution_count": 45,
     "metadata": {},
     "output_type": "execute_result"
    },
    {
     "data": {
      "image/png": "[encoded data removed]",
      "text/plain": [
       "<matplotlib.figure.Figure at 0x109e5470>"
      ]
     },
     "metadata": {},
     "output_type": "display_data"
    }
   ],
   "source": [
    "# plot accounts payable for a random range of sme\n",
    "gd_sme_nd_apy.iloc[:,5:10].plot()"
   ]
  },
  {
   "cell_type": "code",
   "execution_count": 46,
   "metadata": {
    "collapsed": false
   },
   "outputs": [
    {
     "data": {
      "text/plain": [
       "<matplotlib.axes._subplots.AxesSubplot at 0x1092bf60>"
      ]
     },
     "execution_count": 46,
     "metadata": {},
     "output_type": "execute_result"
    },
    {
     "data": {
      "image/png": "[encoded data removed]",
      "text/plain": [
       "<matplotlib.figure.Figure at 0x941a320>"
      ]
     },
     "metadata": {},
     "output_type": "display_data"
    }
   ],
   "source": [
    "# now plot with interpolation\n",
    "gd_sme_nd_apy.iloc[:,5:10].interpolate().plot()"
   ]
  },
  {
   "cell_type": "code",
   "execution_count": 47,
   "metadata": {
    "collapsed": false
   },
   "outputs": [
    {
     "data": {
      "text/plain": [
       "<matplotlib.axes._subplots.AxesSubplot at 0xcde9748>"
      ]
     },
     "execution_count": 47,
     "metadata": {},
     "output_type": "execute_result"
    },
    {
     "data": {
      "image/png": "[encoded data removed]",
      "text/plain": [
       "<matplotlib.figure.Figure at 0xcdf4c88>"
      ]
     },
     "metadata": {},
     "output_type": "display_data"
    }
   ],
   "source": [
    "# plot another random range\n",
    "gd_sme_nd_apy.iloc[:,100:105].plot()"
   ]
  },
  {
   "cell_type": "code",
   "execution_count": 48,
   "metadata": {
    "collapsed": false
   },
   "outputs": [
    {
     "data": {
      "text/plain": [
       "<matplotlib.axes._subplots.AxesSubplot at 0x9c97278>"
      ]
     },
     "execution_count": 48,
     "metadata": {},
     "output_type": "execute_result"
    },
    {
     "data": {
      "image/png": "[encoded data removed]",
      "text/plain": [
       "<matplotlib.figure.Figure at 0xd08c710>"
      ]
     },
     "metadata": {},
     "output_type": "display_data"
    }
   ],
   "source": [
    "# plot still another random range\n",
    "gd_sme_nd_apy.iloc[:,748:753].plot()"
   ]
  },
  {
   "cell_type": "code",
   "execution_count": 49,
   "metadata": {
    "collapsed": false
   },
   "outputs": [
    {
     "data": {
      "text/plain": [
       "<matplotlib.axes._subplots.AxesSubplot at 0xd1fec88>"
      ]
     },
     "execution_count": 49,
     "metadata": {},
     "output_type": "execute_result"
    },
    {
     "data": {
      "image/png": "[encoded data removed]",
      "text/plain": [
       "<matplotlib.figure.Figure at 0xd0954e0>"
      ]
     },
     "metadata": {},
     "output_type": "display_data"
    }
   ],
   "source": [
    "# interpolate this in both directions\n",
    "gd_sme_nd_apy.iloc[:,748:753].interpolate(limit=3, limit_direction='both').plot()"
   ]
  },
  {
   "cell_type": "code",
   "execution_count": 50,
   "metadata": {
    "collapsed": false
   },
   "outputs": [
    {
     "data": {
      "text/html": [
       "<div>\n",
       "<table border=\"1\" class=\"dataframe\">\n",
       "  <thead>\n",
       "    <tr style=\"text-align: right;\">\n",
       "      <th></th>\n",
       "      <th>tic</th>\n",
       "      <th>gvkey</th>\n",
       "      <th>datadate</th>\n",
       "      <th>fyear</th>\n",
       "      <th>indfmt</th>\n",
       "      <th>conm</th>\n",
       "      <th>curcd</th>\n",
       "      <th>fyr</th>\n",
       "      <th>ap</th>\n",
       "      <th>at</th>\n",
       "      <th>...</th>\n",
       "      <th>xint</th>\n",
       "      <th>costat</th>\n",
       "      <th>fic</th>\n",
       "      <th>addzip</th>\n",
       "      <th>city</th>\n",
       "      <th>dlrsn</th>\n",
       "      <th>fyrc</th>\n",
       "      <th>state</th>\n",
       "      <th>dldte</th>\n",
       "      <th>default</th>\n",
       "    </tr>\n",
       "  </thead>\n",
       "  <tbody>\n",
       "    <tr>\n",
       "      <th>0</th>\n",
       "      <td>2151B</td>\n",
       "      <td>259954</td>\n",
       "      <td>20041231</td>\n",
       "      <td>2004.0</td>\n",
       "      <td>INDL</td>\n",
       "      <td>CALIF PETROLEUM TRANSPORT CP</td>\n",
       "      <td>USD</td>\n",
       "      <td>12.0</td>\n",
       "      <td>0.0</td>\n",
       "      <td>127.483</td>\n",
       "      <td>...</td>\n",
       "      <td>10.865</td>\n",
       "      <td>A</td>\n",
       "      <td>USA</td>\n",
       "      <td>10036</td>\n",
       "      <td>New York</td>\n",
       "      <td>NaN</td>\n",
       "      <td>12</td>\n",
       "      <td>NY</td>\n",
       "      <td>NaN</td>\n",
       "      <td>0.0</td>\n",
       "    </tr>\n",
       "    <tr>\n",
       "      <th>1</th>\n",
       "      <td>2151B</td>\n",
       "      <td>259954</td>\n",
       "      <td>20051231</td>\n",
       "      <td>2005.0</td>\n",
       "      <td>INDL</td>\n",
       "      <td>CALIF PETROLEUM TRANSPORT CP</td>\n",
       "      <td>USD</td>\n",
       "      <td>12.0</td>\n",
       "      <td>0.0</td>\n",
       "      <td>112.905</td>\n",
       "      <td>...</td>\n",
       "      <td>9.771</td>\n",
       "      <td>A</td>\n",
       "      <td>USA</td>\n",
       "      <td>10036</td>\n",
       "      <td>New York</td>\n",
       "      <td>NaN</td>\n",
       "      <td>12</td>\n",
       "      <td>NY</td>\n",
       "      <td>NaN</td>\n",
       "      <td>0.0</td>\n",
       "    </tr>\n",
       "    <tr>\n",
       "      <th>2</th>\n",
       "      <td>2151B</td>\n",
       "      <td>259954</td>\n",
       "      <td>20061231</td>\n",
       "      <td>2006.0</td>\n",
       "      <td>INDL</td>\n",
       "      <td>CALIF PETROLEUM TRANSPORT CP</td>\n",
       "      <td>USD</td>\n",
       "      <td>12.0</td>\n",
       "      <td>0.0</td>\n",
       "      <td>100.625</td>\n",
       "      <td>...</td>\n",
       "      <td>8.729</td>\n",
       "      <td>A</td>\n",
       "      <td>USA</td>\n",
       "      <td>10036</td>\n",
       "      <td>New York</td>\n",
       "      <td>NaN</td>\n",
       "      <td>12</td>\n",
       "      <td>NY</td>\n",
       "      <td>NaN</td>\n",
       "      <td>0.0</td>\n",
       "    </tr>\n",
       "    <tr>\n",
       "      <th>3</th>\n",
       "      <td>2151B</td>\n",
       "      <td>259954</td>\n",
       "      <td>20071231</td>\n",
       "      <td>2007.0</td>\n",
       "      <td>INDL</td>\n",
       "      <td>CALIF PETROLEUM TRANSPORT CP</td>\n",
       "      <td>USD</td>\n",
       "      <td>12.0</td>\n",
       "      <td>0.0</td>\n",
       "      <td>89.470</td>\n",
       "      <td>...</td>\n",
       "      <td>7.779</td>\n",
       "      <td>A</td>\n",
       "      <td>USA</td>\n",
       "      <td>10036</td>\n",
       "      <td>New York</td>\n",
       "      <td>NaN</td>\n",
       "      <td>12</td>\n",
       "      <td>NY</td>\n",
       "      <td>NaN</td>\n",
       "      <td>0.0</td>\n",
       "    </tr>\n",
       "    <tr>\n",
       "      <th>4</th>\n",
       "      <td>2151B</td>\n",
       "      <td>259954</td>\n",
       "      <td>20081231</td>\n",
       "      <td>2008.0</td>\n",
       "      <td>INDL</td>\n",
       "      <td>CALIF PETROLEUM TRANSPORT CP</td>\n",
       "      <td>USD</td>\n",
       "      <td>12.0</td>\n",
       "      <td>0.0</td>\n",
       "      <td>79.686</td>\n",
       "      <td>...</td>\n",
       "      <td>6.937</td>\n",
       "      <td>A</td>\n",
       "      <td>USA</td>\n",
       "      <td>10036</td>\n",
       "      <td>New York</td>\n",
       "      <td>NaN</td>\n",
       "      <td>12</td>\n",
       "      <td>NY</td>\n",
       "      <td>NaN</td>\n",
       "      <td>0.0</td>\n",
       "    </tr>\n",
       "  </tbody>\n",
       "</table>\n",
       "<p>5 rows × 34 columns</p>\n",
       "</div>"
      ],
      "text/plain": [
       "     tic   gvkey  datadate   fyear indfmt                          conm curcd  \\\n",
       "0  2151B  259954  20041231  2004.0   INDL  CALIF PETROLEUM TRANSPORT CP   USD   \n",
       "1  2151B  259954  20051231  2005.0   INDL  CALIF PETROLEUM TRANSPORT CP   USD   \n",
       "2  2151B  259954  20061231  2006.0   INDL  CALIF PETROLEUM TRANSPORT CP   USD   \n",
       "3  2151B  259954  20071231  2007.0   INDL  CALIF PETROLEUM TRANSPORT CP   USD   \n",
       "4  2151B  259954  20081231  2008.0   INDL  CALIF PETROLEUM TRANSPORT CP   USD   \n",
       "\n",
       "    fyr   ap       at   ...       xint  costat  fic  addzip      city  dlrsn  \\\n",
       "0  12.0  0.0  127.483   ...     10.865       A  USA   10036  New York    NaN   \n",
       "1  12.0  0.0  112.905   ...      9.771       A  USA   10036  New York    NaN   \n",
       "2  12.0  0.0  100.625   ...      8.729       A  USA   10036  New York    NaN   \n",
       "3  12.0  0.0   89.470   ...      7.779       A  USA   10036  New York    NaN   \n",
       "4  12.0  0.0   79.686   ...      6.937       A  USA   10036  New York    NaN   \n",
       "\n",
       "   fyrc  state  dldte  default  \n",
       "0    12     NY    NaN      0.0  \n",
       "1    12     NY    NaN      0.0  \n",
       "2    12     NY    NaN      0.0  \n",
       "3    12     NY    NaN      0.0  \n",
       "4    12     NY    NaN      0.0  \n",
       "\n",
       "[5 rows x 34 columns]"
      ]
     },
     "execution_count": 50,
     "metadata": {},
     "output_type": "execute_result"
    }
   ],
   "source": [
    "# prepare the entire dataframe for such interpolation\n",
    "# first sort the data\n",
    "gd_sme_nd = gd_sme_nd.sort_values(by=['tic', 'fyear'])\n",
    "gd_sme_nd.head()"
   ]
  },
  {
   "cell_type": "code",
   "execution_count": 51,
   "metadata": {
    "collapsed": true
   },
   "outputs": [],
   "source": [
    "#unstack tic interpolate and stack tic back again\n",
    "gd_sme_nd_clean = gd_sme_nd.set_index(['tic', 'fyear']).iloc[:,6:23].unstack('tic').interpolate(limit=3, limit_direction='both')\n",
    "gd_sme_nd_clean = gd_sme_nd_clean.stack('tic')"
   ]
  },
  {
   "cell_type": "code",
   "execution_count": 52,
   "metadata": {
    "collapsed": false
   },
   "outputs": [],
   "source": [
    "# here we have a completed and clean dataframe\n",
    "gd_sme_nd_clean = gd_sme_nd_clean.reset_index()"
   ]
  },
  {
   "cell_type": "code",
   "execution_count": 53,
   "metadata": {
    "collapsed": false
   },
   "outputs": [
    {
     "data": {
      "text/html": [
       "<div>\n",
       "<table border=\"1\" class=\"dataframe\">\n",
       "  <thead>\n",
       "    <tr style=\"text-align: right;\">\n",
       "      <th></th>\n",
       "      <th>fyear</th>\n",
       "      <th>tic</th>\n",
       "      <th>ap</th>\n",
       "      <th>at</th>\n",
       "      <th>ceq</th>\n",
       "      <th>ceql</th>\n",
       "      <th>ch</th>\n",
       "      <th>ebit</th>\n",
       "      <th>ebitda</th>\n",
       "      <th>intan</th>\n",
       "      <th>lt</th>\n",
       "      <th>ni</th>\n",
       "      <th>re</th>\n",
       "      <th>rect</th>\n",
       "      <th>rectr</th>\n",
       "      <th>sale_x</th>\n",
       "      <th>seq</th>\n",
       "      <th>wcap</th>\n",
       "      <th>xint</th>\n",
       "    </tr>\n",
       "  </thead>\n",
       "  <tbody>\n",
       "    <tr>\n",
       "      <th>0</th>\n",
       "      <td>2003.0</td>\n",
       "      <td>2151B</td>\n",
       "      <td>0.0</td>\n",
       "      <td>127.483</td>\n",
       "      <td>0.001</td>\n",
       "      <td>0.001</td>\n",
       "      <td>0.001</td>\n",
       "      <td>-0.057</td>\n",
       "      <td>-0.057</td>\n",
       "      <td>0.0</td>\n",
       "      <td>127.482</td>\n",
       "      <td>0.0</td>\n",
       "      <td>0.0</td>\n",
       "      <td>16.917</td>\n",
       "      <td>0.0</td>\n",
       "      <td>0.0</td>\n",
       "      <td>0.001</td>\n",
       "      <td>0.001</td>\n",
       "      <td>10.865</td>\n",
       "    </tr>\n",
       "    <tr>\n",
       "      <th>1</th>\n",
       "      <td>2004.0</td>\n",
       "      <td>2151B</td>\n",
       "      <td>0.0</td>\n",
       "      <td>127.483</td>\n",
       "      <td>0.001</td>\n",
       "      <td>0.001</td>\n",
       "      <td>0.001</td>\n",
       "      <td>-0.057</td>\n",
       "      <td>-0.057</td>\n",
       "      <td>0.0</td>\n",
       "      <td>127.482</td>\n",
       "      <td>0.0</td>\n",
       "      <td>0.0</td>\n",
       "      <td>16.917</td>\n",
       "      <td>0.0</td>\n",
       "      <td>0.0</td>\n",
       "      <td>0.001</td>\n",
       "      <td>0.001</td>\n",
       "      <td>10.865</td>\n",
       "    </tr>\n",
       "    <tr>\n",
       "      <th>2</th>\n",
       "      <td>2005.0</td>\n",
       "      <td>2151B</td>\n",
       "      <td>0.0</td>\n",
       "      <td>112.905</td>\n",
       "      <td>0.001</td>\n",
       "      <td>0.001</td>\n",
       "      <td>0.001</td>\n",
       "      <td>-0.022</td>\n",
       "      <td>-0.022</td>\n",
       "      <td>0.0</td>\n",
       "      <td>112.904</td>\n",
       "      <td>0.0</td>\n",
       "      <td>0.0</td>\n",
       "      <td>14.405</td>\n",
       "      <td>0.0</td>\n",
       "      <td>0.0</td>\n",
       "      <td>0.001</td>\n",
       "      <td>0.001</td>\n",
       "      <td>9.771</td>\n",
       "    </tr>\n",
       "    <tr>\n",
       "      <th>3</th>\n",
       "      <td>2006.0</td>\n",
       "      <td>2151B</td>\n",
       "      <td>0.0</td>\n",
       "      <td>100.625</td>\n",
       "      <td>0.001</td>\n",
       "      <td>0.001</td>\n",
       "      <td>0.001</td>\n",
       "      <td>-0.069</td>\n",
       "      <td>-0.069</td>\n",
       "      <td>0.0</td>\n",
       "      <td>100.624</td>\n",
       "      <td>0.0</td>\n",
       "      <td>0.0</td>\n",
       "      <td>12.194</td>\n",
       "      <td>0.0</td>\n",
       "      <td>0.0</td>\n",
       "      <td>0.001</td>\n",
       "      <td>0.001</td>\n",
       "      <td>8.729</td>\n",
       "    </tr>\n",
       "    <tr>\n",
       "      <th>4</th>\n",
       "      <td>2007.0</td>\n",
       "      <td>2151B</td>\n",
       "      <td>0.0</td>\n",
       "      <td>89.470</td>\n",
       "      <td>0.001</td>\n",
       "      <td>0.001</td>\n",
       "      <td>0.001</td>\n",
       "      <td>-0.097</td>\n",
       "      <td>-0.097</td>\n",
       "      <td>0.0</td>\n",
       "      <td>89.469</td>\n",
       "      <td>0.0</td>\n",
       "      <td>0.0</td>\n",
       "      <td>11.390</td>\n",
       "      <td>0.0</td>\n",
       "      <td>0.0</td>\n",
       "      <td>0.001</td>\n",
       "      <td>0.001</td>\n",
       "      <td>7.779</td>\n",
       "    </tr>\n",
       "  </tbody>\n",
       "</table>\n",
       "</div>"
      ],
      "text/plain": [
       "    fyear    tic   ap       at    ceq   ceql     ch   ebit  ebitda  intan  \\\n",
       "0  2003.0  2151B  0.0  127.483  0.001  0.001  0.001 -0.057  -0.057    0.0   \n",
       "1  2004.0  2151B  0.0  127.483  0.001  0.001  0.001 -0.057  -0.057    0.0   \n",
       "2  2005.0  2151B  0.0  112.905  0.001  0.001  0.001 -0.022  -0.022    0.0   \n",
       "3  2006.0  2151B  0.0  100.625  0.001  0.001  0.001 -0.069  -0.069    0.0   \n",
       "4  2007.0  2151B  0.0   89.470  0.001  0.001  0.001 -0.097  -0.097    0.0   \n",
       "\n",
       "        lt   ni   re    rect  rectr  sale_x    seq   wcap    xint  \n",
       "0  127.482  0.0  0.0  16.917    0.0     0.0  0.001  0.001  10.865  \n",
       "1  127.482  0.0  0.0  16.917    0.0     0.0  0.001  0.001  10.865  \n",
       "2  112.904  0.0  0.0  14.405    0.0     0.0  0.001  0.001   9.771  \n",
       "3  100.624  0.0  0.0  12.194    0.0     0.0  0.001  0.001   8.729  \n",
       "4   89.469  0.0  0.0  11.390    0.0     0.0  0.001  0.001   7.779  "
      ]
     },
     "execution_count": 53,
     "metadata": {},
     "output_type": "execute_result"
    }
   ],
   "source": [
    "# sort the clean dataframe and get new index\n",
    "gd_sme_nd_clean = gd_sme_nd_clean.sort_values(by=['tic', 'fyear']).reset_index().drop('index',1)\n",
    "gd_sme_nd_clean.head()"
   ]
  },
  {
   "cell_type": "code",
   "execution_count": 54,
   "metadata": {
    "collapsed": false
   },
   "outputs": [
    {
     "data": {
      "text/html": [
       "<div>\n",
       "<table border=\"1\" class=\"dataframe\">\n",
       "  <thead>\n",
       "    <tr style=\"text-align: right;\">\n",
       "      <th></th>\n",
       "      <th>tic</th>\n",
       "      <th>gvkey</th>\n",
       "      <th>datadate</th>\n",
       "      <th>fyear</th>\n",
       "      <th>indfmt</th>\n",
       "      <th>conm</th>\n",
       "      <th>ap</th>\n",
       "      <th>at</th>\n",
       "      <th>ceq</th>\n",
       "      <th>ceql</th>\n",
       "      <th>...</th>\n",
       "      <th>xint</th>\n",
       "      <th>costat</th>\n",
       "      <th>fic</th>\n",
       "      <th>addzip</th>\n",
       "      <th>city</th>\n",
       "      <th>dlrsn</th>\n",
       "      <th>fyrc</th>\n",
       "      <th>state</th>\n",
       "      <th>dldte</th>\n",
       "      <th>default</th>\n",
       "    </tr>\n",
       "  </thead>\n",
       "  <tbody>\n",
       "    <tr>\n",
       "      <th>0</th>\n",
       "      <td>2151B</td>\n",
       "      <td>259954.0</td>\n",
       "      <td>20041231.0</td>\n",
       "      <td>2004.0</td>\n",
       "      <td>INDL</td>\n",
       "      <td>CALIF PETROLEUM TRANSPORT CP</td>\n",
       "      <td>0.0</td>\n",
       "      <td>127.483</td>\n",
       "      <td>0.001</td>\n",
       "      <td>0.001</td>\n",
       "      <td>...</td>\n",
       "      <td>10.865</td>\n",
       "      <td>A</td>\n",
       "      <td>USA</td>\n",
       "      <td>10036</td>\n",
       "      <td>New York</td>\n",
       "      <td>NaN</td>\n",
       "      <td>12.0</td>\n",
       "      <td>NY</td>\n",
       "      <td>NaN</td>\n",
       "      <td>0.0</td>\n",
       "    </tr>\n",
       "    <tr>\n",
       "      <th>1</th>\n",
       "      <td>2151B</td>\n",
       "      <td>259954.0</td>\n",
       "      <td>20051231.0</td>\n",
       "      <td>2005.0</td>\n",
       "      <td>INDL</td>\n",
       "      <td>CALIF PETROLEUM TRANSPORT CP</td>\n",
       "      <td>0.0</td>\n",
       "      <td>127.483</td>\n",
       "      <td>0.001</td>\n",
       "      <td>0.001</td>\n",
       "      <td>...</td>\n",
       "      <td>9.771</td>\n",
       "      <td>A</td>\n",
       "      <td>USA</td>\n",
       "      <td>10036</td>\n",
       "      <td>New York</td>\n",
       "      <td>NaN</td>\n",
       "      <td>12.0</td>\n",
       "      <td>NY</td>\n",
       "      <td>NaN</td>\n",
       "      <td>0.0</td>\n",
       "    </tr>\n",
       "    <tr>\n",
       "      <th>2</th>\n",
       "      <td>2151B</td>\n",
       "      <td>259954.0</td>\n",
       "      <td>20061231.0</td>\n",
       "      <td>2006.0</td>\n",
       "      <td>INDL</td>\n",
       "      <td>CALIF PETROLEUM TRANSPORT CP</td>\n",
       "      <td>0.0</td>\n",
       "      <td>112.905</td>\n",
       "      <td>0.001</td>\n",
       "      <td>0.001</td>\n",
       "      <td>...</td>\n",
       "      <td>8.729</td>\n",
       "      <td>A</td>\n",
       "      <td>USA</td>\n",
       "      <td>10036</td>\n",
       "      <td>New York</td>\n",
       "      <td>NaN</td>\n",
       "      <td>12.0</td>\n",
       "      <td>NY</td>\n",
       "      <td>NaN</td>\n",
       "      <td>0.0</td>\n",
       "    </tr>\n",
       "    <tr>\n",
       "      <th>3</th>\n",
       "      <td>2151B</td>\n",
       "      <td>259954.0</td>\n",
       "      <td>20071231.0</td>\n",
       "      <td>2007.0</td>\n",
       "      <td>INDL</td>\n",
       "      <td>CALIF PETROLEUM TRANSPORT CP</td>\n",
       "      <td>0.0</td>\n",
       "      <td>100.625</td>\n",
       "      <td>0.001</td>\n",
       "      <td>0.001</td>\n",
       "      <td>...</td>\n",
       "      <td>7.779</td>\n",
       "      <td>A</td>\n",
       "      <td>USA</td>\n",
       "      <td>10036</td>\n",
       "      <td>New York</td>\n",
       "      <td>NaN</td>\n",
       "      <td>12.0</td>\n",
       "      <td>NY</td>\n",
       "      <td>NaN</td>\n",
       "      <td>0.0</td>\n",
       "    </tr>\n",
       "    <tr>\n",
       "      <th>4</th>\n",
       "      <td>2151B</td>\n",
       "      <td>259954.0</td>\n",
       "      <td>20081231.0</td>\n",
       "      <td>2008.0</td>\n",
       "      <td>INDL</td>\n",
       "      <td>CALIF PETROLEUM TRANSPORT CP</td>\n",
       "      <td>0.0</td>\n",
       "      <td>89.470</td>\n",
       "      <td>0.001</td>\n",
       "      <td>0.001</td>\n",
       "      <td>...</td>\n",
       "      <td>6.937</td>\n",
       "      <td>A</td>\n",
       "      <td>USA</td>\n",
       "      <td>10036</td>\n",
       "      <td>New York</td>\n",
       "      <td>NaN</td>\n",
       "      <td>12.0</td>\n",
       "      <td>NY</td>\n",
       "      <td>NaN</td>\n",
       "      <td>0.0</td>\n",
       "    </tr>\n",
       "  </tbody>\n",
       "</table>\n",
       "<p>5 rows × 34 columns</p>\n",
       "</div>"
      ],
      "text/plain": [
       "     tic     gvkey    datadate   fyear indfmt                          conm  \\\n",
       "0  2151B  259954.0  20041231.0  2004.0   INDL  CALIF PETROLEUM TRANSPORT CP   \n",
       "1  2151B  259954.0  20051231.0  2005.0   INDL  CALIF PETROLEUM TRANSPORT CP   \n",
       "2  2151B  259954.0  20061231.0  2006.0   INDL  CALIF PETROLEUM TRANSPORT CP   \n",
       "3  2151B  259954.0  20071231.0  2007.0   INDL  CALIF PETROLEUM TRANSPORT CP   \n",
       "4  2151B  259954.0  20081231.0  2008.0   INDL  CALIF PETROLEUM TRANSPORT CP   \n",
       "\n",
       "    ap       at    ceq   ceql   ...       xint  costat  fic  addzip      city  \\\n",
       "0  0.0  127.483  0.001  0.001   ...     10.865       A  USA   10036  New York   \n",
       "1  0.0  127.483  0.001  0.001   ...      9.771       A  USA   10036  New York   \n",
       "2  0.0  112.905  0.001  0.001   ...      8.729       A  USA   10036  New York   \n",
       "3  0.0  100.625  0.001  0.001   ...      7.779       A  USA   10036  New York   \n",
       "4  0.0   89.470  0.001  0.001   ...      6.937       A  USA   10036  New York   \n",
       "\n",
       "   dlrsn  fyrc  state  dldte  default  \n",
       "0    NaN  12.0     NY    NaN      0.0  \n",
       "1    NaN  12.0     NY    NaN      0.0  \n",
       "2    NaN  12.0     NY    NaN      0.0  \n",
       "3    NaN  12.0     NY    NaN      0.0  \n",
       "4    NaN  12.0     NY    NaN      0.0  \n",
       "\n",
       "[5 rows x 34 columns]"
      ]
     },
     "execution_count": 54,
     "metadata": {},
     "output_type": "execute_result"
    }
   ],
   "source": [
    "# we had interpolated the floating point variables\n",
    "# now merge the floating point data with the rest of the\n",
    "# data to create a full clean dataframe\n",
    "gd_sme_nd_cl_full = pd.concat([gd_sme_nd.iloc[:,0:6], gd_sme_nd_clean.iloc[:, 2:19], gd_sme_nd.iloc[:,23:]], axis=1)\n",
    "gd_sme_nd_cl_full.head()"
   ]
  },
  {
   "cell_type": "code",
   "execution_count": 55,
   "metadata": {
    "collapsed": false
   },
   "outputs": [
    {
     "data": {
      "text/plain": [
       "(179, 34)"
      ]
     },
     "execution_count": 55,
     "metadata": {},
     "output_type": "execute_result"
    }
   ],
   "source": [
    "# let's plot some variables from the defaulting\n",
    "# dataset\n",
    "gd_sme_d_ap = gd_sme_d[['tic', 'fyear', 'ap']]\n",
    "gd_sme_d_ap.head()\n",
    "gd_sme_d.shape"
   ]
  },
  {
   "cell_type": "code",
   "execution_count": 56,
   "metadata": {
    "collapsed": true
   },
   "outputs": [],
   "source": [
    "# get accounts payable for defaulting enterprizes\n",
    "gd_sme_d_apy = gd_sme_d_ap.set_index(['tic', 'fyear']).unstack('tic')"
   ]
  },
  {
   "cell_type": "code",
   "execution_count": 57,
   "metadata": {
    "collapsed": false
   },
   "outputs": [
    {
     "data": {
      "text/plain": [
       "<matplotlib.axes._subplots.AxesSubplot at 0xd32b4e0>"
      ]
     },
     "execution_count": 57,
     "metadata": {},
     "output_type": "execute_result"
    },
    {
     "data": {
      "image/png": "[encoded data removed]",
      "text/plain": [
       "<matplotlib.figure.Figure at 0x10efa320>"
      ]
     },
     "metadata": {},
     "output_type": "display_data"
    }
   ],
   "source": [
    "# plot a random range of sme\n",
    "gd_sme_d_apy.iloc[:,20:25].plot()"
   ]
  },
  {
   "cell_type": "code",
   "execution_count": 58,
   "metadata": {
    "collapsed": false
   },
   "outputs": [
    {
     "data": {
      "text/plain": [
       "<matplotlib.axes._subplots.AxesSubplot at 0xd34b8d0>"
      ]
     },
     "execution_count": 58,
     "metadata": {},
     "output_type": "execute_result"
    },
    {
     "data": {
      "image/png": "[encoded data removed]",
      "text/plain": [
       "<matplotlib.figure.Figure at 0x10e34a90>"
      ]
     },
     "metadata": {},
     "output_type": "display_data"
    }
   ],
   "source": [
    "# plot with interpolation\n",
    "gd_sme_d_apy.iloc[:,20:25].interpolate().plot()"
   ]
  },
  {
   "cell_type": "code",
   "execution_count": 59,
   "metadata": {
    "collapsed": false
   },
   "outputs": [],
   "source": [
    "# we realize that interpolating a defaulting enterprize\n",
    "# after its default is not prudent\n",
    "\n",
    "gd_sme_d_bd = gd_sme_d[['tic', 'fyear', 'dldte']]\n",
    "gd_sme_d_bdy = gd_sme_d_bd.set_index(['tic', 'fyear']).unstack('tic')"
   ]
  },
  {
   "cell_type": "code",
   "execution_count": 60,
   "metadata": {
    "collapsed": false
   },
   "outputs": [
    {
     "data": {
      "text/html": [
       "<div>\n",
       "<table border=\"1\" class=\"dataframe\">\n",
       "  <thead>\n",
       "    <tr>\n",
       "      <th></th>\n",
       "      <th colspan=\"5\" halign=\"left\">dldte</th>\n",
       "    </tr>\n",
       "    <tr>\n",
       "      <th>tic</th>\n",
       "      <th>BMERQ</th>\n",
       "      <th>CANRQ</th>\n",
       "      <th>CBNRQ</th>\n",
       "      <th>CFW</th>\n",
       "      <th>DUNRQ</th>\n",
       "    </tr>\n",
       "    <tr>\n",
       "      <th>fyear</th>\n",
       "      <th></th>\n",
       "      <th></th>\n",
       "      <th></th>\n",
       "      <th></th>\n",
       "      <th></th>\n",
       "    </tr>\n",
       "  </thead>\n",
       "  <tbody>\n",
       "    <tr>\n",
       "      <th>2003.0</th>\n",
       "      <td>20160404.0</td>\n",
       "      <td>20100111.0</td>\n",
       "      <td>20160301.0</td>\n",
       "      <td>NaN</td>\n",
       "      <td>20151001.0</td>\n",
       "    </tr>\n",
       "    <tr>\n",
       "      <th>2004.0</th>\n",
       "      <td>20160404.0</td>\n",
       "      <td>20100111.0</td>\n",
       "      <td>20160301.0</td>\n",
       "      <td>20120803.0</td>\n",
       "      <td>20151001.0</td>\n",
       "    </tr>\n",
       "    <tr>\n",
       "      <th>2005.0</th>\n",
       "      <td>20160404.0</td>\n",
       "      <td>20100111.0</td>\n",
       "      <td>20160301.0</td>\n",
       "      <td>20120803.0</td>\n",
       "      <td>20151001.0</td>\n",
       "    </tr>\n",
       "    <tr>\n",
       "      <th>2006.0</th>\n",
       "      <td>20160404.0</td>\n",
       "      <td>20100111.0</td>\n",
       "      <td>20160301.0</td>\n",
       "      <td>20120803.0</td>\n",
       "      <td>20151001.0</td>\n",
       "    </tr>\n",
       "    <tr>\n",
       "      <th>2007.0</th>\n",
       "      <td>20160404.0</td>\n",
       "      <td>20100111.0</td>\n",
       "      <td>20160301.0</td>\n",
       "      <td>20120803.0</td>\n",
       "      <td>20151001.0</td>\n",
       "    </tr>\n",
       "    <tr>\n",
       "      <th>2008.0</th>\n",
       "      <td>20160404.0</td>\n",
       "      <td>NaN</td>\n",
       "      <td>20160301.0</td>\n",
       "      <td>20120803.0</td>\n",
       "      <td>20151001.0</td>\n",
       "    </tr>\n",
       "    <tr>\n",
       "      <th>2009.0</th>\n",
       "      <td>20160404.0</td>\n",
       "      <td>NaN</td>\n",
       "      <td>20160301.0</td>\n",
       "      <td>20120803.0</td>\n",
       "      <td>20151001.0</td>\n",
       "    </tr>\n",
       "    <tr>\n",
       "      <th>2010.0</th>\n",
       "      <td>20160404.0</td>\n",
       "      <td>NaN</td>\n",
       "      <td>20160301.0</td>\n",
       "      <td>20120803.0</td>\n",
       "      <td>20151001.0</td>\n",
       "    </tr>\n",
       "    <tr>\n",
       "      <th>2011.0</th>\n",
       "      <td>20160404.0</td>\n",
       "      <td>NaN</td>\n",
       "      <td>20160301.0</td>\n",
       "      <td>20120803.0</td>\n",
       "      <td>20151001.0</td>\n",
       "    </tr>\n",
       "    <tr>\n",
       "      <th>2012.0</th>\n",
       "      <td>20160404.0</td>\n",
       "      <td>NaN</td>\n",
       "      <td>20160301.0</td>\n",
       "      <td>NaN</td>\n",
       "      <td>20151001.0</td>\n",
       "    </tr>\n",
       "    <tr>\n",
       "      <th>2013.0</th>\n",
       "      <td>20160404.0</td>\n",
       "      <td>NaN</td>\n",
       "      <td>20160301.0</td>\n",
       "      <td>NaN</td>\n",
       "      <td>20151001.0</td>\n",
       "    </tr>\n",
       "    <tr>\n",
       "      <th>2014.0</th>\n",
       "      <td>20160404.0</td>\n",
       "      <td>NaN</td>\n",
       "      <td>20160301.0</td>\n",
       "      <td>NaN</td>\n",
       "      <td>NaN</td>\n",
       "    </tr>\n",
       "  </tbody>\n",
       "</table>\n",
       "</div>"
      ],
      "text/plain": [
       "             dldte                                                \n",
       "tic          BMERQ       CANRQ       CBNRQ         CFW       DUNRQ\n",
       "fyear                                                             \n",
       "2003.0  20160404.0  20100111.0  20160301.0         NaN  20151001.0\n",
       "2004.0  20160404.0  20100111.0  20160301.0  20120803.0  20151001.0\n",
       "2005.0  20160404.0  20100111.0  20160301.0  20120803.0  20151001.0\n",
       "2006.0  20160404.0  20100111.0  20160301.0  20120803.0  20151001.0\n",
       "2007.0  20160404.0  20100111.0  20160301.0  20120803.0  20151001.0\n",
       "2008.0  20160404.0         NaN  20160301.0  20120803.0  20151001.0\n",
       "2009.0  20160404.0         NaN  20160301.0  20120803.0  20151001.0\n",
       "2010.0  20160404.0         NaN  20160301.0  20120803.0  20151001.0\n",
       "2011.0  20160404.0         NaN  20160301.0  20120803.0  20151001.0\n",
       "2012.0  20160404.0         NaN  20160301.0         NaN  20151001.0\n",
       "2013.0  20160404.0         NaN  20160301.0         NaN  20151001.0\n",
       "2014.0  20160404.0         NaN  20160301.0         NaN         NaN"
      ]
     },
     "execution_count": 60,
     "metadata": {},
     "output_type": "execute_result"
    }
   ],
   "source": [
    "gd_sme_d_bdy.iloc[:,5:10]"
   ]
  },
  {
   "cell_type": "code",
   "execution_count": 61,
   "metadata": {
    "collapsed": false
   },
   "outputs": [
    {
     "data": {
      "text/html": [
       "<div>\n",
       "<table border=\"1\" class=\"dataframe\">\n",
       "  <thead>\n",
       "    <tr style=\"text-align: right;\">\n",
       "      <th></th>\n",
       "      <th>ap</th>\n",
       "      <th>at</th>\n",
       "      <th>ceq</th>\n",
       "      <th>ceql</th>\n",
       "      <th>ch</th>\n",
       "      <th>ebit</th>\n",
       "      <th>ebitda</th>\n",
       "      <th>intan</th>\n",
       "      <th>lt</th>\n",
       "      <th>ni</th>\n",
       "      <th>re</th>\n",
       "      <th>rect</th>\n",
       "      <th>rectr</th>\n",
       "      <th>sale_x</th>\n",
       "      <th>seq</th>\n",
       "      <th>wcap</th>\n",
       "      <th>xint</th>\n",
       "    </tr>\n",
       "  </thead>\n",
       "  <tbody>\n",
       "    <tr>\n",
       "      <th>0</th>\n",
       "      <td>0.0</td>\n",
       "      <td>5.007</td>\n",
       "      <td>5.007</td>\n",
       "      <td>5.007</td>\n",
       "      <td>0.001</td>\n",
       "      <td>-0.129</td>\n",
       "      <td>-0.129</td>\n",
       "      <td>0.0</td>\n",
       "      <td>0.0</td>\n",
       "      <td>-0.129</td>\n",
       "      <td>-1.04</td>\n",
       "      <td>0.0</td>\n",
       "      <td>0.0</td>\n",
       "      <td>0.0</td>\n",
       "      <td>5.007</td>\n",
       "      <td>0.001</td>\n",
       "      <td>0.0</td>\n",
       "    </tr>\n",
       "  </tbody>\n",
       "</table>\n",
       "</div>"
      ],
      "text/plain": [
       "    ap     at    ceq   ceql     ch   ebit  ebitda  intan   lt     ni    re  \\\n",
       "0  0.0  5.007  5.007  5.007  0.001 -0.129  -0.129    0.0  0.0 -0.129 -1.04   \n",
       "\n",
       "   rect  rectr  sale_x    seq   wcap  xint  \n",
       "0   0.0    0.0     0.0  5.007  0.001   0.0  "
      ]
     },
     "execution_count": 61,
     "metadata": {},
     "output_type": "execute_result"
    }
   ],
   "source": [
    "gd_sme_d.iloc[:,8:25].head(1)"
   ]
  },
  {
   "cell_type": "code",
   "execution_count": 62,
   "metadata": {
    "collapsed": false
   },
   "outputs": [
    {
     "data": {
      "text/plain": [
       "<matplotlib.axes._subplots.AxesSubplot at 0xdebf780>"
      ]
     },
     "execution_count": 62,
     "metadata": {},
     "output_type": "execute_result"
    },
    {
     "data": {
      "image/png": "[encoded data removed]",
      "text/plain": [
       "<matplotlib.figure.Figure at 0xdebf1d0>"
      ]
     },
     "metadata": {},
     "output_type": "display_data"
    }
   ],
   "source": [
    "# let's now plot some additional variables\n",
    "var = 'ceq'\n",
    "c1 = 10\n",
    "c2 = 15\n",
    "gd_sme_d_v = gd_sme_d[['tic', 'fyear', var]]\n",
    "gd_sme_d_vy = gd_sme_d_v.set_index(['tic', 'fyear']).unstack('tic')\n",
    "gd_sme_d_vy.iloc[:,c1:c2].plot()"
   ]
  },
  {
   "cell_type": "code",
   "execution_count": 63,
   "metadata": {
    "collapsed": false
   },
   "outputs": [
    {
     "data": {
      "text/plain": [
       "<matplotlib.axes._subplots.AxesSubplot at 0xda794a8>"
      ]
     },
     "execution_count": 63,
     "metadata": {},
     "output_type": "execute_result"
    },
    {
     "data": {
      "image/png": "[encoded data removed]",
      "text/plain": [
       "<matplotlib.figure.Figure at 0xdec84e0>"
      ]
     },
     "metadata": {},
     "output_type": "display_data"
    }
   ],
   "source": [
    "var = 'sale_x'\n",
    "c1 = 20\n",
    "c2 = 25\n",
    "gd_sme_d_v = gd_sme_d[['tic', 'fyear', var]]\n",
    "gd_sme_d_vy = gd_sme_d_v.set_index(['tic', 'fyear']).unstack('tic')\n",
    "gd_sme_d_vy.iloc[:,c1:c2].plot()"
   ]
  },
  {
   "cell_type": "code",
   "execution_count": 64,
   "metadata": {
    "collapsed": false
   },
   "outputs": [
    {
     "data": {
      "text/plain": [
       "fyear\n",
       "2003.0    350.000000\n",
       "2004.0    383.333333\n",
       "2005.0    383.333333\n",
       "2006.0    383.333333\n",
       "2007.0    383.333333\n",
       "2008.0    283.333333\n",
       "2009.0    216.666667\n",
       "2010.0    183.333333\n",
       "2011.0    183.333333\n",
       "2012.0    100.000000\n",
       "2013.0     83.333333\n",
       "2014.0     50.000000\n",
       "Name: tic, dtype: float64"
      ]
     },
     "execution_count": 64,
     "metadata": {},
     "output_type": "execute_result"
    }
   ],
   "source": [
    "# the desired number of samples from non defaulting enterprizes\n",
    "num_ndefy"
   ]
  },
  {
   "cell_type": "code",
   "execution_count": 65,
   "metadata": {
    "collapsed": false
   },
   "outputs": [
    {
     "data": {
      "text/plain": [
       "2983.333333333334"
      ]
     },
     "execution_count": 65,
     "metadata": {},
     "output_type": "execute_result"
    }
   ],
   "source": [
    "#total number of desired samples across all financial years\n",
    "num_ndefy.sum()"
   ]
  },
  {
   "cell_type": "code",
   "execution_count": 66,
   "metadata": {
    "collapsed": false
   },
   "outputs": [
    {
     "data": {
      "text/plain": [
       "2003.0"
      ]
     },
     "execution_count": 66,
     "metadata": {},
     "output_type": "execute_result"
    }
   ],
   "source": [
    "# how to subset series index\n",
    "num_ndefy.index[0]"
   ]
  },
  {
   "cell_type": "code",
   "execution_count": 67,
   "metadata": {
    "collapsed": false
   },
   "outputs": [
    {
     "data": {
      "text/plain": [
       "350"
      ]
     },
     "execution_count": 67,
     "metadata": {},
     "output_type": "execute_result"
    }
   ],
   "source": [
    "# how to subset series values\n",
    "int(num_ndefy.values[0])"
   ]
  },
  {
   "cell_type": "code",
   "execution_count": 68,
   "metadata": {
    "collapsed": false
   },
   "outputs": [
    {
     "data": {
      "text/plain": [
       "(350, 34)"
      ]
     },
     "execution_count": 68,
     "metadata": {},
     "output_type": "execute_result"
    }
   ],
   "source": [
    "# how to sample from a particular financial year\n",
    "i=0\n",
    "gd_sme_nd[gd_sme_nd['fyear']==num_ndefy.index[i]].sample(n=int(num_ndefy.values[i]), axis=0).shape"
   ]
  },
  {
   "cell_type": "code",
   "execution_count": 69,
   "metadata": {
    "collapsed": false
   },
   "outputs": [],
   "source": [
    "# sampling from each fyear and putting the samples in a list\n",
    "sample_df = []\n",
    "for i,ind in enumerate(num_ndefy.index):\n",
    "    sample_df.append(gd_sme_nd[gd_sme_nd['fyear']==num_ndefy.index[i]].sample(n=int(num_ndefy.values[i]), axis=0))"
   ]
  },
  {
   "cell_type": "code",
   "execution_count": 70,
   "metadata": {
    "collapsed": false
   },
   "outputs": [
    {
     "data": {
      "text/plain": [
       "(2980, 34)"
      ]
     },
     "execution_count": 70,
     "metadata": {},
     "output_type": "execute_result"
    }
   ],
   "source": [
    "# concatenate samples to create the shape\n",
    "# this dataframe now has the needed number of non-defaulting \n",
    "# enterprizes to maintain the 6% default average\n",
    "gd_sme_nd_strat = pd.concat(sample_df)\n",
    "gd_sme_nd_strat.shape"
   ]
  },
  {
   "cell_type": "code",
   "execution_count": 71,
   "metadata": {
    "collapsed": true
   },
   "outputs": [],
   "source": [
    "gd_sme_clean_strat = pd.concat([gd_sme_nd_strat, gd_sme_d])\n",
    "gd_sme_clean_strat = gd_sme_clean_strat.sort_values(by=['tic', 'fyear'])"
   ]
  },
  {
   "cell_type": "code",
   "execution_count": 72,
   "metadata": {
    "collapsed": false
   },
   "outputs": [
    {
     "data": {
      "text/html": [
       "<div>\n",
       "<table border=\"1\" class=\"dataframe\">\n",
       "  <thead>\n",
       "    <tr style=\"text-align: right;\">\n",
       "      <th></th>\n",
       "      <th>tic</th>\n",
       "      <th>gvkey</th>\n",
       "      <th>datadate</th>\n",
       "      <th>fyear</th>\n",
       "      <th>indfmt</th>\n",
       "      <th>conm</th>\n",
       "      <th>curcd</th>\n",
       "      <th>fyr</th>\n",
       "      <th>ap</th>\n",
       "      <th>at</th>\n",
       "      <th>...</th>\n",
       "      <th>xint</th>\n",
       "      <th>costat</th>\n",
       "      <th>fic</th>\n",
       "      <th>addzip</th>\n",
       "      <th>city</th>\n",
       "      <th>dlrsn</th>\n",
       "      <th>fyrc</th>\n",
       "      <th>state</th>\n",
       "      <th>dldte</th>\n",
       "      <th>default</th>\n",
       "    </tr>\n",
       "  </thead>\n",
       "  <tbody>\n",
       "    <tr>\n",
       "      <th>2</th>\n",
       "      <td>2151B</td>\n",
       "      <td>259954</td>\n",
       "      <td>20061231</td>\n",
       "      <td>2006.0</td>\n",
       "      <td>INDL</td>\n",
       "      <td>CALIF PETROLEUM TRANSPORT CP</td>\n",
       "      <td>USD</td>\n",
       "      <td>12.0</td>\n",
       "      <td>0.000</td>\n",
       "      <td>100.625</td>\n",
       "      <td>...</td>\n",
       "      <td>8.729</td>\n",
       "      <td>A</td>\n",
       "      <td>USA</td>\n",
       "      <td>10036</td>\n",
       "      <td>New York</td>\n",
       "      <td>NaN</td>\n",
       "      <td>12</td>\n",
       "      <td>NY</td>\n",
       "      <td>NaN</td>\n",
       "      <td>0.0</td>\n",
       "    </tr>\n",
       "    <tr>\n",
       "      <th>14</th>\n",
       "      <td>2638B</td>\n",
       "      <td>8613</td>\n",
       "      <td>20070930</td>\n",
       "      <td>2007.0</td>\n",
       "      <td>INDL</td>\n",
       "      <td>PISMO COAST VILLAGE INC</td>\n",
       "      <td>USD</td>\n",
       "      <td>9.0</td>\n",
       "      <td>0.122</td>\n",
       "      <td>11.926</td>\n",
       "      <td>...</td>\n",
       "      <td>0.189</td>\n",
       "      <td>A</td>\n",
       "      <td>USA</td>\n",
       "      <td>93449</td>\n",
       "      <td>Pismo Beach</td>\n",
       "      <td>NaN</td>\n",
       "      <td>9</td>\n",
       "      <td>CA</td>\n",
       "      <td>NaN</td>\n",
       "      <td>0.0</td>\n",
       "    </tr>\n",
       "    <tr>\n",
       "      <th>16</th>\n",
       "      <td>2638B</td>\n",
       "      <td>8613</td>\n",
       "      <td>20090930</td>\n",
       "      <td>2009.0</td>\n",
       "      <td>INDL</td>\n",
       "      <td>PISMO COAST VILLAGE INC</td>\n",
       "      <td>USD</td>\n",
       "      <td>9.0</td>\n",
       "      <td>0.181</td>\n",
       "      <td>15.814</td>\n",
       "      <td>...</td>\n",
       "      <td>0.265</td>\n",
       "      <td>A</td>\n",
       "      <td>USA</td>\n",
       "      <td>93449</td>\n",
       "      <td>Pismo Beach</td>\n",
       "      <td>NaN</td>\n",
       "      <td>9</td>\n",
       "      <td>CA</td>\n",
       "      <td>NaN</td>\n",
       "      <td>0.0</td>\n",
       "    </tr>\n",
       "    <tr>\n",
       "      <th>17</th>\n",
       "      <td>2638B</td>\n",
       "      <td>8613</td>\n",
       "      <td>20100930</td>\n",
       "      <td>2010.0</td>\n",
       "      <td>INDL</td>\n",
       "      <td>PISMO COAST VILLAGE INC</td>\n",
       "      <td>USD</td>\n",
       "      <td>9.0</td>\n",
       "      <td>0.162</td>\n",
       "      <td>15.985</td>\n",
       "      <td>...</td>\n",
       "      <td>0.261</td>\n",
       "      <td>A</td>\n",
       "      <td>USA</td>\n",
       "      <td>93449</td>\n",
       "      <td>Pismo Beach</td>\n",
       "      <td>NaN</td>\n",
       "      <td>9</td>\n",
       "      <td>CA</td>\n",
       "      <td>NaN</td>\n",
       "      <td>0.0</td>\n",
       "    </tr>\n",
       "    <tr>\n",
       "      <th>0</th>\n",
       "      <td>3AMBEQ</td>\n",
       "      <td>1367</td>\n",
       "      <td>20030630</td>\n",
       "      <td>2003.0</td>\n",
       "      <td>INDL</td>\n",
       "      <td>AMBER RESOURCES CO OF COLO</td>\n",
       "      <td>USD</td>\n",
       "      <td>6.0</td>\n",
       "      <td>0.000</td>\n",
       "      <td>5.007</td>\n",
       "      <td>...</td>\n",
       "      <td>0.000</td>\n",
       "      <td>I</td>\n",
       "      <td>USA</td>\n",
       "      <td>80202</td>\n",
       "      <td>Denver</td>\n",
       "      <td>2.0</td>\n",
       "      <td>12</td>\n",
       "      <td>CO</td>\n",
       "      <td>20120831.0</td>\n",
       "      <td>1.0</td>\n",
       "    </tr>\n",
       "  </tbody>\n",
       "</table>\n",
       "<p>5 rows × 34 columns</p>\n",
       "</div>"
      ],
      "text/plain": [
       "       tic   gvkey  datadate   fyear indfmt                          conm  \\\n",
       "2    2151B  259954  20061231  2006.0   INDL  CALIF PETROLEUM TRANSPORT CP   \n",
       "14   2638B    8613  20070930  2007.0   INDL       PISMO COAST VILLAGE INC   \n",
       "16   2638B    8613  20090930  2009.0   INDL       PISMO COAST VILLAGE INC   \n",
       "17   2638B    8613  20100930  2010.0   INDL       PISMO COAST VILLAGE INC   \n",
       "0   3AMBEQ    1367  20030630  2003.0   INDL    AMBER RESOURCES CO OF COLO   \n",
       "\n",
       "   curcd   fyr     ap       at   ...      xint  costat  fic  addzip  \\\n",
       "2    USD  12.0  0.000  100.625   ...     8.729       A  USA   10036   \n",
       "14   USD   9.0  0.122   11.926   ...     0.189       A  USA   93449   \n",
       "16   USD   9.0  0.181   15.814   ...     0.265       A  USA   93449   \n",
       "17   USD   9.0  0.162   15.985   ...     0.261       A  USA   93449   \n",
       "0    USD   6.0  0.000    5.007   ...     0.000       I  USA   80202   \n",
       "\n",
       "           city  dlrsn  fyrc  state       dldte  default  \n",
       "2      New York    NaN    12     NY         NaN      0.0  \n",
       "14  Pismo Beach    NaN     9     CA         NaN      0.0  \n",
       "16  Pismo Beach    NaN     9     CA         NaN      0.0  \n",
       "17  Pismo Beach    NaN     9     CA         NaN      0.0  \n",
       "0        Denver    2.0    12     CO  20120831.0      1.0  \n",
       "\n",
       "[5 rows x 34 columns]"
      ]
     },
     "execution_count": 72,
     "metadata": {},
     "output_type": "execute_result"
    }
   ],
   "source": [
    "# this is our final clean, full, stratefied sampled dataframe\n",
    "gd_sme_clean_strat.head()"
   ]
  },
  {
   "cell_type": "code",
   "execution_count": 73,
   "metadata": {
    "collapsed": false
   },
   "outputs": [
    {
     "data": {
      "text/plain": [
       "(3159, 34)"
      ]
     },
     "execution_count": 73,
     "metadata": {},
     "output_type": "execute_result"
    }
   ],
   "source": [
    "gd_sme_clean_strat.shape"
   ]
  },
  {
   "cell_type": "code",
   "execution_count": 74,
   "metadata": {
    "collapsed": false
   },
   "outputs": [
    {
     "data": {
      "text/html": [
       "<div>\n",
       "<table border=\"1\" class=\"dataframe\">\n",
       "  <thead>\n",
       "    <tr style=\"text-align: right;\">\n",
       "      <th>default</th>\n",
       "      <th>0.0</th>\n",
       "      <th>1.0</th>\n",
       "      <th>ratio_pct</th>\n",
       "    </tr>\n",
       "    <tr>\n",
       "      <th>fyear</th>\n",
       "      <th></th>\n",
       "      <th></th>\n",
       "      <th></th>\n",
       "    </tr>\n",
       "  </thead>\n",
       "  <tbody>\n",
       "    <tr>\n",
       "      <th>2003.0</th>\n",
       "      <td>350</td>\n",
       "      <td>21</td>\n",
       "      <td>6.000000</td>\n",
       "    </tr>\n",
       "    <tr>\n",
       "      <th>2004.0</th>\n",
       "      <td>383</td>\n",
       "      <td>23</td>\n",
       "      <td>6.005222</td>\n",
       "    </tr>\n",
       "    <tr>\n",
       "      <th>2005.0</th>\n",
       "      <td>383</td>\n",
       "      <td>23</td>\n",
       "      <td>6.005222</td>\n",
       "    </tr>\n",
       "    <tr>\n",
       "      <th>2006.0</th>\n",
       "      <td>383</td>\n",
       "      <td>23</td>\n",
       "      <td>6.005222</td>\n",
       "    </tr>\n",
       "    <tr>\n",
       "      <th>2007.0</th>\n",
       "      <td>383</td>\n",
       "      <td>23</td>\n",
       "      <td>6.005222</td>\n",
       "    </tr>\n",
       "  </tbody>\n",
       "</table>\n",
       "</div>"
      ],
      "text/plain": [
       "default  0.0  1.0  ratio_pct\n",
       "fyear                       \n",
       "2003.0   350   21   6.000000\n",
       "2004.0   383   23   6.005222\n",
       "2005.0   383   23   6.005222\n",
       "2006.0   383   23   6.005222\n",
       "2007.0   383   23   6.005222"
      ]
     },
     "execution_count": 74,
     "metadata": {},
     "output_type": "execute_result"
    }
   ],
   "source": [
    "fdd2 = gd_sme_clean_strat[['fyear', 'tic', 'default']].groupby(['fyear', 'default'])['tic'].count().reset_index()\n",
    "fdd2 = fdd2.set_index(['fyear', 'default'])\n",
    "fdd2 = fdd2.unstack('default')\n",
    "fdd2.columns = fdd2.columns.droplevel(0)\n",
    "fdd2['ratio_pct'] = fdd2.iloc[:,1] / fdd2.iloc[:,0] * 100\n",
    "fdd2.head()"
   ]
  },
  {
   "cell_type": "code",
   "execution_count": 75,
   "metadata": {
    "collapsed": false
   },
   "outputs": [
    {
     "data": {
      "text/plain": [
       "<matplotlib.text.Text at 0x1181a400>"
      ]
     },
     "execution_count": 75,
     "metadata": {},
     "output_type": "execute_result"
    },
    {
     "data": {
      "image/png": "[encoded data removed]",
      "text/plain": [
       "<matplotlib.figure.Figure at 0xde94da0>"
      ]
     },
     "metadata": {},
     "output_type": "display_data"
    }
   ],
   "source": [
    "bx = fdd2['ratio_pct'].plot(kind='bar')\n",
    "bx.set_ylabel('Ratio of Defaulting to\\n non Defaulting Enterprizes')\n",
    "bx.set_xlabel('Financial Year')"
   ]
  }
 ],
 "metadata": {
  "anaconda-cloud": {},
  "kernelspec": {
   "display_name": "Python [conda root]",
   "language": "python",
   "name": "conda-root-py"
  },
  "language_info": {
   "codemirror_mode": {
    "name": "ipython",
    "version": 2
   },
   "file_extension": ".py",
   "mimetype": "text/x-python",
   "name": "python",
   "nbconvert_exporter": "python",
   "pygments_lexer": "ipython2",
   "version": "2.7.12"
  }
 },
 "nbformat": 4,
 "nbformat_minor": 1
}
