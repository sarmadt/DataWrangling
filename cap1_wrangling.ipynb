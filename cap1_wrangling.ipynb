{
 "cells": [
  {
   "cell_type": "code",
   "execution_count": 1,
   "metadata": {
    "collapsed": true
   },
   "outputs": [],
   "source": [
    "%matplotlib inline\n",
    "import pandas as pd"
   ]
  },
  {
   "cell_type": "code",
   "execution_count": 2,
   "metadata": {
    "collapsed": true
   },
   "outputs": [],
   "source": [
    "import os\n",
    "os.chdir(r'G:\\Cap1\\data')"
   ]
  },
  {
   "cell_type": "code",
   "execution_count": 3,
   "metadata": {
    "collapsed": false
   },
   "outputs": [
    {
     "name": "stderr",
     "output_type": "stream",
     "text": [
      "C:\\Users\\babsab\\Anaconda2\\lib\\site-packages\\IPython\\core\\interactiveshell.py:2717: DtypeWarning: Columns (35) have mixed types. Specify dtype option on import or set low_memory=False.\n",
      "  interactivity=interactivity, compiler=compiler, result=result)\n"
     ]
    }
   ],
   "source": [
    "# read company financial data\n",
    "fin_data = pd.read_csv('na_enterprize.csv', sep = ',', header = 0)"
   ]
  },
  {
   "cell_type": "code",
   "execution_count": 4,
   "metadata": {
    "collapsed": false
   },
   "outputs": [
    {
     "data": {
      "text/html": [
       "<div>\n",
       "<table border=\"1\" class=\"dataframe\">\n",
       "  <thead>\n",
       "    <tr style=\"text-align: right;\">\n",
       "      <th></th>\n",
       "      <th>gvkey</th>\n",
       "      <th>datadate</th>\n",
       "      <th>fyear</th>\n",
       "      <th>indfmt</th>\n",
       "      <th>consol</th>\n",
       "      <th>popsrc</th>\n",
       "      <th>datafmt</th>\n",
       "      <th>tic</th>\n",
       "      <th>conm</th>\n",
       "      <th>curcd</th>\n",
       "      <th>...</th>\n",
       "      <th>ni_fn</th>\n",
       "      <th>re_fn</th>\n",
       "      <th>sale_fn</th>\n",
       "      <th>xint_fn</th>\n",
       "      <th>addzip</th>\n",
       "      <th>city</th>\n",
       "      <th>dlrsn</th>\n",
       "      <th>fyrc</th>\n",
       "      <th>state</th>\n",
       "      <th>dldte</th>\n",
       "    </tr>\n",
       "  </thead>\n",
       "  <tbody>\n",
       "    <tr>\n",
       "      <th>0</th>\n",
       "      <td>1004</td>\n",
       "      <td>19950531</td>\n",
       "      <td>1994.0</td>\n",
       "      <td>INDL</td>\n",
       "      <td>C</td>\n",
       "      <td>D</td>\n",
       "      <td>STD</td>\n",
       "      <td>AIR</td>\n",
       "      <td>AAR CORP</td>\n",
       "      <td>USD</td>\n",
       "      <td>...</td>\n",
       "      <td>NaN</td>\n",
       "      <td>NaN</td>\n",
       "      <td>NaN</td>\n",
       "      <td>NaN</td>\n",
       "      <td>60191</td>\n",
       "      <td>Wood Dale</td>\n",
       "      <td>NaN</td>\n",
       "      <td>5</td>\n",
       "      <td>IL</td>\n",
       "      <td>NaN</td>\n",
       "    </tr>\n",
       "    <tr>\n",
       "      <th>1</th>\n",
       "      <td>1004</td>\n",
       "      <td>19960531</td>\n",
       "      <td>1995.0</td>\n",
       "      <td>INDL</td>\n",
       "      <td>C</td>\n",
       "      <td>D</td>\n",
       "      <td>STD</td>\n",
       "      <td>AIR</td>\n",
       "      <td>AAR CORP</td>\n",
       "      <td>USD</td>\n",
       "      <td>...</td>\n",
       "      <td>NaN</td>\n",
       "      <td>NaN</td>\n",
       "      <td>NaN</td>\n",
       "      <td>NaN</td>\n",
       "      <td>60191</td>\n",
       "      <td>Wood Dale</td>\n",
       "      <td>NaN</td>\n",
       "      <td>5</td>\n",
       "      <td>IL</td>\n",
       "      <td>NaN</td>\n",
       "    </tr>\n",
       "    <tr>\n",
       "      <th>2</th>\n",
       "      <td>1004</td>\n",
       "      <td>19970531</td>\n",
       "      <td>1996.0</td>\n",
       "      <td>INDL</td>\n",
       "      <td>C</td>\n",
       "      <td>D</td>\n",
       "      <td>STD</td>\n",
       "      <td>AIR</td>\n",
       "      <td>AAR CORP</td>\n",
       "      <td>USD</td>\n",
       "      <td>...</td>\n",
       "      <td>NaN</td>\n",
       "      <td>NaN</td>\n",
       "      <td>NaN</td>\n",
       "      <td>NaN</td>\n",
       "      <td>60191</td>\n",
       "      <td>Wood Dale</td>\n",
       "      <td>NaN</td>\n",
       "      <td>5</td>\n",
       "      <td>IL</td>\n",
       "      <td>NaN</td>\n",
       "    </tr>\n",
       "  </tbody>\n",
       "</table>\n",
       "<p>3 rows × 44 columns</p>\n",
       "</div>"
      ],
      "text/plain": [
       "   gvkey  datadate   fyear indfmt consol popsrc datafmt  tic      conm curcd  \\\n",
       "0   1004  19950531  1994.0   INDL      C      D     STD  AIR  AAR CORP   USD   \n",
       "1   1004  19960531  1995.0   INDL      C      D     STD  AIR  AAR CORP   USD   \n",
       "2   1004  19970531  1996.0   INDL      C      D     STD  AIR  AAR CORP   USD   \n",
       "\n",
       "   ...    ni_fn  re_fn  sale_fn  xint_fn  addzip       city  dlrsn  fyrc  \\\n",
       "0  ...      NaN    NaN      NaN      NaN   60191  Wood Dale    NaN     5   \n",
       "1  ...      NaN    NaN      NaN      NaN   60191  Wood Dale    NaN     5   \n",
       "2  ...      NaN    NaN      NaN      NaN   60191  Wood Dale    NaN     5   \n",
       "\n",
       "   state  dldte  \n",
       "0     IL    NaN  \n",
       "1     IL    NaN  \n",
       "2     IL    NaN  \n",
       "\n",
       "[3 rows x 44 columns]"
      ]
     },
     "execution_count": 4,
     "metadata": {},
     "output_type": "execute_result"
    }
   ],
   "source": [
    "fin_data.head(3)"
   ]
  },
  {
   "cell_type": "code",
   "execution_count": 5,
   "metadata": {
    "collapsed": false
   },
   "outputs": [
    {
     "data": {
      "text/plain": [
       "array([ 2000.,  2001.,  2002.,  2003.,  2004.,  2005.,  2006.,  2007.,\n",
       "        2008.,  2009.,  2010.,  2011.])"
      ]
     },
     "execution_count": 5,
     "metadata": {},
     "output_type": "execute_result"
    }
   ],
   "source": [
    "# filter the last decade sme data\n",
    "yr1 = 1999\n",
    "yr2 = 2012\n",
    "fin_data_dec1 = fin_data[(fin_data['fyear'] > yr1) & (fin_data['fyear'] < yr2) & (fin_data['fic'] == 'USA') \\\n",
    "                        & (fin_data['curcd'] == 'USD')]\n",
    "fin_data_dec1['fyear'].unique()"
   ]
  },
  {
   "cell_type": "code",
   "execution_count": 6,
   "metadata": {
    "collapsed": false
   },
   "outputs": [
    {
     "data": {
      "text/html": [
       "<div>\n",
       "<table border=\"1\" class=\"dataframe\">\n",
       "  <thead>\n",
       "    <tr style=\"text-align: right;\">\n",
       "      <th></th>\n",
       "      <th>gvkey</th>\n",
       "      <th>datadate</th>\n",
       "      <th>fyear</th>\n",
       "      <th>indfmt</th>\n",
       "      <th>consol</th>\n",
       "      <th>popsrc</th>\n",
       "      <th>datafmt</th>\n",
       "      <th>tic</th>\n",
       "      <th>conm</th>\n",
       "      <th>curcd</th>\n",
       "      <th>...</th>\n",
       "      <th>ni_fn</th>\n",
       "      <th>re_fn</th>\n",
       "      <th>sale_fn</th>\n",
       "      <th>xint_fn</th>\n",
       "      <th>addzip</th>\n",
       "      <th>city</th>\n",
       "      <th>dlrsn</th>\n",
       "      <th>fyrc</th>\n",
       "      <th>state</th>\n",
       "      <th>dldte</th>\n",
       "    </tr>\n",
       "  </thead>\n",
       "  <tbody>\n",
       "    <tr>\n",
       "      <th>233365</th>\n",
       "      <td>311524</td>\n",
       "      <td>20081231</td>\n",
       "      <td>2008.0</td>\n",
       "      <td>INDL</td>\n",
       "      <td>C</td>\n",
       "      <td>D</td>\n",
       "      <td>STD</td>\n",
       "      <td>TAM</td>\n",
       "      <td>TAMINCO CORP</td>\n",
       "      <td>USD</td>\n",
       "      <td>...</td>\n",
       "      <td>NaN</td>\n",
       "      <td>NaN</td>\n",
       "      <td>NaN</td>\n",
       "      <td>NaN</td>\n",
       "      <td>18195</td>\n",
       "      <td>Allentown</td>\n",
       "      <td>1.0</td>\n",
       "      <td>12</td>\n",
       "      <td>PA</td>\n",
       "      <td>20141208.0</td>\n",
       "    </tr>\n",
       "    <tr>\n",
       "      <th>233366</th>\n",
       "      <td>311524</td>\n",
       "      <td>20091231</td>\n",
       "      <td>2009.0</td>\n",
       "      <td>INDL</td>\n",
       "      <td>C</td>\n",
       "      <td>D</td>\n",
       "      <td>STD</td>\n",
       "      <td>TAM</td>\n",
       "      <td>TAMINCO CORP</td>\n",
       "      <td>USD</td>\n",
       "      <td>...</td>\n",
       "      <td>NaN</td>\n",
       "      <td>NaN</td>\n",
       "      <td>NaN</td>\n",
       "      <td>NaN</td>\n",
       "      <td>18195</td>\n",
       "      <td>Allentown</td>\n",
       "      <td>1.0</td>\n",
       "      <td>12</td>\n",
       "      <td>PA</td>\n",
       "      <td>20141208.0</td>\n",
       "    </tr>\n",
       "    <tr>\n",
       "      <th>233367</th>\n",
       "      <td>311524</td>\n",
       "      <td>20101231</td>\n",
       "      <td>2010.0</td>\n",
       "      <td>INDL</td>\n",
       "      <td>C</td>\n",
       "      <td>D</td>\n",
       "      <td>STD</td>\n",
       "      <td>TAM</td>\n",
       "      <td>TAMINCO CORP</td>\n",
       "      <td>USD</td>\n",
       "      <td>...</td>\n",
       "      <td>NaN</td>\n",
       "      <td>NaN</td>\n",
       "      <td>NaN</td>\n",
       "      <td>NaN</td>\n",
       "      <td>18195</td>\n",
       "      <td>Allentown</td>\n",
       "      <td>1.0</td>\n",
       "      <td>12</td>\n",
       "      <td>PA</td>\n",
       "      <td>20141208.0</td>\n",
       "    </tr>\n",
       "    <tr>\n",
       "      <th>233368</th>\n",
       "      <td>311524</td>\n",
       "      <td>20111231</td>\n",
       "      <td>2011.0</td>\n",
       "      <td>INDL</td>\n",
       "      <td>C</td>\n",
       "      <td>D</td>\n",
       "      <td>STD</td>\n",
       "      <td>TAM</td>\n",
       "      <td>TAMINCO CORP</td>\n",
       "      <td>USD</td>\n",
       "      <td>...</td>\n",
       "      <td>GP</td>\n",
       "      <td>NaN</td>\n",
       "      <td>NaN</td>\n",
       "      <td>QA</td>\n",
       "      <td>18195</td>\n",
       "      <td>Allentown</td>\n",
       "      <td>1.0</td>\n",
       "      <td>12</td>\n",
       "      <td>PA</td>\n",
       "      <td>20141208.0</td>\n",
       "    </tr>\n",
       "    <tr>\n",
       "      <th>233389</th>\n",
       "      <td>315318</td>\n",
       "      <td>20111231</td>\n",
       "      <td>2011.0</td>\n",
       "      <td>INDL</td>\n",
       "      <td>C</td>\n",
       "      <td>D</td>\n",
       "      <td>STD</td>\n",
       "      <td>PAH</td>\n",
       "      <td>PLATFORM SPECIALTY PRODUCTS</td>\n",
       "      <td>USD</td>\n",
       "      <td>...</td>\n",
       "      <td>NaN</td>\n",
       "      <td>NaN</td>\n",
       "      <td>NaN</td>\n",
       "      <td>NaN</td>\n",
       "      <td>33401</td>\n",
       "      <td>West Palm Beach</td>\n",
       "      <td>NaN</td>\n",
       "      <td>12</td>\n",
       "      <td>FL</td>\n",
       "      <td>NaN</td>\n",
       "    </tr>\n",
       "  </tbody>\n",
       "</table>\n",
       "<p>5 rows × 44 columns</p>\n",
       "</div>"
      ],
      "text/plain": [
       "         gvkey  datadate   fyear indfmt consol popsrc datafmt  tic  \\\n",
       "233365  311524  20081231  2008.0   INDL      C      D     STD  TAM   \n",
       "233366  311524  20091231  2009.0   INDL      C      D     STD  TAM   \n",
       "233367  311524  20101231  2010.0   INDL      C      D     STD  TAM   \n",
       "233368  311524  20111231  2011.0   INDL      C      D     STD  TAM   \n",
       "233389  315318  20111231  2011.0   INDL      C      D     STD  PAH   \n",
       "\n",
       "                               conm curcd     ...      ni_fn  re_fn  sale_fn  \\\n",
       "233365                 TAMINCO CORP   USD     ...        NaN    NaN      NaN   \n",
       "233366                 TAMINCO CORP   USD     ...        NaN    NaN      NaN   \n",
       "233367                 TAMINCO CORP   USD     ...        NaN    NaN      NaN   \n",
       "233368                 TAMINCO CORP   USD     ...         GP    NaN      NaN   \n",
       "233389  PLATFORM SPECIALTY PRODUCTS   USD     ...        NaN    NaN      NaN   \n",
       "\n",
       "        xint_fn  addzip             city  dlrsn  fyrc  state       dldte  \n",
       "233365      NaN   18195        Allentown    1.0    12     PA  20141208.0  \n",
       "233366      NaN   18195        Allentown    1.0    12     PA  20141208.0  \n",
       "233367      NaN   18195        Allentown    1.0    12     PA  20141208.0  \n",
       "233368       QA   18195        Allentown    1.0    12     PA  20141208.0  \n",
       "233389      NaN   33401  West Palm Beach    NaN    12     FL         NaN  \n",
       "\n",
       "[5 rows x 44 columns]"
      ]
     },
     "execution_count": 6,
     "metadata": {},
     "output_type": "execute_result"
    }
   ],
   "source": [
    "fin_data_dec1.tail()"
   ]
  },
  {
   "cell_type": "code",
   "execution_count": 7,
   "metadata": {
    "collapsed": false
   },
   "outputs": [
    {
     "name": "stderr",
     "output_type": "stream",
     "text": [
      "C:\\Users\\babsab\\Anaconda2\\lib\\site-packages\\ipykernel\\__main__.py:2: UserWarning: Boolean Series key will be reindexed to match DataFrame index.\n",
      "  from ipykernel import kernelapp as app\n"
     ]
    }
   ],
   "source": [
    "# filter the data for bankrupt enterprizes\n",
    "bkrpt_ent_data = fin_data_dec1[fin_data['dlrsn'] == 2]"
   ]
  },
  {
   "cell_type": "code",
   "execution_count": 8,
   "metadata": {
    "collapsed": false
   },
   "outputs": [
    {
     "data": {
      "text/html": [
       "<div>\n",
       "<table border=\"1\" class=\"dataframe\">\n",
       "  <thead>\n",
       "    <tr style=\"text-align: right;\">\n",
       "      <th></th>\n",
       "      <th>ticker</th>\n",
       "      <th>name</th>\n",
       "      <th>bkrpt_date</th>\n",
       "    </tr>\n",
       "  </thead>\n",
       "  <tbody>\n",
       "    <tr>\n",
       "      <th>0</th>\n",
       "      <td>KYC.</td>\n",
       "      <td>KEYSTONE CAMERA PRODUCTS</td>\n",
       "      <td>19920331.0</td>\n",
       "    </tr>\n",
       "    <tr>\n",
       "      <th>1</th>\n",
       "      <td>3HDTV.</td>\n",
       "      <td>HI-DEF ENTERPRISE INC</td>\n",
       "      <td>19930331.0</td>\n",
       "    </tr>\n",
       "    <tr>\n",
       "      <th>2</th>\n",
       "      <td>NAMS</td>\n",
       "      <td>NAMSCO CORP</td>\n",
       "      <td>19940331.0</td>\n",
       "    </tr>\n",
       "    <tr>\n",
       "      <th>3</th>\n",
       "      <td>3SCRD</td>\n",
       "      <td>SCIENTIFIC RADIO SYSTEMS INC</td>\n",
       "      <td>19950930.0</td>\n",
       "    </tr>\n",
       "    <tr>\n",
       "      <th>4</th>\n",
       "      <td>3UBDT</td>\n",
       "      <td>UBRANDIT.COM</td>\n",
       "      <td>20020131.0</td>\n",
       "    </tr>\n",
       "  </tbody>\n",
       "</table>\n",
       "</div>"
      ],
      "text/plain": [
       "   ticker                          name  bkrpt_date\n",
       "0    KYC.      KEYSTONE CAMERA PRODUCTS  19920331.0\n",
       "1  3HDTV.         HI-DEF ENTERPRISE INC  19930331.0\n",
       "2    NAMS                   NAMSCO CORP  19940331.0\n",
       "3   3SCRD  SCIENTIFIC RADIO SYSTEMS INC  19950930.0\n",
       "4   3UBDT                  UBRANDIT.COM  20020131.0"
      ]
     },
     "execution_count": 8,
     "metadata": {},
     "output_type": "execute_result"
    }
   ],
   "source": [
    "# create a list of bankrupt enterprizes\n",
    "bkrpt_ent = bkrpt_ent_data[['tic', 'conm', 'fyear', 'dlrsn', 'dldte']]\n",
    "bkrpt_ent.columns = ['ticker', 'name', 'fin_year', 'dlrsn', 'bkrpt_date']\n",
    "bkrpt_ent = bkrpt_ent.drop_duplicates(subset = ['ticker', 'name'], keep = 'last')\n",
    "bkrpt_ent = bkrpt_ent.sort_values(by = 'bkrpt_date')\n",
    "bkrpt_ent = bkrpt_ent.set_index('ticker').reset_index()\n",
    "bkrpt_ent = bkrpt_ent.drop(['fin_year', 'dlrsn'], 1)\n",
    "bkrpt_ent.head()"
   ]
  },
  {
   "cell_type": "code",
   "execution_count": 9,
   "metadata": {
    "collapsed": true
   },
   "outputs": [],
   "source": [
    "def conv(x):\n",
    "    return pd.Period(year = x // 10000, month = x//100 % 100, day = x%100, freq='D')\n",
    "\n",
    "bkrpt_ent['bkrpt_date'] = bkrpt_ent['bkrpt_date'].apply(conv)"
   ]
  },
  {
   "cell_type": "code",
   "execution_count": 10,
   "metadata": {
    "collapsed": false
   },
   "outputs": [
    {
     "name": "stdout",
     "output_type": "stream",
     "text": [
      "Total enterprizes defaulted during or after 2009  :  87\n"
     ]
    },
    {
     "data": {
      "text/html": [
       "<div>\n",
       "<table border=\"1\" class=\"dataframe\">\n",
       "  <thead>\n",
       "    <tr style=\"text-align: right;\">\n",
       "      <th></th>\n",
       "      <th>ticker</th>\n",
       "      <th>name</th>\n",
       "      <th>bkrpt_date</th>\n",
       "    </tr>\n",
       "  </thead>\n",
       "  <tbody>\n",
       "    <tr>\n",
       "      <th>117</th>\n",
       "      <td>FWMHQ</td>\n",
       "      <td>FAIRWAY GROUP HOLDINGS</td>\n",
       "      <td>2016-07-07</td>\n",
       "    </tr>\n",
       "    <tr>\n",
       "      <th>118</th>\n",
       "      <td>ANRZQ</td>\n",
       "      <td>ALPHA NATURAL RESOURCES INC</td>\n",
       "      <td>2016-07-28</td>\n",
       "    </tr>\n",
       "    <tr>\n",
       "      <th>119</th>\n",
       "      <td>DXMMQ</td>\n",
       "      <td>DEX MEDIA INC</td>\n",
       "      <td>2016-08-01</td>\n",
       "    </tr>\n",
       "    <tr>\n",
       "      <th>120</th>\n",
       "      <td>SMXIQ</td>\n",
       "      <td>SEBRING SOFTWARE INC</td>\n",
       "      <td>2016-08-15</td>\n",
       "    </tr>\n",
       "    <tr>\n",
       "      <th>121</th>\n",
       "      <td>KWKAQ</td>\n",
       "      <td>QUICKSILVER RESOURCES INC</td>\n",
       "      <td>2016-09-01</td>\n",
       "    </tr>\n",
       "  </tbody>\n",
       "</table>\n",
       "</div>"
      ],
      "text/plain": [
       "    ticker                         name bkrpt_date\n",
       "117  FWMHQ       FAIRWAY GROUP HOLDINGS 2016-07-07\n",
       "118  ANRZQ  ALPHA NATURAL RESOURCES INC 2016-07-28\n",
       "119  DXMMQ                DEX MEDIA INC 2016-08-01\n",
       "120  SMXIQ         SEBRING SOFTWARE INC 2016-08-15\n",
       "121  KWKAQ    QUICKSILVER RESOURCES INC 2016-09-01"
      ]
     },
     "execution_count": 10,
     "metadata": {},
     "output_type": "execute_result"
    }
   ],
   "source": [
    "# filter the enterprizes that defaulted during or after 2009\n",
    "year = 2009\n",
    "bkrpt_ent = bkrpt_ent[bkrpt_ent['bkrpt_date'] > pd.Period(year = year, month = 1, day = 1, freq='D')]\n",
    "print \"Total enterprizes defaulted during or after\", year, \" : \", len(bkrpt_ent)\n",
    "bkrpt_ent.tail()"
   ]
  },
  {
   "cell_type": "code",
   "execution_count": 11,
   "metadata": {
    "collapsed": false
   },
   "outputs": [
    {
     "data": {
      "text/html": [
       "<div>\n",
       "<table border=\"1\" class=\"dataframe\">\n",
       "  <thead>\n",
       "    <tr style=\"text-align: right;\">\n",
       "      <th></th>\n",
       "      <th>gvkey</th>\n",
       "      <th>datadate</th>\n",
       "      <th>fyear</th>\n",
       "      <th>indfmt</th>\n",
       "      <th>consol</th>\n",
       "      <th>popsrc</th>\n",
       "      <th>datafmt</th>\n",
       "      <th>tic</th>\n",
       "      <th>conm</th>\n",
       "      <th>curcd</th>\n",
       "      <th>...</th>\n",
       "      <th>ni_fn</th>\n",
       "      <th>re_fn</th>\n",
       "      <th>sale_fn</th>\n",
       "      <th>xint_fn</th>\n",
       "      <th>addzip</th>\n",
       "      <th>city</th>\n",
       "      <th>dlrsn</th>\n",
       "      <th>fyrc</th>\n",
       "      <th>state</th>\n",
       "      <th>dldte</th>\n",
       "    </tr>\n",
       "  </thead>\n",
       "  <tbody>\n",
       "    <tr>\n",
       "      <th>0</th>\n",
       "      <td>1367</td>\n",
       "      <td>20000630</td>\n",
       "      <td>2000.0</td>\n",
       "      <td>INDL</td>\n",
       "      <td>C</td>\n",
       "      <td>D</td>\n",
       "      <td>STD</td>\n",
       "      <td>3AMBEQ</td>\n",
       "      <td>AMBER RESOURCES CO OF COLO</td>\n",
       "      <td>USD</td>\n",
       "      <td>...</td>\n",
       "      <td>NaN</td>\n",
       "      <td>NaN</td>\n",
       "      <td>NaN</td>\n",
       "      <td>NaN</td>\n",
       "      <td>80202</td>\n",
       "      <td>Denver</td>\n",
       "      <td>2.0</td>\n",
       "      <td>12</td>\n",
       "      <td>CO</td>\n",
       "      <td>20120831.0</td>\n",
       "    </tr>\n",
       "    <tr>\n",
       "      <th>1</th>\n",
       "      <td>1367</td>\n",
       "      <td>20010630</td>\n",
       "      <td>2001.0</td>\n",
       "      <td>INDL</td>\n",
       "      <td>C</td>\n",
       "      <td>D</td>\n",
       "      <td>STD</td>\n",
       "      <td>3AMBEQ</td>\n",
       "      <td>AMBER RESOURCES CO OF COLO</td>\n",
       "      <td>USD</td>\n",
       "      <td>...</td>\n",
       "      <td>NaN</td>\n",
       "      <td>NaN</td>\n",
       "      <td>NaN</td>\n",
       "      <td>NaN</td>\n",
       "      <td>80202</td>\n",
       "      <td>Denver</td>\n",
       "      <td>2.0</td>\n",
       "      <td>12</td>\n",
       "      <td>CO</td>\n",
       "      <td>20120831.0</td>\n",
       "    </tr>\n",
       "    <tr>\n",
       "      <th>2</th>\n",
       "      <td>1367</td>\n",
       "      <td>20020630</td>\n",
       "      <td>2002.0</td>\n",
       "      <td>INDL</td>\n",
       "      <td>C</td>\n",
       "      <td>D</td>\n",
       "      <td>STD</td>\n",
       "      <td>3AMBEQ</td>\n",
       "      <td>AMBER RESOURCES CO OF COLO</td>\n",
       "      <td>USD</td>\n",
       "      <td>...</td>\n",
       "      <td>NaN</td>\n",
       "      <td>NaN</td>\n",
       "      <td>NaN</td>\n",
       "      <td>NaN</td>\n",
       "      <td>80202</td>\n",
       "      <td>Denver</td>\n",
       "      <td>2.0</td>\n",
       "      <td>12</td>\n",
       "      <td>CO</td>\n",
       "      <td>20120831.0</td>\n",
       "    </tr>\n",
       "  </tbody>\n",
       "</table>\n",
       "<p>3 rows × 44 columns</p>\n",
       "</div>"
      ],
      "text/plain": [
       "   gvkey  datadate   fyear indfmt consol popsrc datafmt     tic  \\\n",
       "0   1367  20000630  2000.0   INDL      C      D     STD  3AMBEQ   \n",
       "1   1367  20010630  2001.0   INDL      C      D     STD  3AMBEQ   \n",
       "2   1367  20020630  2002.0   INDL      C      D     STD  3AMBEQ   \n",
       "\n",
       "                         conm curcd     ...      ni_fn  re_fn  sale_fn  \\\n",
       "0  AMBER RESOURCES CO OF COLO   USD     ...        NaN    NaN      NaN   \n",
       "1  AMBER RESOURCES CO OF COLO   USD     ...        NaN    NaN      NaN   \n",
       "2  AMBER RESOURCES CO OF COLO   USD     ...        NaN    NaN      NaN   \n",
       "\n",
       "   xint_fn  addzip    city  dlrsn  fyrc  state       dldte  \n",
       "0      NaN   80202  Denver    2.0    12     CO  20120831.0  \n",
       "1      NaN   80202  Denver    2.0    12     CO  20120831.0  \n",
       "2      NaN   80202  Denver    2.0    12     CO  20120831.0  \n",
       "\n",
       "[3 rows x 44 columns]"
      ]
     },
     "execution_count": 11,
     "metadata": {},
     "output_type": "execute_result"
    }
   ],
   "source": [
    "# keep only the above enterprizes in the last decade default data\n",
    "# merge bkrpt_ent_data with the bkrpt_ent on ticker, lh = later half\n",
    "bkrpt_lh = bkrpt_ent_data.merge(bkrpt_ent, how='right', left_on='tic', right_on='ticker')\n",
    "bkrpt_lh = bkrpt_lh.drop(['ticker', 'name', 'bkrpt_date'], 1)\n",
    "bkrpt_lh.head(3)"
   ]
  },
  {
   "cell_type": "code",
   "execution_count": 12,
   "metadata": {
    "collapsed": false
   },
   "outputs": [
    {
     "name": "stderr",
     "output_type": "stream",
     "text": [
      "C:\\Users\\babsab\\Anaconda2\\lib\\site-packages\\ipykernel\\__main__.py:2: UserWarning: Boolean Series key will be reindexed to match DataFrame index.\n",
      "  from ipykernel import kernelapp as app\n"
     ]
    },
    {
     "data": {
      "text/plain": [
       "(101929, 44)"
      ]
     },
     "execution_count": 12,
     "metadata": {},
     "output_type": "execute_result"
    }
   ],
   "source": [
    "# filter the data for non-defaulting enterprizes\n",
    "nd_ent = fin_data_dec1[fin_data['dlrsn'] != 2]\n",
    "nd_ent.shape"
   ]
  },
  {
   "cell_type": "code",
   "execution_count": 13,
   "metadata": {
    "collapsed": false
   },
   "outputs": [
    {
     "data": {
      "text/plain": [
       "(102679, 44)"
      ]
     },
     "execution_count": 13,
     "metadata": {},
     "output_type": "execute_result"
    }
   ],
   "source": [
    "# concat the default and non-default data\n",
    "dec1 = pd.concat([bkrpt_lh, nd_ent])\n",
    "dec1.shape"
   ]
  },
  {
   "cell_type": "code",
   "execution_count": 14,
   "metadata": {
    "collapsed": false
   },
   "outputs": [
    {
     "data": {
      "text/plain": [
       "(102679, 45)"
      ]
     },
     "execution_count": 14,
     "metadata": {},
     "output_type": "execute_result"
    }
   ],
   "source": [
    "# add default column\n",
    "dec1.ix[dec1['dlrsn']==2,'default'] = 1;\n",
    "dec1.ix[dec1['dlrsn']!=2,'default'] = 0;\n",
    "dec1.shape"
   ]
  },
  {
   "cell_type": "code",
   "execution_count": 15,
   "metadata": {
    "collapsed": false
   },
   "outputs": [
    {
     "data": {
      "text/html": [
       "<div>\n",
       "<table border=\"1\" class=\"dataframe\">\n",
       "  <thead>\n",
       "    <tr style=\"text-align: right;\">\n",
       "      <th></th>\n",
       "      <th>tic</th>\n",
       "      <th>gvkey</th>\n",
       "      <th>datadate</th>\n",
       "      <th>fyear</th>\n",
       "      <th>indfmt</th>\n",
       "      <th>consol</th>\n",
       "      <th>popsrc</th>\n",
       "      <th>datafmt</th>\n",
       "      <th>conm</th>\n",
       "      <th>curcd</th>\n",
       "      <th>...</th>\n",
       "      <th>re_fn</th>\n",
       "      <th>sale_fn</th>\n",
       "      <th>xint_fn</th>\n",
       "      <th>addzip</th>\n",
       "      <th>city</th>\n",
       "      <th>dlrsn</th>\n",
       "      <th>fyrc</th>\n",
       "      <th>state</th>\n",
       "      <th>dldte</th>\n",
       "      <th>default</th>\n",
       "    </tr>\n",
       "  </thead>\n",
       "  <tbody>\n",
       "    <tr>\n",
       "      <th>0</th>\n",
       "      <td>3AMBEQ</td>\n",
       "      <td>1367</td>\n",
       "      <td>20000630</td>\n",
       "      <td>2000.0</td>\n",
       "      <td>INDL</td>\n",
       "      <td>C</td>\n",
       "      <td>D</td>\n",
       "      <td>STD</td>\n",
       "      <td>AMBER RESOURCES CO OF COLO</td>\n",
       "      <td>USD</td>\n",
       "      <td>...</td>\n",
       "      <td>NaN</td>\n",
       "      <td>NaN</td>\n",
       "      <td>NaN</td>\n",
       "      <td>80202</td>\n",
       "      <td>Denver</td>\n",
       "      <td>2.0</td>\n",
       "      <td>12</td>\n",
       "      <td>CO</td>\n",
       "      <td>20120831.0</td>\n",
       "      <td>1.0</td>\n",
       "    </tr>\n",
       "    <tr>\n",
       "      <th>1</th>\n",
       "      <td>3AMBEQ</td>\n",
       "      <td>1367</td>\n",
       "      <td>20010630</td>\n",
       "      <td>2001.0</td>\n",
       "      <td>INDL</td>\n",
       "      <td>C</td>\n",
       "      <td>D</td>\n",
       "      <td>STD</td>\n",
       "      <td>AMBER RESOURCES CO OF COLO</td>\n",
       "      <td>USD</td>\n",
       "      <td>...</td>\n",
       "      <td>NaN</td>\n",
       "      <td>NaN</td>\n",
       "      <td>NaN</td>\n",
       "      <td>80202</td>\n",
       "      <td>Denver</td>\n",
       "      <td>2.0</td>\n",
       "      <td>12</td>\n",
       "      <td>CO</td>\n",
       "      <td>20120831.0</td>\n",
       "      <td>1.0</td>\n",
       "    </tr>\n",
       "    <tr>\n",
       "      <th>2</th>\n",
       "      <td>3AMBEQ</td>\n",
       "      <td>1367</td>\n",
       "      <td>20020630</td>\n",
       "      <td>2002.0</td>\n",
       "      <td>INDL</td>\n",
       "      <td>C</td>\n",
       "      <td>D</td>\n",
       "      <td>STD</td>\n",
       "      <td>AMBER RESOURCES CO OF COLO</td>\n",
       "      <td>USD</td>\n",
       "      <td>...</td>\n",
       "      <td>NaN</td>\n",
       "      <td>NaN</td>\n",
       "      <td>NaN</td>\n",
       "      <td>80202</td>\n",
       "      <td>Denver</td>\n",
       "      <td>2.0</td>\n",
       "      <td>12</td>\n",
       "      <td>CO</td>\n",
       "      <td>20120831.0</td>\n",
       "      <td>1.0</td>\n",
       "    </tr>\n",
       "  </tbody>\n",
       "</table>\n",
       "<p>3 rows × 45 columns</p>\n",
       "</div>"
      ],
      "text/plain": [
       "      tic  gvkey  datadate   fyear indfmt consol popsrc datafmt  \\\n",
       "0  3AMBEQ   1367  20000630  2000.0   INDL      C      D     STD   \n",
       "1  3AMBEQ   1367  20010630  2001.0   INDL      C      D     STD   \n",
       "2  3AMBEQ   1367  20020630  2002.0   INDL      C      D     STD   \n",
       "\n",
       "                         conm curcd   ...     re_fn  sale_fn  xint_fn  addzip  \\\n",
       "0  AMBER RESOURCES CO OF COLO   USD   ...       NaN      NaN      NaN   80202   \n",
       "1  AMBER RESOURCES CO OF COLO   USD   ...       NaN      NaN      NaN   80202   \n",
       "2  AMBER RESOURCES CO OF COLO   USD   ...       NaN      NaN      NaN   80202   \n",
       "\n",
       "     city  dlrsn  fyrc  state       dldte  default  \n",
       "0  Denver    2.0    12     CO  20120831.0      1.0  \n",
       "1  Denver    2.0    12     CO  20120831.0      1.0  \n",
       "2  Denver    2.0    12     CO  20120831.0      1.0  \n",
       "\n",
       "[3 rows x 45 columns]"
      ]
     },
     "execution_count": 15,
     "metadata": {},
     "output_type": "execute_result"
    }
   ],
   "source": [
    "fcwise = dec1.set_index('tic', 'fyear').reset_index()\n",
    "fcwise.head(3)"
   ]
  },
  {
   "cell_type": "code",
   "execution_count": 16,
   "metadata": {
    "collapsed": false
   },
   "outputs": [
    {
     "data": {
      "text/plain": [
       "6091"
      ]
     },
     "execution_count": 16,
     "metadata": {},
     "output_type": "execute_result"
    }
   ],
   "source": [
    "# filter small and medium enterprizes - those with average sale less than $65M\n",
    "avg_sale = fcwise[['tic', 'conm', 'sale']].groupby('tic').mean()\n",
    "sme_sales = avg_sale[avg_sale['sale'] <= 65]\n",
    "sme_sales = sme_sales.reset_index()\n",
    "len(sme_sales)"
   ]
  },
  {
   "cell_type": "code",
   "execution_count": 17,
   "metadata": {
    "collapsed": false
   },
   "outputs": [
    {
     "data": {
      "text/plain": [
       "(37105, 45)"
      ]
     },
     "execution_count": 17,
     "metadata": {},
     "output_type": "execute_result"
    }
   ],
   "source": [
    "# keep only the sme data in sme_data\n",
    "sme_data = fcwise.merge(sme_sales, how='right', left_on='tic', right_on='tic')\n",
    "sme_data = sme_data.drop('sale_y', 1)\n",
    "sme_data.shape"
   ]
  },
  {
   "cell_type": "code",
   "execution_count": 18,
   "metadata": {
    "collapsed": false
   },
   "outputs": [
    {
     "data": {
      "text/html": [
       "<div>\n",
       "<table border=\"1\" class=\"dataframe\">\n",
       "  <thead>\n",
       "    <tr style=\"text-align: right;\">\n",
       "      <th>default</th>\n",
       "      <th>0.0</th>\n",
       "      <th>1.0</th>\n",
       "      <th>ratio</th>\n",
       "    </tr>\n",
       "    <tr>\n",
       "      <th>fyear</th>\n",
       "      <th></th>\n",
       "      <th></th>\n",
       "      <th></th>\n",
       "    </tr>\n",
       "  </thead>\n",
       "  <tbody>\n",
       "    <tr>\n",
       "      <th>2000.0</th>\n",
       "      <td>4058</td>\n",
       "      <td>20</td>\n",
       "      <td>202.900000</td>\n",
       "    </tr>\n",
       "    <tr>\n",
       "      <th>2001.0</th>\n",
       "      <td>3826</td>\n",
       "      <td>20</td>\n",
       "      <td>191.300000</td>\n",
       "    </tr>\n",
       "    <tr>\n",
       "      <th>2002.0</th>\n",
       "      <td>3515</td>\n",
       "      <td>20</td>\n",
       "      <td>175.750000</td>\n",
       "    </tr>\n",
       "    <tr>\n",
       "      <th>2003.0</th>\n",
       "      <td>3296</td>\n",
       "      <td>22</td>\n",
       "      <td>149.818182</td>\n",
       "    </tr>\n",
       "    <tr>\n",
       "      <th>2004.0</th>\n",
       "      <td>3134</td>\n",
       "      <td>25</td>\n",
       "      <td>125.360000</td>\n",
       "    </tr>\n",
       "  </tbody>\n",
       "</table>\n",
       "</div>"
      ],
      "text/plain": [
       "default   0.0  1.0       ratio\n",
       "fyear                         \n",
       "2000.0   4058   20  202.900000\n",
       "2001.0   3826   20  191.300000\n",
       "2002.0   3515   20  175.750000\n",
       "2003.0   3296   22  149.818182\n",
       "2004.0   3134   25  125.360000"
      ]
     },
     "execution_count": 18,
     "metadata": {},
     "output_type": "execute_result"
    }
   ],
   "source": [
    "fdd1 = sme_data[['fyear', 'tic', 'default']].groupby(['fyear', 'default'])['tic'].count().reset_index()\n",
    "fdd1 = fdd1.set_index(['fyear', 'default'])\n",
    "fdd1 = fdd1.unstack('default')\n",
    "fdd1.columns = fdd1.columns.droplevel(0)\n",
    "fdd1['ratio'] = fdd1.iloc[:,0] / fdd1.iloc[:,1]\n",
    "fdd1.head()"
   ]
  },
  {
   "cell_type": "code",
   "execution_count": 19,
   "metadata": {
    "collapsed": false
   },
   "outputs": [
    {
     "data": {
      "text/plain": [
       "<matplotlib.text.Text at 0xe08e978>"
      ]
     },
     "execution_count": 19,
     "metadata": {},
     "output_type": "execute_result"
    },
    {
     "data": {
      "image/png": "[encoded data removed]",
      "text/plain": [
       "<matplotlib.figure.Figure at 0xa0aa828>"
      ]
     },
     "metadata": {},
     "output_type": "display_data"
    }
   ],
   "source": [
    "ax = fdd1['ratio'].plot(kind='bar')\n",
    "ax.set_title('Ratio of Non Defaulting to\\n Defaulting US SMEs')\n",
    "ax.set_xlabel('Financial Year')\n",
    "ax.set_ylabel('Ratio')"
   ]
  },
  {
   "cell_type": "code",
   "execution_count": 20,
   "metadata": {
    "collapsed": true
   },
   "outputs": [],
   "source": [
    "# drop not needed columns\n",
    "sme_data = sme_data.drop(['consol', 'popsrc', 'datafmt', 'ap_fn', 'at_fn', 'ni_fn', 're_fn', 'sale_fn', 'xint_fn'], 1)"
   ]
  },
  {
   "cell_type": "code",
   "execution_count": 21,
   "metadata": {
    "collapsed": true
   },
   "outputs": [],
   "source": [
    "sme_d = sme_data[sme_data['default']==1]\n",
    "sme_nd = sme_data[sme_data['default']==0]"
   ]
  },
  {
   "cell_type": "code",
   "execution_count": 22,
   "metadata": {
    "collapsed": false
   },
   "outputs": [
    {
     "name": "stdout",
     "output_type": "stream",
     "text": [
      "shape of sme_data (37105, 36)\n",
      "shape of sme_d (251, 36)\n",
      "shape of sme_nd (36854, 36)\n"
     ]
    }
   ],
   "source": [
    "# now, we have three data sets\n",
    "# 1. sme_data - all enterprizes data\n",
    "# 2. sme_d - defaulting enterprizes data\n",
    "# 3. sme_nd - non-defaulting enterprizes data\n",
    "\n",
    "print 'shape of sme_data', sme_data.shape\n",
    "print 'shape of sme_d', sme_d.shape\n",
    "print 'shape of sme_nd', sme_nd.shape"
   ]
  },
  {
   "cell_type": "code",
   "execution_count": 23,
   "metadata": {
    "collapsed": false
   },
   "outputs": [
    {
     "data": {
      "text/html": [
       "<div>\n",
       "<table border=\"1\" class=\"dataframe\">\n",
       "  <thead>\n",
       "    <tr style=\"text-align: right;\">\n",
       "      <th></th>\n",
       "      <th>ap</th>\n",
       "      <th>at</th>\n",
       "      <th>ceq</th>\n",
       "      <th>ceql</th>\n",
       "      <th>ch</th>\n",
       "      <th>ebit</th>\n",
       "      <th>ebitda</th>\n",
       "      <th>intan</th>\n",
       "      <th>lt</th>\n",
       "      <th>ni</th>\n",
       "      <th>re</th>\n",
       "      <th>recd</th>\n",
       "      <th>rect</th>\n",
       "      <th>rectr</th>\n",
       "      <th>sale_x</th>\n",
       "      <th>seq</th>\n",
       "      <th>teq</th>\n",
       "      <th>wcap</th>\n",
       "      <th>xint</th>\n",
       "    </tr>\n",
       "  </thead>\n",
       "  <tbody>\n",
       "    <tr>\n",
       "      <th>0</th>\n",
       "      <td>12</td>\n",
       "      <td>12</td>\n",
       "      <td>12</td>\n",
       "      <td>12</td>\n",
       "      <td>12</td>\n",
       "      <td>12</td>\n",
       "      <td>12</td>\n",
       "      <td>12</td>\n",
       "      <td>12</td>\n",
       "      <td>12</td>\n",
       "      <td>12</td>\n",
       "      <td>10</td>\n",
       "      <td>12</td>\n",
       "      <td>12</td>\n",
       "      <td>12</td>\n",
       "      <td>12</td>\n",
       "      <td>12</td>\n",
       "      <td>12</td>\n",
       "      <td>12</td>\n",
       "    </tr>\n",
       "    <tr>\n",
       "      <th>1</th>\n",
       "      <td>3</td>\n",
       "      <td>3</td>\n",
       "      <td>3</td>\n",
       "      <td>3</td>\n",
       "      <td>3</td>\n",
       "      <td>3</td>\n",
       "      <td>3</td>\n",
       "      <td>3</td>\n",
       "      <td>3</td>\n",
       "      <td>3</td>\n",
       "      <td>3</td>\n",
       "      <td>1</td>\n",
       "      <td>3</td>\n",
       "      <td>3</td>\n",
       "      <td>3</td>\n",
       "      <td>3</td>\n",
       "      <td>0</td>\n",
       "      <td>3</td>\n",
       "      <td>3</td>\n",
       "    </tr>\n",
       "    <tr>\n",
       "      <th>2</th>\n",
       "      <td>9</td>\n",
       "      <td>9</td>\n",
       "      <td>9</td>\n",
       "      <td>9</td>\n",
       "      <td>9</td>\n",
       "      <td>9</td>\n",
       "      <td>9</td>\n",
       "      <td>9</td>\n",
       "      <td>9</td>\n",
       "      <td>9</td>\n",
       "      <td>9</td>\n",
       "      <td>4</td>\n",
       "      <td>9</td>\n",
       "      <td>9</td>\n",
       "      <td>9</td>\n",
       "      <td>9</td>\n",
       "      <td>0</td>\n",
       "      <td>9</td>\n",
       "      <td>8</td>\n",
       "    </tr>\n",
       "    <tr>\n",
       "      <th>3</th>\n",
       "      <td>9</td>\n",
       "      <td>9</td>\n",
       "      <td>9</td>\n",
       "      <td>9</td>\n",
       "      <td>9</td>\n",
       "      <td>9</td>\n",
       "      <td>9</td>\n",
       "      <td>9</td>\n",
       "      <td>9</td>\n",
       "      <td>9</td>\n",
       "      <td>9</td>\n",
       "      <td>1</td>\n",
       "      <td>9</td>\n",
       "      <td>9</td>\n",
       "      <td>9</td>\n",
       "      <td>9</td>\n",
       "      <td>0</td>\n",
       "      <td>9</td>\n",
       "      <td>9</td>\n",
       "    </tr>\n",
       "    <tr>\n",
       "      <th>4</th>\n",
       "      <td>12</td>\n",
       "      <td>12</td>\n",
       "      <td>12</td>\n",
       "      <td>12</td>\n",
       "      <td>12</td>\n",
       "      <td>12</td>\n",
       "      <td>12</td>\n",
       "      <td>12</td>\n",
       "      <td>12</td>\n",
       "      <td>12</td>\n",
       "      <td>12</td>\n",
       "      <td>12</td>\n",
       "      <td>12</td>\n",
       "      <td>12</td>\n",
       "      <td>12</td>\n",
       "      <td>12</td>\n",
       "      <td>4</td>\n",
       "      <td>12</td>\n",
       "      <td>12</td>\n",
       "    </tr>\n",
       "  </tbody>\n",
       "</table>\n",
       "</div>"
      ],
      "text/plain": [
       "   ap  at  ceq  ceql  ch  ebit  ebitda  intan  lt  ni  re  recd  rect  rectr  \\\n",
       "0  12  12   12    12  12    12      12     12  12  12  12    10    12     12   \n",
       "1   3   3    3     3   3     3       3      3   3   3   3     1     3      3   \n",
       "2   9   9    9     9   9     9       9      9   9   9   9     4     9      9   \n",
       "3   9   9    9     9   9     9       9      9   9   9   9     1     9      9   \n",
       "4  12  12   12    12  12    12      12     12  12  12  12    12    12     12   \n",
       "\n",
       "   sale_x  seq  teq  wcap  xint  \n",
       "0      12   12   12    12    12  \n",
       "1       3    3    0     3     3  \n",
       "2       9    9    0     9     8  \n",
       "3       9    9    0     9     9  \n",
       "4      12   12    4    12    12  "
      ]
     },
     "execution_count": 23,
     "metadata": {},
     "output_type": "execute_result"
    }
   ],
   "source": [
    "sme_d_pts = sme_d.groupby('tic').count().reset_index()\n",
    "sme_d_pts.iloc[:,8:27].head()"
   ]
  },
  {
   "cell_type": "code",
   "execution_count": 24,
   "metadata": {
    "collapsed": false
   },
   "outputs": [
    {
     "data": {
      "text/plain": [
       "ap        8.241379\n",
       "at        8.241379\n",
       "ceq       8.241379\n",
       "ceql      8.103448\n",
       "ch        8.206897\n",
       "ebit      8.172414\n",
       "ebitda    8.172414\n",
       "intan     8.137931\n",
       "lt        8.241379\n",
       "ni        8.172414\n",
       "re        8.241379\n",
       "recd      5.275862\n",
       "rect      8.241379\n",
       "rectr     8.241379\n",
       "sale_x    8.172414\n",
       "seq       8.241379\n",
       "teq       2.793103\n",
       "wcap      7.896552\n",
       "xint      8.034483\n",
       "dtype: float64"
      ]
     },
     "execution_count": 24,
     "metadata": {},
     "output_type": "execute_result"
    }
   ],
   "source": [
    "sme_d_pts.mean()[7:26]"
   ]
  },
  {
   "cell_type": "code",
   "execution_count": 25,
   "metadata": {
    "collapsed": false
   },
   "outputs": [
    {
     "data": {
      "text/plain": [
       "ap        9.0\n",
       "at        9.0\n",
       "ceq       9.0\n",
       "ceql      9.0\n",
       "ch        9.0\n",
       "ebit      9.0\n",
       "ebitda    9.0\n",
       "intan     8.0\n",
       "lt        9.0\n",
       "ni        9.0\n",
       "re        9.0\n",
       "recd      5.0\n",
       "rect      9.0\n",
       "rectr     9.0\n",
       "sale_x    9.0\n",
       "seq       9.0\n",
       "teq       1.0\n",
       "wcap      8.0\n",
       "xint      8.0\n",
       "dtype: float64"
      ]
     },
     "execution_count": 25,
     "metadata": {},
     "output_type": "execute_result"
    }
   ],
   "source": [
    "sme_d_pts.median()[7:26]"
   ]
  },
  {
   "cell_type": "code",
   "execution_count": 26,
   "metadata": {
    "collapsed": false
   },
   "outputs": [
    {
     "data": {
      "text/plain": [
       "<matplotlib.text.Text at 0xe9d6e48>"
      ]
     },
     "execution_count": 26,
     "metadata": {},
     "output_type": "execute_result"
    },
    {
     "data": {
      "image/png": "[encoded data removed]",
      "text/plain": [
       "<matplotlib.figure.Figure at 0xcf4f860>"
      ]
     },
     "metadata": {},
     "output_type": "display_data"
    }
   ],
   "source": [
    "aap = sme_d_pts['ap'].plot(kind='hist')\n",
    "aap.set_ylabel('Relative Frequency')\n",
    "aap.set_xlabel('Nb of Data Points')\n",
    "aap.set_title('Data Completeness for Defaulting Ent')"
   ]
  },
  {
   "cell_type": "code",
   "execution_count": 27,
   "metadata": {
    "collapsed": false
   },
   "outputs": [
    {
     "data": {
      "text/html": [
       "<div>\n",
       "<table border=\"1\" class=\"dataframe\">\n",
       "  <thead>\n",
       "    <tr style=\"text-align: right;\">\n",
       "      <th></th>\n",
       "      <th>ap</th>\n",
       "      <th>at</th>\n",
       "      <th>ceq</th>\n",
       "      <th>ceql</th>\n",
       "      <th>ch</th>\n",
       "      <th>ebit</th>\n",
       "      <th>ebitda</th>\n",
       "      <th>intan</th>\n",
       "      <th>lt</th>\n",
       "      <th>ni</th>\n",
       "      <th>re</th>\n",
       "      <th>recd</th>\n",
       "      <th>rect</th>\n",
       "      <th>rectr</th>\n",
       "      <th>sale_x</th>\n",
       "      <th>seq</th>\n",
       "      <th>teq</th>\n",
       "      <th>wcap</th>\n",
       "      <th>xint</th>\n",
       "    </tr>\n",
       "  </thead>\n",
       "  <tbody>\n",
       "    <tr>\n",
       "      <th>0</th>\n",
       "      <td>3</td>\n",
       "      <td>3</td>\n",
       "      <td>3</td>\n",
       "      <td>3</td>\n",
       "      <td>3</td>\n",
       "      <td>3</td>\n",
       "      <td>3</td>\n",
       "      <td>3</td>\n",
       "      <td>3</td>\n",
       "      <td>3</td>\n",
       "      <td>0</td>\n",
       "      <td>3</td>\n",
       "      <td>3</td>\n",
       "      <td>3</td>\n",
       "      <td>3</td>\n",
       "      <td>3</td>\n",
       "      <td>0</td>\n",
       "      <td>3</td>\n",
       "      <td>3</td>\n",
       "    </tr>\n",
       "    <tr>\n",
       "      <th>1</th>\n",
       "      <td>12</td>\n",
       "      <td>12</td>\n",
       "      <td>12</td>\n",
       "      <td>9</td>\n",
       "      <td>3</td>\n",
       "      <td>12</td>\n",
       "      <td>12</td>\n",
       "      <td>12</td>\n",
       "      <td>12</td>\n",
       "      <td>12</td>\n",
       "      <td>12</td>\n",
       "      <td>4</td>\n",
       "      <td>12</td>\n",
       "      <td>12</td>\n",
       "      <td>12</td>\n",
       "      <td>12</td>\n",
       "      <td>10</td>\n",
       "      <td>0</td>\n",
       "      <td>12</td>\n",
       "    </tr>\n",
       "    <tr>\n",
       "      <th>2</th>\n",
       "      <td>5</td>\n",
       "      <td>5</td>\n",
       "      <td>5</td>\n",
       "      <td>5</td>\n",
       "      <td>5</td>\n",
       "      <td>5</td>\n",
       "      <td>5</td>\n",
       "      <td>5</td>\n",
       "      <td>5</td>\n",
       "      <td>5</td>\n",
       "      <td>5</td>\n",
       "      <td>0</td>\n",
       "      <td>5</td>\n",
       "      <td>5</td>\n",
       "      <td>5</td>\n",
       "      <td>5</td>\n",
       "      <td>0</td>\n",
       "      <td>5</td>\n",
       "      <td>5</td>\n",
       "    </tr>\n",
       "    <tr>\n",
       "      <th>3</th>\n",
       "      <td>2</td>\n",
       "      <td>2</td>\n",
       "      <td>2</td>\n",
       "      <td>2</td>\n",
       "      <td>2</td>\n",
       "      <td>2</td>\n",
       "      <td>2</td>\n",
       "      <td>2</td>\n",
       "      <td>2</td>\n",
       "      <td>2</td>\n",
       "      <td>2</td>\n",
       "      <td>2</td>\n",
       "      <td>2</td>\n",
       "      <td>2</td>\n",
       "      <td>2</td>\n",
       "      <td>2</td>\n",
       "      <td>0</td>\n",
       "      <td>2</td>\n",
       "      <td>2</td>\n",
       "    </tr>\n",
       "    <tr>\n",
       "      <th>4</th>\n",
       "      <td>2</td>\n",
       "      <td>2</td>\n",
       "      <td>2</td>\n",
       "      <td>0</td>\n",
       "      <td>2</td>\n",
       "      <td>2</td>\n",
       "      <td>2</td>\n",
       "      <td>2</td>\n",
       "      <td>2</td>\n",
       "      <td>2</td>\n",
       "      <td>2</td>\n",
       "      <td>2</td>\n",
       "      <td>2</td>\n",
       "      <td>2</td>\n",
       "      <td>2</td>\n",
       "      <td>2</td>\n",
       "      <td>0</td>\n",
       "      <td>2</td>\n",
       "      <td>2</td>\n",
       "    </tr>\n",
       "  </tbody>\n",
       "</table>\n",
       "</div>"
      ],
      "text/plain": [
       "   ap  at  ceq  ceql  ch  ebit  ebitda  intan  lt  ni  re  recd  rect  rectr  \\\n",
       "0   3   3    3     3   3     3       3      3   3   3   0     3     3      3   \n",
       "1  12  12   12     9   3    12      12     12  12  12  12     4    12     12   \n",
       "2   5   5    5     5   5     5       5      5   5   5   5     0     5      5   \n",
       "3   2   2    2     2   2     2       2      2   2   2   2     2     2      2   \n",
       "4   2   2    2     0   2     2       2      2   2   2   2     2     2      2   \n",
       "\n",
       "   sale_x  seq  teq  wcap  xint  \n",
       "0       3    3    0     3     3  \n",
       "1      12   12   10     0    12  \n",
       "2       5    5    0     5     5  \n",
       "3       2    2    0     2     2  \n",
       "4       2    2    0     2     2  "
      ]
     },
     "execution_count": 27,
     "metadata": {},
     "output_type": "execute_result"
    }
   ],
   "source": [
    "sme_nd_pts = sme_nd.groupby('tic').count().reset_index()\n",
    "sme_nd_pts.iloc[:,8:27].head()"
   ]
  },
  {
   "cell_type": "code",
   "execution_count": 28,
   "metadata": {
    "collapsed": false
   },
   "outputs": [
    {
     "data": {
      "text/plain": [
       "ap        5.818872\n",
       "at        5.824810\n",
       "ceq       5.820356\n",
       "ceql      5.677994\n",
       "ch        5.775322\n",
       "ebit      5.714286\n",
       "ebitda    5.704718\n",
       "intan     5.598152\n",
       "lt        5.816397\n",
       "ni        5.786209\n",
       "re        5.716100\n",
       "recd      3.419993\n",
       "rect      5.790333\n",
       "rectr     4.915210\n",
       "sale_x    5.785714\n",
       "seq       5.824315\n",
       "teq       2.074398\n",
       "wcap      4.660673\n",
       "xint      4.503299\n",
       "dtype: float64"
      ]
     },
     "execution_count": 28,
     "metadata": {},
     "output_type": "execute_result"
    }
   ],
   "source": [
    "sme_nd_pts.mean()[7:26]"
   ]
  },
  {
   "cell_type": "code",
   "execution_count": 29,
   "metadata": {
    "collapsed": false
   },
   "outputs": [
    {
     "data": {
      "text/plain": [
       "<matplotlib.text.Text at 0x1161c7b8>"
      ]
     },
     "execution_count": 29,
     "metadata": {},
     "output_type": "execute_result"
    },
    {
     "data": {
      "image/png": "[encoded data removed]",
      "text/plain": [
       "<matplotlib.figure.Figure at 0xd4c29e8>"
      ]
     },
     "metadata": {},
     "output_type": "display_data"
    }
   ],
   "source": [
    "aap1 = sme_nd_pts['ap'].plot(kind='hist', normed=True)\n",
    "aap1.set_ylabel('Relative Frequency')\n",
    "aap1.set_xlabel('Nb of Data Points')\n",
    "aap1.set_title('Data Completeness for Non-Defaulting AP')"
   ]
  },
  {
   "cell_type": "code",
   "execution_count": 30,
   "metadata": {
    "collapsed": false
   },
   "outputs": [
    {
     "data": {
      "text/plain": [
       "<matplotlib.text.Text at 0xcce3c88>"
      ]
     },
     "execution_count": 30,
     "metadata": {},
     "output_type": "execute_result"
    },
    {
     "data": {
      "image/png": "[encoded data removed]",
      "text/plain": [
       "<matplotlib.figure.Figure at 0xccbee80>"
      ]
     },
     "metadata": {},
     "output_type": "display_data"
    }
   ],
   "source": [
    "ateq1 = sme_nd_pts['teq'].plot(kind='hist', normed=True)\n",
    "ateq1.set_ylabel('Relative Frequency')\n",
    "ateq1.set_xlabel('Nb of Data Points')\n",
    "ateq1.set_title('Data Completeness for Non-Defaulting TEQ')"
   ]
  },
  {
   "cell_type": "code",
   "execution_count": 31,
   "metadata": {
    "collapsed": false,
    "scrolled": true
   },
   "outputs": [
    {
     "data": {
      "text/plain": [
       "<matplotlib.text.Text at 0x9f5bb38>"
      ]
     },
     "execution_count": 31,
     "metadata": {},
     "output_type": "execute_result"
    },
    {
     "data": {
      "image/png": "[encoded data removed]",
      "text/plain": [
       "<matplotlib.figure.Figure at 0x99249b0>"
      ]
     },
     "metadata": {},
     "output_type": "display_data"
    }
   ],
   "source": [
    "arecd1 = sme_nd_pts['recd'].plot(kind='hist', normed=True)\n",
    "arecd1.set_ylabel('Relative Frequency')\n",
    "arecd1.set_xlabel('Nb of Data Points')\n",
    "arecd1.set_title('Data Completeness for Non-Defaulting RECD')"
   ]
  },
  {
   "cell_type": "code",
   "execution_count": 32,
   "metadata": {
    "collapsed": false
   },
   "outputs": [
    {
     "data": {
      "text/plain": [
       "<matplotlib.text.Text at 0x11697c50>"
      ]
     },
     "execution_count": 32,
     "metadata": {},
     "output_type": "execute_result"
    },
    {
     "data": {
      "image/png": "[encoded data removed]",
      "text/plain": [
       "<matplotlib.figure.Figure at 0xea9d080>"
      ]
     },
     "metadata": {},
     "output_type": "display_data"
    }
   ],
   "source": [
    "arectr1 = sme_nd_pts['rectr'].plot(kind='hist', normed=True)\n",
    "arectr1.set_ylabel('Relative Frequency')\n",
    "arectr1.set_xlabel('Nb of Data Points')\n",
    "arectr1.set_title('Data Completeness for Non-Defaulting RECTR')"
   ]
  },
  {
   "cell_type": "code",
   "execution_count": 33,
   "metadata": {
    "collapsed": false
   },
   "outputs": [
    {
     "data": {
      "text/plain": [
       "<matplotlib.text.Text at 0xcc5db00>"
      ]
     },
     "execution_count": 33,
     "metadata": {},
     "output_type": "execute_result"
    },
    {
     "data": {
      "image/png": "[encoded data removed]",
      "text/plain": [
       "<matplotlib.figure.Figure at 0x9924470>"
      ]
     },
     "metadata": {},
     "output_type": "display_data"
    }
   ],
   "source": [
    "awcap1 = sme_nd_pts['wcap'].plot(kind='hist', normed=True)\n",
    "awcap1.set_ylabel('Relative Frequency')\n",
    "awcap1.set_xlabel('Nb of Data Points')\n",
    "awcap1.set_title('Data Completeness for Non-Defaulting WCAP')"
   ]
  },
  {
   "cell_type": "code",
   "execution_count": 34,
   "metadata": {
    "collapsed": true
   },
   "outputs": [],
   "source": [
    "# let's drop the recd, teq because of insufficient data pts\n",
    "sme_data = sme_data.drop(['recd', 'teq'], 1)\n",
    "sme_d = sme_d.drop(['recd', 'teq'], 1)\n",
    "sme_nd = sme_nd.drop(['recd', 'teq'], 1)"
   ]
  },
  {
   "cell_type": "code",
   "execution_count": 35,
   "metadata": {
    "collapsed": false
   },
   "outputs": [
    {
     "data": {
      "text/plain": [
       "(809, 1)"
      ]
     },
     "execution_count": 35,
     "metadata": {},
     "output_type": "execute_result"
    }
   ],
   "source": [
    "# filter non defaulting sme with greater than t data points\n",
    "t = 9\n",
    "temp_nd = sme_nd_pts[(sme_nd_pts['ap']>t) & (sme_nd_pts['at']>t) & (sme_nd_pts['ceq']>t) & (sme_nd_pts['ceql']>t) &\n",
    "            (sme_nd_pts['ch']>t) & (sme_nd_pts['ebit']>t) & (sme_nd_pts['ebitda']>t) & (sme_nd_pts['intan']>t) &\n",
    "            (sme_nd_pts['lt']>t) & (sme_nd_pts['ni']>t) & (sme_nd_pts['re']>t) & (sme_nd_pts['rect']>t) &\n",
    "            (sme_nd_pts['rectr']>t) & (sme_nd_pts['sale_x']>t) & (sme_nd_pts['seq']>t) & (sme_nd_pts['wcap']>t) &\n",
    "            (sme_nd_pts['xint']>t)]\n",
    "\n",
    "#list of good data non defaulting sme\n",
    "gd_nd = temp_nd['tic'].reset_index().drop('index', 1)\n",
    "gd_nd.shape"
   ]
  },
  {
   "cell_type": "code",
   "execution_count": 36,
   "metadata": {
    "collapsed": false
   },
   "outputs": [
    {
     "data": {
      "text/plain": [
       "Index([u'tic', u'gvkey', u'datadate', u'fyear', u'indfmt', u'conm', u'curcd',\n",
       "       u'fyr', u'ap', u'at', u'ceq', u'ceql', u'ch', u'ebit', u'ebitda',\n",
       "       u'intan', u'lt', u'ni', u're', u'rect', u'rectr', u'sale_x', u'seq',\n",
       "       u'wcap', u'xint', u'costat', u'fic', u'addzip', u'city', u'dlrsn',\n",
       "       u'fyrc', u'state', u'dldte', u'default'],\n",
       "      dtype='object')"
      ]
     },
     "execution_count": 36,
     "metadata": {},
     "output_type": "execute_result"
    }
   ],
   "source": [
    "gd_sme_nd = gd_nd.merge(sme_nd, how='left', left_on='tic', right_on='tic')\n",
    "gd_sme_nd.columns"
   ]
  },
  {
   "cell_type": "code",
   "execution_count": 37,
   "metadata": {
    "collapsed": false
   },
   "outputs": [
    {
     "data": {
      "text/plain": [
       "(18, 1)"
      ]
     },
     "execution_count": 37,
     "metadata": {},
     "output_type": "execute_result"
    }
   ],
   "source": [
    "# filter defaulting sme with greater than t data points\n",
    "t = 7\n",
    "temp_d = sme_d_pts[(sme_d_pts['ap']>t) & (sme_d_pts['at']>t) & (sme_d_pts['ceq']>t) & (sme_d_pts['ceql']>t) &\n",
    "            (sme_d_pts['ch']>t) & (sme_d_pts['ebit']>t) & (sme_d_pts['ebitda']>t) & (sme_d_pts['intan']>t) &\n",
    "            (sme_d_pts['lt']>t) & (sme_d_pts['ni']>t) & (sme_d_pts['re']>t) & (sme_d_pts['rect']>t) &\n",
    "            (sme_d_pts['rectr']>t) & (sme_d_pts['sale_x']>t) & (sme_d_pts['seq']>t) & (sme_d_pts['wcap']>t) &\n",
    "            (sme_d_pts['xint']>t)]\n",
    "\n",
    "#list of good data defaulting sme\n",
    "gd_d = temp_d['tic'].reset_index().drop('index', 1)\n",
    "gd_d.shape"
   ]
  },
  {
   "cell_type": "code",
   "execution_count": 38,
   "metadata": {
    "collapsed": false
   },
   "outputs": [
    {
     "data": {
      "text/plain": [
       "Index([u'tic', u'gvkey', u'datadate', u'fyear', u'indfmt', u'conm', u'curcd',\n",
       "       u'fyr', u'ap', u'at', u'ceq', u'ceql', u'ch', u'ebit', u'ebitda',\n",
       "       u'intan', u'lt', u'ni', u're', u'rect', u'rectr', u'sale_x', u'seq',\n",
       "       u'wcap', u'xint', u'costat', u'fic', u'addzip', u'city', u'dlrsn',\n",
       "       u'fyrc', u'state', u'dldte', u'default'],\n",
       "      dtype='object')"
      ]
     },
     "execution_count": 38,
     "metadata": {},
     "output_type": "execute_result"
    }
   ],
   "source": [
    "# here we get the full data of the defaulting sme\n",
    "gd_sme_d = gd_d.merge(sme_d, how='left', left_on='tic', right_on='tic')\n",
    "gd_sme_d.columns"
   ]
  },
  {
   "cell_type": "code",
   "execution_count": 39,
   "metadata": {
    "collapsed": false
   },
   "outputs": [
    {
     "data": {
      "text/plain": [
       "16"
      ]
     },
     "execution_count": 39,
     "metadata": {},
     "output_type": "execute_result"
    }
   ],
   "source": [
    "# find defaulting enterprizes that are common in a range of years\n",
    "y1 = 2000\n",
    "y2 = 2007\n",
    "\n",
    "yrwise_dfs = []\n",
    "for year in range(y1,y2+1):\n",
    "    yrwise_dfs.append(gd_sme_d[gd_sme_d['fyear']==year])\n",
    "\n",
    "df_int = yrwise_dfs[0]\n",
    "for i in range(1, len(yrwise_dfs)):\n",
    "    df_int = df_int.merge(yrwise_dfs[i], how='inner', on='tic')\n",
    "\n",
    "dyy_ent = pd.DataFrame(df_int['tic'])\n",
    "len(dyy_ent)"
   ]
  },
  {
   "cell_type": "code",
   "execution_count": 40,
   "metadata": {
    "collapsed": false
   },
   "outputs": [
    {
     "data": {
      "text/html": [
       "<div>\n",
       "<table border=\"1\" class=\"dataframe\">\n",
       "  <thead>\n",
       "    <tr style=\"text-align: right;\">\n",
       "      <th></th>\n",
       "      <th>tic</th>\n",
       "      <th>fyear</th>\n",
       "      <th>ap</th>\n",
       "    </tr>\n",
       "  </thead>\n",
       "  <tbody>\n",
       "    <tr>\n",
       "      <th>0</th>\n",
       "      <td>2638B</td>\n",
       "      <td>2000.0</td>\n",
       "      <td>0.072</td>\n",
       "    </tr>\n",
       "    <tr>\n",
       "      <th>1</th>\n",
       "      <td>2638B</td>\n",
       "      <td>2001.0</td>\n",
       "      <td>0.099</td>\n",
       "    </tr>\n",
       "    <tr>\n",
       "      <th>2</th>\n",
       "      <td>2638B</td>\n",
       "      <td>2002.0</td>\n",
       "      <td>0.080</td>\n",
       "    </tr>\n",
       "    <tr>\n",
       "      <th>3</th>\n",
       "      <td>2638B</td>\n",
       "      <td>2003.0</td>\n",
       "      <td>0.096</td>\n",
       "    </tr>\n",
       "    <tr>\n",
       "      <th>4</th>\n",
       "      <td>2638B</td>\n",
       "      <td>2004.0</td>\n",
       "      <td>0.074</td>\n",
       "    </tr>\n",
       "  </tbody>\n",
       "</table>\n",
       "</div>"
      ],
      "text/plain": [
       "     tic   fyear     ap\n",
       "0  2638B  2000.0  0.072\n",
       "1  2638B  2001.0  0.099\n",
       "2  2638B  2002.0  0.080\n",
       "3  2638B  2003.0  0.096\n",
       "4  2638B  2004.0  0.074"
      ]
     },
     "execution_count": 40,
     "metadata": {},
     "output_type": "execute_result"
    }
   ],
   "source": [
    "#lets plot some variables\n",
    "gd_sme_nd_ap = gd_sme_nd[['tic', 'fyear', 'ap']]\n",
    "gd_sme_nd_ap.head()"
   ]
  },
  {
   "cell_type": "code",
   "execution_count": 41,
   "metadata": {
    "collapsed": false
   },
   "outputs": [],
   "source": [
    "gd_sme_nd_apy = gd_sme_nd_ap.set_index(['tic', 'fyear']).unstack('tic')"
   ]
  },
  {
   "cell_type": "code",
   "execution_count": 42,
   "metadata": {
    "collapsed": false
   },
   "outputs": [
    {
     "data": {
      "text/html": [
       "<div>\n",
       "<table border=\"1\" class=\"dataframe\">\n",
       "  <thead>\n",
       "    <tr>\n",
       "      <th></th>\n",
       "      <th colspan=\"21\" halign=\"left\">ap</th>\n",
       "    </tr>\n",
       "    <tr>\n",
       "      <th>tic</th>\n",
       "      <th>2638B</th>\n",
       "      <th>3ADTI</th>\n",
       "      <th>3AEMI</th>\n",
       "      <th>3BETM</th>\n",
       "      <th>3DRUG</th>\n",
       "      <th>3EVCL</th>\n",
       "      <th>3GLOB</th>\n",
       "      <th>3INIS</th>\n",
       "      <th>3NEPH</th>\n",
       "      <th>3OISI</th>\n",
       "      <th>...</th>\n",
       "      <th>XPOI</th>\n",
       "      <th>YOCM</th>\n",
       "      <th>YORW</th>\n",
       "      <th>YTBLQ</th>\n",
       "      <th>ZAAP</th>\n",
       "      <th>ZANE</th>\n",
       "      <th>ZIXI</th>\n",
       "      <th>ZNCM</th>\n",
       "      <th>ZRBA</th>\n",
       "      <th>ZYXI</th>\n",
       "    </tr>\n",
       "    <tr>\n",
       "      <th>fyear</th>\n",
       "      <th></th>\n",
       "      <th></th>\n",
       "      <th></th>\n",
       "      <th></th>\n",
       "      <th></th>\n",
       "      <th></th>\n",
       "      <th></th>\n",
       "      <th></th>\n",
       "      <th></th>\n",
       "      <th></th>\n",
       "      <th></th>\n",
       "      <th></th>\n",
       "      <th></th>\n",
       "      <th></th>\n",
       "      <th></th>\n",
       "      <th></th>\n",
       "      <th></th>\n",
       "      <th></th>\n",
       "      <th></th>\n",
       "      <th></th>\n",
       "      <th></th>\n",
       "    </tr>\n",
       "  </thead>\n",
       "  <tbody>\n",
       "    <tr>\n",
       "      <th>2000.0</th>\n",
       "      <td>0.072</td>\n",
       "      <td>0.144</td>\n",
       "      <td>11.406</td>\n",
       "      <td>0.402</td>\n",
       "      <td>1.436</td>\n",
       "      <td>0.068</td>\n",
       "      <td>0.465</td>\n",
       "      <td>4.460</td>\n",
       "      <td>NaN</td>\n",
       "      <td>0.490</td>\n",
       "      <td>...</td>\n",
       "      <td>0.770</td>\n",
       "      <td>0.881</td>\n",
       "      <td>1.169</td>\n",
       "      <td>0.317</td>\n",
       "      <td>0.398</td>\n",
       "      <td>0.000</td>\n",
       "      <td>2.431</td>\n",
       "      <td>2.427</td>\n",
       "      <td>1.364</td>\n",
       "      <td>0.112</td>\n",
       "    </tr>\n",
       "    <tr>\n",
       "      <th>2001.0</th>\n",
       "      <td>0.099</td>\n",
       "      <td>0.182</td>\n",
       "      <td>6.057</td>\n",
       "      <td>0.249</td>\n",
       "      <td>1.319</td>\n",
       "      <td>0.265</td>\n",
       "      <td>0.262</td>\n",
       "      <td>0.181</td>\n",
       "      <td>1.891</td>\n",
       "      <td>0.627</td>\n",
       "      <td>...</td>\n",
       "      <td>0.074</td>\n",
       "      <td>1.142</td>\n",
       "      <td>0.478</td>\n",
       "      <td>0.410</td>\n",
       "      <td>1.282</td>\n",
       "      <td>0.243</td>\n",
       "      <td>3.506</td>\n",
       "      <td>2.448</td>\n",
       "      <td>1.172</td>\n",
       "      <td>0.005</td>\n",
       "    </tr>\n",
       "    <tr>\n",
       "      <th>2002.0</th>\n",
       "      <td>0.080</td>\n",
       "      <td>0.231</td>\n",
       "      <td>2.231</td>\n",
       "      <td>2.434</td>\n",
       "      <td>1.526</td>\n",
       "      <td>0.735</td>\n",
       "      <td>0.177</td>\n",
       "      <td>0.258</td>\n",
       "      <td>0.946</td>\n",
       "      <td>0.591</td>\n",
       "      <td>...</td>\n",
       "      <td>NaN</td>\n",
       "      <td>1.084</td>\n",
       "      <td>0.739</td>\n",
       "      <td>0.082</td>\n",
       "      <td>0.498</td>\n",
       "      <td>0.232</td>\n",
       "      <td>2.701</td>\n",
       "      <td>5.398</td>\n",
       "      <td>1.767</td>\n",
       "      <td>0.004</td>\n",
       "    </tr>\n",
       "    <tr>\n",
       "      <th>2003.0</th>\n",
       "      <td>0.096</td>\n",
       "      <td>0.262</td>\n",
       "      <td>1.367</td>\n",
       "      <td>0.448</td>\n",
       "      <td>1.428</td>\n",
       "      <td>0.000</td>\n",
       "      <td>0.304</td>\n",
       "      <td>0.321</td>\n",
       "      <td>1.416</td>\n",
       "      <td>0.523</td>\n",
       "      <td>...</td>\n",
       "      <td>0.128</td>\n",
       "      <td>1.145</td>\n",
       "      <td>1.743</td>\n",
       "      <td>0.133</td>\n",
       "      <td>0.538</td>\n",
       "      <td>1.367</td>\n",
       "      <td>3.738</td>\n",
       "      <td>6.580</td>\n",
       "      <td>2.321</td>\n",
       "      <td>0.010</td>\n",
       "    </tr>\n",
       "    <tr>\n",
       "      <th>2004.0</th>\n",
       "      <td>0.074</td>\n",
       "      <td>0.063</td>\n",
       "      <td>18.234</td>\n",
       "      <td>0.516</td>\n",
       "      <td>1.548</td>\n",
       "      <td>0.000</td>\n",
       "      <td>0.122</td>\n",
       "      <td>0.329</td>\n",
       "      <td>0.630</td>\n",
       "      <td>0.472</td>\n",
       "      <td>...</td>\n",
       "      <td>0.065</td>\n",
       "      <td>1.208</td>\n",
       "      <td>1.798</td>\n",
       "      <td>0.744</td>\n",
       "      <td>0.150</td>\n",
       "      <td>1.142</td>\n",
       "      <td>1.234</td>\n",
       "      <td>5.319</td>\n",
       "      <td>1.855</td>\n",
       "      <td>0.180</td>\n",
       "    </tr>\n",
       "  </tbody>\n",
       "</table>\n",
       "<p>5 rows × 809 columns</p>\n",
       "</div>"
      ],
      "text/plain": [
       "           ap                                                                  \\\n",
       "tic     2638B  3ADTI   3AEMI  3BETM  3DRUG  3EVCL  3GLOB  3INIS  3NEPH  3OISI   \n",
       "fyear                                                                           \n",
       "2000.0  0.072  0.144  11.406  0.402  1.436  0.068  0.465  4.460    NaN  0.490   \n",
       "2001.0  0.099  0.182   6.057  0.249  1.319  0.265  0.262  0.181  1.891  0.627   \n",
       "2002.0  0.080  0.231   2.231  2.434  1.526  0.735  0.177  0.258  0.946  0.591   \n",
       "2003.0  0.096  0.262   1.367  0.448  1.428  0.000  0.304  0.321  1.416  0.523   \n",
       "2004.0  0.074  0.063  18.234  0.516  1.548  0.000  0.122  0.329  0.630  0.472   \n",
       "\n",
       "        ...                                                                   \\\n",
       "tic     ...     XPOI   YOCM   YORW  YTBLQ   ZAAP   ZANE   ZIXI   ZNCM   ZRBA   \n",
       "fyear   ...                                                                    \n",
       "2000.0  ...    0.770  0.881  1.169  0.317  0.398  0.000  2.431  2.427  1.364   \n",
       "2001.0  ...    0.074  1.142  0.478  0.410  1.282  0.243  3.506  2.448  1.172   \n",
       "2002.0  ...      NaN  1.084  0.739  0.082  0.498  0.232  2.701  5.398  1.767   \n",
       "2003.0  ...    0.128  1.145  1.743  0.133  0.538  1.367  3.738  6.580  2.321   \n",
       "2004.0  ...    0.065  1.208  1.798  0.744  0.150  1.142  1.234  5.319  1.855   \n",
       "\n",
       "               \n",
       "tic      ZYXI  \n",
       "fyear          \n",
       "2000.0  0.112  \n",
       "2001.0  0.005  \n",
       "2002.0  0.004  \n",
       "2003.0  0.010  \n",
       "2004.0  0.180  \n",
       "\n",
       "[5 rows x 809 columns]"
      ]
     },
     "execution_count": 42,
     "metadata": {},
     "output_type": "execute_result"
    }
   ],
   "source": [
    "gd_sme_nd_apy.head()"
   ]
  },
  {
   "cell_type": "code",
   "execution_count": 43,
   "metadata": {
    "collapsed": false
   },
   "outputs": [
    {
     "data": {
      "text/plain": [
       "<matplotlib.text.Text at 0x10928d30>"
      ]
     },
     "execution_count": 43,
     "metadata": {},
     "output_type": "execute_result"
    },
    {
     "data": {
      "image/png": "[encoded data removed]",
      "text/plain": [
       "<matplotlib.figure.Figure at 0xdb7e080>"
      ]
     },
     "metadata": {},
     "output_type": "display_data"
    }
   ],
   "source": [
    "# plot accounts payable for a random range of sme\n",
    "aapfy = gd_sme_nd_apy.iloc[:,5:10].plot(y='ap')\n",
    "aapfy.set_xlabel('Financial Year')\n",
    "aapfy.set_ylabel('USD (Millions)')\n",
    "aapfy.set_title('AP for Selected Enterprizes')"
   ]
  },
  {
   "cell_type": "code",
   "execution_count": 44,
   "metadata": {
    "collapsed": false
   },
   "outputs": [
    {
     "data": {
      "text/plain": [
       "<matplotlib.text.Text at 0xd117438>"
      ]
     },
     "execution_count": 44,
     "metadata": {},
     "output_type": "execute_result"
    },
    {
     "data": {
      "image/png": "[encoded data removed]",
      "text/plain": [
       "<matplotlib.figure.Figure at 0x10977dd8>"
      ]
     },
     "metadata": {},
     "output_type": "display_data"
    }
   ],
   "source": [
    "# now plot with interpolation\n",
    "aapify = gd_sme_nd_apy.iloc[:,5:10].interpolate().plot(y='ap')\n",
    "aapify.set_xlabel('Financial Year')\n",
    "aapify.set_ylabel('USD (Millions)')\n",
    "aapify.set_title('AP for Selected Enterprizes (Interpolated)')"
   ]
  },
  {
   "cell_type": "code",
   "execution_count": 45,
   "metadata": {
    "collapsed": false
   },
   "outputs": [
    {
     "data": {
      "text/plain": [
       "<matplotlib.text.Text at 0x94a2a58>"
      ]
     },
     "execution_count": 45,
     "metadata": {},
     "output_type": "execute_result"
    },
    {
     "data": {
      "image/png": "[encoded data removed]",
      "text/plain": [
       "<matplotlib.figure.Figure at 0xd1e6e80>"
      ]
     },
     "metadata": {},
     "output_type": "display_data"
    }
   ],
   "source": [
    "# plot another random range\n",
    "aap2fy = gd_sme_nd_apy.iloc[:,100:105].plot(y='ap')\n",
    "aap2fy.set_xlabel('Financial Year')\n",
    "aap2fy.set_ylabel('USD (Millions)')\n",
    "aap2fy.set_title('AP for Selected Enterprizes')"
   ]
  },
  {
   "cell_type": "code",
   "execution_count": 46,
   "metadata": {
    "collapsed": false
   },
   "outputs": [
    {
     "data": {
      "text/plain": [
       "<matplotlib.text.Text at 0x97426d8>"
      ]
     },
     "execution_count": 46,
     "metadata": {},
     "output_type": "execute_result"
    },
    {
     "data": {
      "image/png": "[encoded data removed]",
      "text/plain": [
       "<matplotlib.figure.Figure at 0xdb642b0>"
      ]
     },
     "metadata": {},
     "output_type": "display_data"
    }
   ],
   "source": [
    "# plot still another random range\n",
    "aap3fy = gd_sme_nd_apy.iloc[:,559:564].plot(y='ap')\n",
    "aap3fy.set_xlabel('Financial Year')\n",
    "aap3fy.set_ylabel('USD (Millions)')\n",
    "aap3fy.set_title('AP for Selected Enterprizes')"
   ]
  },
  {
   "cell_type": "code",
   "execution_count": 47,
   "metadata": {
    "collapsed": false
   },
   "outputs": [
    {
     "data": {
      "text/plain": [
       "<matplotlib.text.Text at 0xda4f828>"
      ]
     },
     "execution_count": 47,
     "metadata": {},
     "output_type": "execute_result"
    },
    {
     "data": {
      "image/png": "[encoded data removed]",
      "text/plain": [
       "<matplotlib.figure.Figure at 0x97388d0>"
      ]
     },
     "metadata": {},
     "output_type": "display_data"
    }
   ],
   "source": [
    "# interpolate this in both directions\n",
    "aap3ify = gd_sme_nd_apy.iloc[:,759:764].interpolate(limit=3, limit_direction='both').plot(y='ap')\n",
    "aap3ify.set_xlabel('Financial Year')\n",
    "aap3ify.set_ylabel('USD (Millions)')\n",
    "aap3ify.set_title('AP for Selected Enterprizes (interpolated)')"
   ]
  },
  {
   "cell_type": "code",
   "execution_count": 48,
   "metadata": {
    "collapsed": false
   },
   "outputs": [
    {
     "data": {
      "text/html": [
       "<div>\n",
       "<table border=\"1\" class=\"dataframe\">\n",
       "  <thead>\n",
       "    <tr style=\"text-align: right;\">\n",
       "      <th></th>\n",
       "      <th>tic</th>\n",
       "      <th>gvkey</th>\n",
       "      <th>datadate</th>\n",
       "      <th>fyear</th>\n",
       "      <th>indfmt</th>\n",
       "      <th>conm</th>\n",
       "      <th>curcd</th>\n",
       "      <th>fyr</th>\n",
       "      <th>costat</th>\n",
       "      <th>fic</th>\n",
       "      <th>addzip</th>\n",
       "      <th>city</th>\n",
       "      <th>dlrsn</th>\n",
       "      <th>fyrc</th>\n",
       "      <th>state</th>\n",
       "      <th>dldte</th>\n",
       "      <th>default</th>\n",
       "    </tr>\n",
       "  </thead>\n",
       "  <tbody>\n",
       "    <tr>\n",
       "      <th>0</th>\n",
       "      <td>2638B</td>\n",
       "      <td>8613</td>\n",
       "      <td>20000930</td>\n",
       "      <td>2000.0</td>\n",
       "      <td>INDL</td>\n",
       "      <td>PISMO COAST VILLAGE INC</td>\n",
       "      <td>USD</td>\n",
       "      <td>9.0</td>\n",
       "      <td>A</td>\n",
       "      <td>USA</td>\n",
       "      <td>93449</td>\n",
       "      <td>Pismo Beach</td>\n",
       "      <td>NaN</td>\n",
       "      <td>9</td>\n",
       "      <td>CA</td>\n",
       "      <td>NaN</td>\n",
       "      <td>0.0</td>\n",
       "    </tr>\n",
       "  </tbody>\n",
       "</table>\n",
       "</div>"
      ],
      "text/plain": [
       "     tic  gvkey  datadate   fyear indfmt                     conm curcd  fyr  \\\n",
       "0  2638B   8613  20000930  2000.0   INDL  PISMO COAST VILLAGE INC   USD  9.0   \n",
       "\n",
       "  costat  fic addzip         city  dlrsn  fyrc state  dldte  default  \n",
       "0      A  USA  93449  Pismo Beach    NaN     9    CA    NaN      0.0  "
      ]
     },
     "execution_count": 48,
     "metadata": {},
     "output_type": "execute_result"
    }
   ],
   "source": [
    "ctd = gd_sme_nd.columns[8:25]\n",
    "gd_sme_nd_sin_data = gd_sme_nd.drop(ctd, 1)\n",
    "gd_sme_nd_sin_data.head(1)"
   ]
  },
  {
   "cell_type": "code",
   "execution_count": 49,
   "metadata": {
    "collapsed": false
   },
   "outputs": [
    {
     "data": {
      "text/html": [
       "<div>\n",
       "<table border=\"1\" class=\"dataframe\">\n",
       "  <thead>\n",
       "    <tr style=\"text-align: right;\">\n",
       "      <th></th>\n",
       "      <th>fyear</th>\n",
       "      <th>tic</th>\n",
       "      <th>ap</th>\n",
       "      <th>at</th>\n",
       "      <th>ceq</th>\n",
       "      <th>ceql</th>\n",
       "      <th>ch</th>\n",
       "      <th>ebit</th>\n",
       "      <th>ebitda</th>\n",
       "      <th>intan</th>\n",
       "      <th>lt</th>\n",
       "      <th>ni</th>\n",
       "      <th>re</th>\n",
       "      <th>rect</th>\n",
       "      <th>rectr</th>\n",
       "      <th>sale_x</th>\n",
       "      <th>seq</th>\n",
       "      <th>wcap</th>\n",
       "      <th>xint</th>\n",
       "    </tr>\n",
       "  </thead>\n",
       "  <tbody>\n",
       "    <tr>\n",
       "      <th>0</th>\n",
       "      <td>2000.0</td>\n",
       "      <td>2638B</td>\n",
       "      <td>0.072</td>\n",
       "      <td>6.912</td>\n",
       "      <td>6.351</td>\n",
       "      <td>6.351</td>\n",
       "      <td>1.022</td>\n",
       "      <td>0.409</td>\n",
       "      <td>0.718</td>\n",
       "      <td>0.0</td>\n",
       "      <td>0.561</td>\n",
       "      <td>0.255</td>\n",
       "      <td>0.703</td>\n",
       "      <td>0.007</td>\n",
       "      <td>0.007</td>\n",
       "      <td>3.074</td>\n",
       "      <td>6.351</td>\n",
       "      <td>0.696</td>\n",
       "      <td>0.024</td>\n",
       "    </tr>\n",
       "    <tr>\n",
       "      <th>1</th>\n",
       "      <td>2001.0</td>\n",
       "      <td>2638B</td>\n",
       "      <td>0.099</td>\n",
       "      <td>7.177</td>\n",
       "      <td>6.534</td>\n",
       "      <td>6.534</td>\n",
       "      <td>1.122</td>\n",
       "      <td>0.414</td>\n",
       "      <td>0.730</td>\n",
       "      <td>0.0</td>\n",
       "      <td>0.643</td>\n",
       "      <td>0.183</td>\n",
       "      <td>0.887</td>\n",
       "      <td>0.008</td>\n",
       "      <td>0.008</td>\n",
       "      <td>3.259</td>\n",
       "      <td>6.534</td>\n",
       "      <td>0.764</td>\n",
       "      <td>0.000</td>\n",
       "    </tr>\n",
       "    <tr>\n",
       "      <th>2</th>\n",
       "      <td>2002.0</td>\n",
       "      <td>2638B</td>\n",
       "      <td>0.080</td>\n",
       "      <td>7.508</td>\n",
       "      <td>6.824</td>\n",
       "      <td>6.824</td>\n",
       "      <td>1.486</td>\n",
       "      <td>0.398</td>\n",
       "      <td>0.735</td>\n",
       "      <td>0.0</td>\n",
       "      <td>0.684</td>\n",
       "      <td>0.289</td>\n",
       "      <td>1.176</td>\n",
       "      <td>0.009</td>\n",
       "      <td>0.009</td>\n",
       "      <td>3.657</td>\n",
       "      <td>6.824</td>\n",
       "      <td>1.101</td>\n",
       "      <td>0.000</td>\n",
       "    </tr>\n",
       "  </tbody>\n",
       "</table>\n",
       "</div>"
      ],
      "text/plain": [
       "    fyear    tic     ap     at    ceq   ceql     ch   ebit  ebitda  intan  \\\n",
       "0  2000.0  2638B  0.072  6.912  6.351  6.351  1.022  0.409   0.718    0.0   \n",
       "1  2001.0  2638B  0.099  7.177  6.534  6.534  1.122  0.414   0.730    0.0   \n",
       "2  2002.0  2638B  0.080  7.508  6.824  6.824  1.486  0.398   0.735    0.0   \n",
       "\n",
       "      lt     ni     re   rect  rectr  sale_x    seq   wcap   xint  \n",
       "0  0.561  0.255  0.703  0.007  0.007   3.074  6.351  0.696  0.024  \n",
       "1  0.643  0.183  0.887  0.008  0.008   3.259  6.534  0.764  0.000  \n",
       "2  0.684  0.289  1.176  0.009  0.009   3.657  6.824  1.101  0.000  "
      ]
     },
     "execution_count": 49,
     "metadata": {},
     "output_type": "execute_result"
    }
   ],
   "source": [
    "#unstack tic interpolate and stack tic back again\n",
    "gd_sme_nd_clean = gd_sme_nd.set_index(['tic', 'fyear']).iloc[:,6:23].unstack('tic').interpolate(limit=3, limit_direction='both')\n",
    "gd_sme_nd_clean = gd_sme_nd_clean.stack('tic').reset_index()\n",
    "gd_sme_nd_clean = gd_sme_nd_clean.sort_values(by=['tic', 'fyear']).reset_index().drop('index',1)\n",
    "gd_sme_nd_clean.head(3)"
   ]
  },
  {
   "cell_type": "code",
   "execution_count": 50,
   "metadata": {
    "collapsed": false
   },
   "outputs": [
    {
     "data": {
      "text/plain": [
       "Index([u'tic', u'gvkey', u'datadate', u'fyear', u'indfmt', u'conm', u'curcd',\n",
       "       u'fyr', u'costat', u'fic', u'addzip', u'city', u'dlrsn', u'fyrc',\n",
       "       u'state', u'dldte', u'default', u'ap', u'at', u'ceq', u'ceql', u'ch',\n",
       "       u'ebit', u'ebitda', u'intan', u'lt', u'ni', u're', u'rect', u'rectr',\n",
       "       u'sale_x', u'seq', u'wcap', u'xint'],\n",
       "      dtype='object')"
      ]
     },
     "execution_count": 50,
     "metadata": {},
     "output_type": "execute_result"
    }
   ],
   "source": [
    "gd_sme_nd_cl_full = gd_sme_nd_sin_data.merge(gd_sme_nd_clean, how='left', left_on=['tic', 'fyear'], right_on=['tic', 'fyear'])\n",
    "gd_sme_nd_cl_full.columns"
   ]
  },
  {
   "cell_type": "code",
   "execution_count": 51,
   "metadata": {
    "collapsed": false
   },
   "outputs": [
    {
     "data": {
      "text/plain": [
       "757"
      ]
     },
     "execution_count": 51,
     "metadata": {},
     "output_type": "execute_result"
    }
   ],
   "source": [
    "# find non defaulting enterprizes that are common in a range of years\n",
    "y1 = 2000\n",
    "y2 = 2007\n",
    "\n",
    "yrwise_dfs = []\n",
    "for year in range(y1,y2+1):\n",
    "    yrwise_dfs.append(gd_sme_nd_cl_full[gd_sme_nd_cl_full['fyear']==year])\n",
    "\n",
    "ndf_int = yrwise_dfs[0]\n",
    "for i in range(1, len(yrwise_dfs)):\n",
    "    ndf_int = ndf_int.merge(yrwise_dfs[i], how='inner', on='tic')\n",
    "\n",
    "ndyy_ent = pd.DataFrame(ndf_int['tic'])\n",
    "len(ndyy_ent)"
   ]
  },
  {
   "cell_type": "code",
   "execution_count": 52,
   "metadata": {
    "collapsed": false
   },
   "outputs": [
    {
     "data": {
      "text/plain": [
       "250"
      ]
     },
     "execution_count": 52,
     "metadata": {},
     "output_type": "execute_result"
    }
   ],
   "source": [
    "ndyy_samp = ndyy_ent.sample(n=int(len(dyy_ent)/0.0638), axis=0)\n",
    "len(ndyy_samp)"
   ]
  },
  {
   "cell_type": "code",
   "execution_count": 53,
   "metadata": {
    "collapsed": false
   },
   "outputs": [
    {
     "data": {
      "text/plain": [
       "(2941, 34)"
      ]
     },
     "execution_count": 53,
     "metadata": {},
     "output_type": "execute_result"
    }
   ],
   "source": [
    "gd_sme_nd_cl_samp = gd_sme_nd_cl_full.merge(ndyy_samp, how='right', on='tic')\n",
    "#gd_sme_nd_cl_samp.groupby('tic').count()\n",
    "gd_sme_nd_cl_samp.shape"
   ]
  },
  {
   "cell_type": "code",
   "execution_count": 54,
   "metadata": {
    "collapsed": false
   },
   "outputs": [
    {
     "data": {
      "text/plain": [
       "(184, 34)"
      ]
     },
     "execution_count": 54,
     "metadata": {},
     "output_type": "execute_result"
    }
   ],
   "source": [
    "gd_sme_d.shape"
   ]
  },
  {
   "cell_type": "code",
   "execution_count": 55,
   "metadata": {
    "collapsed": false
   },
   "outputs": [
    {
     "data": {
      "text/plain": [
       "ap        1\n",
       "at        1\n",
       "ceq       1\n",
       "ceql      4\n",
       "ch        1\n",
       "ebit      2\n",
       "ebitda    2\n",
       "intan     3\n",
       "lt        1\n",
       "ni        2\n",
       "re        1\n",
       "rect      1\n",
       "rectr     1\n",
       "sale_x    2\n",
       "seq       1\n",
       "wcap      1\n",
       "xint      4\n",
       "dtype: int64"
      ]
     },
     "execution_count": 55,
     "metadata": {},
     "output_type": "execute_result"
    }
   ],
   "source": [
    "# let's check percent completeness of data\n",
    "#100 - gd_sme_d.iloc[:,8:25].isnull().sum()/gd_sme_d.iloc[:,8:25].isnull().count()*100\n",
    "gd_sme_d.iloc[:,8:25].isnull().sum()"
   ]
  },
  {
   "cell_type": "code",
   "execution_count": 56,
   "metadata": {
    "collapsed": false
   },
   "outputs": [
    {
     "data": {
      "text/plain": [
       "Index([u'ap', u'at', u'ceq', u'ceql', u'ch', u'ebit', u'ebitda', u'intan',\n",
       "       u'lt', u'ni', u're', u'rect', u'rectr', u'sale_x', u'seq', u'wcap',\n",
       "       u'xint'],\n",
       "      dtype='object')"
      ]
     },
     "execution_count": 56,
     "metadata": {},
     "output_type": "execute_result"
    }
   ],
   "source": [
    "ctr = gd_sme_d.columns[8:25] #columns to remove (drop)\n",
    "gd_sme_d_sin_data = gd_sme_d.drop(ctr, 1)\n",
    "ctr"
   ]
  },
  {
   "cell_type": "code",
   "execution_count": 57,
   "metadata": {
    "collapsed": false
   },
   "outputs": [
    {
     "data": {
      "text/html": [
       "<div>\n",
       "<table border=\"1\" class=\"dataframe\">\n",
       "  <thead>\n",
       "    <tr style=\"text-align: right;\">\n",
       "      <th></th>\n",
       "      <th>fyear</th>\n",
       "      <th>tic</th>\n",
       "      <th>ap</th>\n",
       "      <th>at</th>\n",
       "      <th>ceq</th>\n",
       "      <th>ceql</th>\n",
       "      <th>ch</th>\n",
       "      <th>ebit</th>\n",
       "      <th>ebitda</th>\n",
       "      <th>intan</th>\n",
       "      <th>lt</th>\n",
       "      <th>ni</th>\n",
       "      <th>re</th>\n",
       "      <th>rect</th>\n",
       "      <th>rectr</th>\n",
       "      <th>sale_x</th>\n",
       "      <th>seq</th>\n",
       "      <th>wcap</th>\n",
       "      <th>xint</th>\n",
       "    </tr>\n",
       "  </thead>\n",
       "  <tbody>\n",
       "    <tr>\n",
       "      <th>0</th>\n",
       "      <td>2000.0</td>\n",
       "      <td>3AMBEQ</td>\n",
       "      <td>0.065</td>\n",
       "      <td>5.051</td>\n",
       "      <td>4.986</td>\n",
       "      <td>4.986</td>\n",
       "      <td>0.005</td>\n",
       "      <td>-0.130</td>\n",
       "      <td>-0.116</td>\n",
       "      <td>0.0</td>\n",
       "      <td>0.065</td>\n",
       "      <td>-0.067</td>\n",
       "      <td>-1.061</td>\n",
       "      <td>0.003</td>\n",
       "      <td>0.003</td>\n",
       "      <td>0.038</td>\n",
       "      <td>4.986</td>\n",
       "      <td>-0.057</td>\n",
       "      <td>0.0</td>\n",
       "    </tr>\n",
       "    <tr>\n",
       "      <th>1</th>\n",
       "      <td>2001.0</td>\n",
       "      <td>3AMBEQ</td>\n",
       "      <td>0.016</td>\n",
       "      <td>5.062</td>\n",
       "      <td>5.046</td>\n",
       "      <td>5.046</td>\n",
       "      <td>0.015</td>\n",
       "      <td>-0.095</td>\n",
       "      <td>-0.084</td>\n",
       "      <td>0.0</td>\n",
       "      <td>0.016</td>\n",
       "      <td>-0.043</td>\n",
       "      <td>-1.001</td>\n",
       "      <td>0.008</td>\n",
       "      <td>0.008</td>\n",
       "      <td>0.068</td>\n",
       "      <td>5.046</td>\n",
       "      <td>0.007</td>\n",
       "      <td>0.0</td>\n",
       "    </tr>\n",
       "    <tr>\n",
       "      <th>2</th>\n",
       "      <td>2002.0</td>\n",
       "      <td>3AMBEQ</td>\n",
       "      <td>0.003</td>\n",
       "      <td>5.007</td>\n",
       "      <td>5.004</td>\n",
       "      <td>5.004</td>\n",
       "      <td>0.001</td>\n",
       "      <td>-0.129</td>\n",
       "      <td>-0.129</td>\n",
       "      <td>0.0</td>\n",
       "      <td>0.003</td>\n",
       "      <td>-0.047</td>\n",
       "      <td>-1.043</td>\n",
       "      <td>0.000</td>\n",
       "      <td>0.000</td>\n",
       "      <td>0.000</td>\n",
       "      <td>5.004</td>\n",
       "      <td>-0.002</td>\n",
       "      <td>0.0</td>\n",
       "    </tr>\n",
       "  </tbody>\n",
       "</table>\n",
       "</div>"
      ],
      "text/plain": [
       "    fyear     tic     ap     at    ceq   ceql     ch   ebit  ebitda  intan  \\\n",
       "0  2000.0  3AMBEQ  0.065  5.051  4.986  4.986  0.005 -0.130  -0.116    0.0   \n",
       "1  2001.0  3AMBEQ  0.016  5.062  5.046  5.046  0.015 -0.095  -0.084    0.0   \n",
       "2  2002.0  3AMBEQ  0.003  5.007  5.004  5.004  0.001 -0.129  -0.129    0.0   \n",
       "\n",
       "      lt     ni     re   rect  rectr  sale_x    seq   wcap  xint  \n",
       "0  0.065 -0.067 -1.061  0.003  0.003   0.038  4.986 -0.057   0.0  \n",
       "1  0.016 -0.043 -1.001  0.008  0.008   0.068  5.046  0.007   0.0  \n",
       "2  0.003 -0.047 -1.043  0.000  0.000   0.000  5.004 -0.002   0.0  "
      ]
     },
     "execution_count": 57,
     "metadata": {},
     "output_type": "execute_result"
    }
   ],
   "source": [
    "#unstack tic interpolate and stack tic back again\n",
    "gd_sme_d_clean = gd_sme_d.set_index(['tic', 'fyear']).iloc[:,6:23].unstack('tic').interpolate(limit=3, limit_direction='both')\n",
    "gd_sme_d_clean = gd_sme_d_clean.stack('tic').reset_index()\n",
    "gd_sme_d_clean = gd_sme_d_clean.sort_values(by=['tic', 'fyear']).reset_index().drop('index',1)\n",
    "gd_sme_d_clean.head(3)"
   ]
  },
  {
   "cell_type": "code",
   "execution_count": 58,
   "metadata": {
    "collapsed": false
   },
   "outputs": [
    {
     "data": {
      "text/plain": [
       "ebitda    0\n",
       "intan     0\n",
       "lt        0\n",
       "ni        0\n",
       "re        0\n",
       "rect      0\n",
       "rectr     0\n",
       "sale_x    0\n",
       "seq       0\n",
       "wcap      0\n",
       "xint      0\n",
       "dtype: int64"
      ]
     },
     "execution_count": 58,
     "metadata": {},
     "output_type": "execute_result"
    }
   ],
   "source": [
    "gd_sme_d_clean.iloc[:,8:25].isnull().sum()"
   ]
  },
  {
   "cell_type": "code",
   "execution_count": 59,
   "metadata": {
    "collapsed": false
   },
   "outputs": [
    {
     "data": {
      "text/plain": [
       "Index([u'tic', u'gvkey', u'datadate', u'fyear', u'indfmt', u'conm', u'curcd',\n",
       "       u'fyr', u'costat', u'fic', u'addzip', u'city', u'dlrsn', u'fyrc',\n",
       "       u'state', u'dldte', u'default', u'ap', u'at', u'ceq', u'ceql', u'ch',\n",
       "       u'ebit', u'ebitda', u'intan', u'lt', u'ni', u're', u'rect', u'rectr',\n",
       "       u'sale_x', u'seq', u'wcap', u'xint'],\n",
       "      dtype='object')"
      ]
     },
     "execution_count": 59,
     "metadata": {},
     "output_type": "execute_result"
    }
   ],
   "source": [
    "gd_sme_d_cl_full = gd_sme_d_sin_data.merge(gd_sme_d_clean, how='left', left_on=['tic', 'fyear'], right_on=['tic', 'fyear'])\n",
    "gd_sme_d_cl_full.columns"
   ]
  },
  {
   "cell_type": "code",
   "execution_count": 60,
   "metadata": {
    "collapsed": false
   },
   "outputs": [
    {
     "data": {
      "text/html": [
       "<div>\n",
       "<table border=\"1\" class=\"dataframe\">\n",
       "  <thead>\n",
       "    <tr style=\"text-align: right;\">\n",
       "      <th></th>\n",
       "      <th>tic</th>\n",
       "    </tr>\n",
       "  </thead>\n",
       "  <tbody>\n",
       "    <tr>\n",
       "      <th>0</th>\n",
       "      <td>3AMBEQ</td>\n",
       "    </tr>\n",
       "    <tr>\n",
       "      <th>1</th>\n",
       "      <td>3NCEYQ</td>\n",
       "    </tr>\n",
       "    <tr>\n",
       "      <th>2</th>\n",
       "      <td>AOGSQ</td>\n",
       "    </tr>\n",
       "    <tr>\n",
       "      <th>3</th>\n",
       "      <td>AXIHQ</td>\n",
       "    </tr>\n",
       "    <tr>\n",
       "      <th>4</th>\n",
       "      <td>BMERQ</td>\n",
       "    </tr>\n",
       "    <tr>\n",
       "      <th>5</th>\n",
       "      <td>CANRQ</td>\n",
       "    </tr>\n",
       "    <tr>\n",
       "      <th>6</th>\n",
       "      <td>CBNRQ</td>\n",
       "    </tr>\n",
       "    <tr>\n",
       "      <th>7</th>\n",
       "      <td>FGMGQ</td>\n",
       "    </tr>\n",
       "    <tr>\n",
       "      <th>8</th>\n",
       "      <td>GLDUQ</td>\n",
       "    </tr>\n",
       "    <tr>\n",
       "      <th>9</th>\n",
       "      <td>GORXQ</td>\n",
       "    </tr>\n",
       "    <tr>\n",
       "      <th>10</th>\n",
       "      <td>ISOOQ</td>\n",
       "    </tr>\n",
       "    <tr>\n",
       "      <th>11</th>\n",
       "      <td>KITDQ</td>\n",
       "    </tr>\n",
       "    <tr>\n",
       "      <th>12</th>\n",
       "      <td>NXXIQ</td>\n",
       "    </tr>\n",
       "    <tr>\n",
       "      <th>13</th>\n",
       "      <td>RONCQ</td>\n",
       "    </tr>\n",
       "    <tr>\n",
       "      <th>14</th>\n",
       "      <td>TELTQ</td>\n",
       "    </tr>\n",
       "    <tr>\n",
       "      <th>15</th>\n",
       "      <td>VRSOQ</td>\n",
       "    </tr>\n",
       "  </tbody>\n",
       "</table>\n",
       "</div>"
      ],
      "text/plain": [
       "       tic\n",
       "0   3AMBEQ\n",
       "1   3NCEYQ\n",
       "2    AOGSQ\n",
       "3    AXIHQ\n",
       "4    BMERQ\n",
       "5    CANRQ\n",
       "6    CBNRQ\n",
       "7    FGMGQ\n",
       "8    GLDUQ\n",
       "9    GORXQ\n",
       "10   ISOOQ\n",
       "11   KITDQ\n",
       "12   NXXIQ\n",
       "13   RONCQ\n",
       "14   TELTQ\n",
       "15   VRSOQ"
      ]
     },
     "execution_count": 60,
     "metadata": {},
     "output_type": "execute_result"
    }
   ],
   "source": [
    "dyy_ent"
   ]
  },
  {
   "cell_type": "code",
   "execution_count": 61,
   "metadata": {
    "collapsed": false
   },
   "outputs": [],
   "source": [
    "gd_sme_d_cl_samp = gd_sme_d_cl_full.merge(dyy_ent, how='right', on='tic')"
   ]
  },
  {
   "cell_type": "code",
   "execution_count": 62,
   "metadata": {
    "collapsed": false
   },
   "outputs": [
    {
     "data": {
      "text/plain": [
       "Index([u'tic', u'gvkey', u'datadate', u'fyear', u'indfmt', u'conm', u'curcd',\n",
       "       u'fyr', u'costat', u'fic', u'addzip', u'city', u'dlrsn', u'fyrc',\n",
       "       u'state', u'dldte', u'default', u'ap', u'at', u'ceq', u'ceql', u'ch',\n",
       "       u'ebit', u'ebitda', u'intan', u'lt', u'ni', u're', u'rect', u'rectr',\n",
       "       u'sale_x', u'seq', u'wcap', u'xint'],\n",
       "      dtype='object')"
      ]
     },
     "execution_count": 62,
     "metadata": {},
     "output_type": "execute_result"
    }
   ],
   "source": [
    "gd_sme_nd_cl_samp.columns"
   ]
  },
  {
   "cell_type": "code",
   "execution_count": 63,
   "metadata": {
    "collapsed": false
   },
   "outputs": [
    {
     "data": {
      "text/plain": [
       "array([ True,  True,  True,  True,  True,  True,  True,  True,  True,\n",
       "        True,  True,  True,  True,  True,  True,  True,  True,  True,\n",
       "        True,  True,  True,  True,  True,  True,  True,  True,  True,\n",
       "        True,  True,  True,  True,  True,  True,  True], dtype=bool)"
      ]
     },
     "execution_count": 63,
     "metadata": {},
     "output_type": "execute_result"
    }
   ],
   "source": [
    "gd_sme_nd_cl_samp.columns == gd_sme_d_cl_samp.columns"
   ]
  },
  {
   "cell_type": "code",
   "execution_count": 64,
   "metadata": {
    "collapsed": false
   },
   "outputs": [],
   "source": [
    "gd_sme_samp = pd.concat([gd_sme_nd_cl_samp, gd_sme_d_cl_samp])\n",
    "#gd_sme_samp = pd.concat([gd_sme_nd_cl_samp, gd_sme_d])\n"
   ]
  },
  {
   "cell_type": "code",
   "execution_count": 65,
   "metadata": {
    "collapsed": false
   },
   "outputs": [
    {
     "data": {
      "text/plain": [
       "ap        0\n",
       "at        0\n",
       "ceq       0\n",
       "ceql      0\n",
       "ch        0\n",
       "ebit      0\n",
       "ebitda    0\n",
       "intan     0\n",
       "lt        0\n",
       "ni        0\n",
       "re        0\n",
       "rect      0\n",
       "rectr     0\n",
       "sale_x    0\n",
       "seq       0\n",
       "wcap      0\n",
       "xint      0\n",
       "dtype: int64"
      ]
     },
     "execution_count": 65,
     "metadata": {},
     "output_type": "execute_result"
    }
   ],
   "source": [
    "gd_sme_samp.iloc[:,-17:].isnull().sum()"
   ]
  },
  {
   "cell_type": "code",
   "execution_count": 66,
   "metadata": {
    "collapsed": false
   },
   "outputs": [
    {
     "data": {
      "text/plain": [
       "<matplotlib.axes._subplots.AxesSubplot at 0xdd94b70>"
      ]
     },
     "execution_count": 66,
     "metadata": {},
     "output_type": "execute_result"
    },
    {
     "data": {
      "image/png": "[encoded data removed]",
      "text/plain": [
       "<matplotlib.figure.Figure at 0xda37438>"
      ]
     },
     "metadata": {},
     "output_type": "display_data"
    }
   ],
   "source": [
    "# let's plot some variables from the defaulting\n",
    "# dataset\n",
    "gd_sme_d_cl_samp[['ap', 'at']].plot()"
   ]
  },
  {
   "cell_type": "code",
   "execution_count": 68,
   "metadata": {
    "collapsed": false
   },
   "outputs": [
    {
     "data": {
      "text/html": [
       "<div>\n",
       "<table border=\"1\" class=\"dataframe\">\n",
       "  <thead>\n",
       "    <tr>\n",
       "      <th></th>\n",
       "      <th colspan=\"5\" halign=\"left\">ap</th>\n",
       "    </tr>\n",
       "    <tr>\n",
       "      <th>tic</th>\n",
       "      <th>3AMBEQ</th>\n",
       "      <th>3NCEYQ</th>\n",
       "      <th>AOGSQ</th>\n",
       "      <th>AXIHQ</th>\n",
       "      <th>BMERQ</th>\n",
       "    </tr>\n",
       "    <tr>\n",
       "      <th>fyear</th>\n",
       "      <th></th>\n",
       "      <th></th>\n",
       "      <th></th>\n",
       "      <th></th>\n",
       "      <th></th>\n",
       "    </tr>\n",
       "  </thead>\n",
       "  <tbody>\n",
       "    <tr>\n",
       "      <th>2000.0</th>\n",
       "      <td>0.065</td>\n",
       "      <td>0.305</td>\n",
       "      <td>0.109</td>\n",
       "      <td>7.833</td>\n",
       "      <td>0.057</td>\n",
       "    </tr>\n",
       "    <tr>\n",
       "      <th>2001.0</th>\n",
       "      <td>0.016</td>\n",
       "      <td>0.972</td>\n",
       "      <td>0.159</td>\n",
       "      <td>4.445</td>\n",
       "      <td>0.022</td>\n",
       "    </tr>\n",
       "    <tr>\n",
       "      <th>2002.0</th>\n",
       "      <td>0.003</td>\n",
       "      <td>0.662</td>\n",
       "      <td>0.138</td>\n",
       "      <td>2.214</td>\n",
       "      <td>0.059</td>\n",
       "    </tr>\n",
       "    <tr>\n",
       "      <th>2003.0</th>\n",
       "      <td>0.000</td>\n",
       "      <td>0.726</td>\n",
       "      <td>1.204</td>\n",
       "      <td>2.504</td>\n",
       "      <td>0.043</td>\n",
       "    </tr>\n",
       "    <tr>\n",
       "      <th>2004.0</th>\n",
       "      <td>0.000</td>\n",
       "      <td>0.253</td>\n",
       "      <td>0.691</td>\n",
       "      <td>0.882</td>\n",
       "      <td>0.119</td>\n",
       "    </tr>\n",
       "    <tr>\n",
       "      <th>2005.0</th>\n",
       "      <td>0.000</td>\n",
       "      <td>0.690</td>\n",
       "      <td>7.053</td>\n",
       "      <td>0.289</td>\n",
       "      <td>0.191</td>\n",
       "    </tr>\n",
       "    <tr>\n",
       "      <th>2006.0</th>\n",
       "      <td>0.000</td>\n",
       "      <td>0.976</td>\n",
       "      <td>5.701</td>\n",
       "      <td>0.045</td>\n",
       "      <td>0.265</td>\n",
       "    </tr>\n",
       "    <tr>\n",
       "      <th>2007.0</th>\n",
       "      <td>0.000</td>\n",
       "      <td>1.057</td>\n",
       "      <td>6.491</td>\n",
       "      <td>0.216</td>\n",
       "      <td>0.142</td>\n",
       "    </tr>\n",
       "    <tr>\n",
       "      <th>2008.0</th>\n",
       "      <td>0.000</td>\n",
       "      <td>0.691</td>\n",
       "      <td>4.082</td>\n",
       "      <td>0.036</td>\n",
       "      <td>1.054</td>\n",
       "    </tr>\n",
       "    <tr>\n",
       "      <th>2009.0</th>\n",
       "      <td>0.000</td>\n",
       "      <td>NaN</td>\n",
       "      <td>NaN</td>\n",
       "      <td>0.547</td>\n",
       "      <td>0.423</td>\n",
       "    </tr>\n",
       "    <tr>\n",
       "      <th>2010.0</th>\n",
       "      <td>0.000</td>\n",
       "      <td>NaN</td>\n",
       "      <td>NaN</td>\n",
       "      <td>1.103</td>\n",
       "      <td>0.890</td>\n",
       "    </tr>\n",
       "    <tr>\n",
       "      <th>2011.0</th>\n",
       "      <td>0.000</td>\n",
       "      <td>NaN</td>\n",
       "      <td>NaN</td>\n",
       "      <td>1.175</td>\n",
       "      <td>1.340</td>\n",
       "    </tr>\n",
       "  </tbody>\n",
       "</table>\n",
       "</div>"
      ],
      "text/plain": [
       "           ap                            \n",
       "tic    3AMBEQ 3NCEYQ  AOGSQ  AXIHQ  BMERQ\n",
       "fyear                                    \n",
       "2000.0  0.065  0.305  0.109  7.833  0.057\n",
       "2001.0  0.016  0.972  0.159  4.445  0.022\n",
       "2002.0  0.003  0.662  0.138  2.214  0.059\n",
       "2003.0  0.000  0.726  1.204  2.504  0.043\n",
       "2004.0  0.000  0.253  0.691  0.882  0.119\n",
       "2005.0  0.000  0.690  7.053  0.289  0.191\n",
       "2006.0  0.000  0.976  5.701  0.045  0.265\n",
       "2007.0  0.000  1.057  6.491  0.216  0.142\n",
       "2008.0  0.000  0.691  4.082  0.036  1.054\n",
       "2009.0  0.000    NaN    NaN  0.547  0.423\n",
       "2010.0  0.000    NaN    NaN  1.103  0.890\n",
       "2011.0  0.000    NaN    NaN  1.175  1.340"
      ]
     },
     "execution_count": 68,
     "metadata": {},
     "output_type": "execute_result"
    }
   ],
   "source": [
    "# get accounts payable for defaulting enterprizes\n",
    "gd_sme_d_cl_samp_apy = gd_sme_d_cl_samp[['tic', 'fyear', 'ap']].set_index(['tic', 'fyear']).unstack('tic')\n",
    "gd_sme_d_cl_samp_apy.iloc[:,0:5]"
   ]
  },
  {
   "cell_type": "code",
   "execution_count": 69,
   "metadata": {
    "collapsed": false
   },
   "outputs": [
    {
     "data": {
      "text/plain": [
       "<matplotlib.text.Text at 0x10494f60>"
      ]
     },
     "execution_count": 69,
     "metadata": {},
     "output_type": "execute_result"
    },
    {
     "data": {
      "image/png": "[encoded data removed]",
      "text/plain": [
       "<matplotlib.figure.Figure at 0x1061f7f0>"
      ]
     },
     "metadata": {},
     "output_type": "display_data"
    }
   ],
   "source": [
    "# plot a random range of sme\n",
    "aap4fy = gd_sme_d_cl_samp_apy.iloc[:,10:15].plot(y='ap')\n",
    "aap4fy.set_xlabel('Financial Year')\n",
    "aap4fy.set_ylabel('USD (Millions)')\n",
    "aap4fy.set_title('AP for Selected Defaulting Enterprizes')"
   ]
  },
  {
   "cell_type": "code",
   "execution_count": 71,
   "metadata": {
    "collapsed": false
   },
   "outputs": [],
   "source": [
    "# plot with interpolation\n",
    "#aap4ify = gd_sme_d_cl_samp_apy.iloc[:,10:15].interpolate().plot(y='ap')\n",
    "#aap4ify.set_xlabel('Financial Year')\n",
    "#aap4ify.set_ylabel('USD (Millions)')\n",
    "#aap4ify.set_title('AP for Selected Defaulting Enterprizes (Interpolated)')"
   ]
  },
  {
   "cell_type": "code",
   "execution_count": 72,
   "metadata": {
    "collapsed": false
   },
   "outputs": [],
   "source": [
    "# we realize that interpolating a defaulting enterprize\n",
    "# after its default is not prudent\n",
    "gd_sme_d_cl_samp_bd = gd_sme_d_cl_samp[['tic', 'fyear', 'dldte']]\n",
    "gd_sme_d_cl_samp_bdy = gd_sme_d_cl_samp_bd.set_index(['tic', 'fyear']).unstack('tic')"
   ]
  },
  {
   "cell_type": "code",
   "execution_count": 73,
   "metadata": {
    "collapsed": false,
    "scrolled": true
   },
   "outputs": [
    {
     "data": {
      "text/html": [
       "<div>\n",
       "<table border=\"1\" class=\"dataframe\">\n",
       "  <thead>\n",
       "    <tr>\n",
       "      <th></th>\n",
       "      <th colspan=\"5\" halign=\"left\">dldte</th>\n",
       "    </tr>\n",
       "    <tr>\n",
       "      <th>tic</th>\n",
       "      <th>ISOOQ</th>\n",
       "      <th>KITDQ</th>\n",
       "      <th>NXXIQ</th>\n",
       "      <th>RONCQ</th>\n",
       "      <th>TELTQ</th>\n",
       "    </tr>\n",
       "    <tr>\n",
       "      <th>fyear</th>\n",
       "      <th></th>\n",
       "      <th></th>\n",
       "      <th></th>\n",
       "      <th></th>\n",
       "      <th></th>\n",
       "    </tr>\n",
       "  </thead>\n",
       "  <tbody>\n",
       "    <tr>\n",
       "      <th>2000.0</th>\n",
       "      <td>20091223.0</td>\n",
       "      <td>20130819.0</td>\n",
       "      <td>20120117.0</td>\n",
       "      <td>20120223.0</td>\n",
       "      <td>20120222.0</td>\n",
       "    </tr>\n",
       "    <tr>\n",
       "      <th>2001.0</th>\n",
       "      <td>20091223.0</td>\n",
       "      <td>20130819.0</td>\n",
       "      <td>20120117.0</td>\n",
       "      <td>20120223.0</td>\n",
       "      <td>20120222.0</td>\n",
       "    </tr>\n",
       "    <tr>\n",
       "      <th>2002.0</th>\n",
       "      <td>20091223.0</td>\n",
       "      <td>20130819.0</td>\n",
       "      <td>20120117.0</td>\n",
       "      <td>20120223.0</td>\n",
       "      <td>20120222.0</td>\n",
       "    </tr>\n",
       "    <tr>\n",
       "      <th>2003.0</th>\n",
       "      <td>20091223.0</td>\n",
       "      <td>20130819.0</td>\n",
       "      <td>20120117.0</td>\n",
       "      <td>20120223.0</td>\n",
       "      <td>20120222.0</td>\n",
       "    </tr>\n",
       "    <tr>\n",
       "      <th>2004.0</th>\n",
       "      <td>20091223.0</td>\n",
       "      <td>20130819.0</td>\n",
       "      <td>20120117.0</td>\n",
       "      <td>20120223.0</td>\n",
       "      <td>20120222.0</td>\n",
       "    </tr>\n",
       "    <tr>\n",
       "      <th>2005.0</th>\n",
       "      <td>20091223.0</td>\n",
       "      <td>20130819.0</td>\n",
       "      <td>20120117.0</td>\n",
       "      <td>20120223.0</td>\n",
       "      <td>20120222.0</td>\n",
       "    </tr>\n",
       "    <tr>\n",
       "      <th>2006.0</th>\n",
       "      <td>20091223.0</td>\n",
       "      <td>20130819.0</td>\n",
       "      <td>20120117.0</td>\n",
       "      <td>20120223.0</td>\n",
       "      <td>20120222.0</td>\n",
       "    </tr>\n",
       "    <tr>\n",
       "      <th>2007.0</th>\n",
       "      <td>20091223.0</td>\n",
       "      <td>20130819.0</td>\n",
       "      <td>20120117.0</td>\n",
       "      <td>20120223.0</td>\n",
       "      <td>20120222.0</td>\n",
       "    </tr>\n",
       "    <tr>\n",
       "      <th>2008.0</th>\n",
       "      <td>NaN</td>\n",
       "      <td>20130819.0</td>\n",
       "      <td>20120117.0</td>\n",
       "      <td>20120223.0</td>\n",
       "      <td>20120222.0</td>\n",
       "    </tr>\n",
       "    <tr>\n",
       "      <th>2009.0</th>\n",
       "      <td>NaN</td>\n",
       "      <td>20130819.0</td>\n",
       "      <td>20120117.0</td>\n",
       "      <td>20120223.0</td>\n",
       "      <td>20120222.0</td>\n",
       "    </tr>\n",
       "    <tr>\n",
       "      <th>2010.0</th>\n",
       "      <td>NaN</td>\n",
       "      <td>20130819.0</td>\n",
       "      <td>20120117.0</td>\n",
       "      <td>NaN</td>\n",
       "      <td>NaN</td>\n",
       "    </tr>\n",
       "    <tr>\n",
       "      <th>2011.0</th>\n",
       "      <td>NaN</td>\n",
       "      <td>20130819.0</td>\n",
       "      <td>20120117.0</td>\n",
       "      <td>NaN</td>\n",
       "      <td>NaN</td>\n",
       "    </tr>\n",
       "  </tbody>\n",
       "</table>\n",
       "</div>"
      ],
      "text/plain": [
       "             dldte                                                \n",
       "tic          ISOOQ       KITDQ       NXXIQ       RONCQ       TELTQ\n",
       "fyear                                                             \n",
       "2000.0  20091223.0  20130819.0  20120117.0  20120223.0  20120222.0\n",
       "2001.0  20091223.0  20130819.0  20120117.0  20120223.0  20120222.0\n",
       "2002.0  20091223.0  20130819.0  20120117.0  20120223.0  20120222.0\n",
       "2003.0  20091223.0  20130819.0  20120117.0  20120223.0  20120222.0\n",
       "2004.0  20091223.0  20130819.0  20120117.0  20120223.0  20120222.0\n",
       "2005.0  20091223.0  20130819.0  20120117.0  20120223.0  20120222.0\n",
       "2006.0  20091223.0  20130819.0  20120117.0  20120223.0  20120222.0\n",
       "2007.0  20091223.0  20130819.0  20120117.0  20120223.0  20120222.0\n",
       "2008.0         NaN  20130819.0  20120117.0  20120223.0  20120222.0\n",
       "2009.0         NaN  20130819.0  20120117.0  20120223.0  20120222.0\n",
       "2010.0         NaN  20130819.0  20120117.0         NaN         NaN\n",
       "2011.0         NaN  20130819.0  20120117.0         NaN         NaN"
      ]
     },
     "execution_count": 73,
     "metadata": {},
     "output_type": "execute_result"
    }
   ],
   "source": [
    "gd_sme_d_cl_samp_bdy.iloc[:,10:15]"
   ]
  },
  {
   "cell_type": "code",
   "execution_count": 74,
   "metadata": {
    "collapsed": false,
    "scrolled": true
   },
   "outputs": [
    {
     "data": {
      "text/html": [
       "<div>\n",
       "<table border=\"1\" class=\"dataframe\">\n",
       "  <thead>\n",
       "    <tr style=\"text-align: right;\">\n",
       "      <th></th>\n",
       "      <th>ap</th>\n",
       "      <th>at</th>\n",
       "      <th>ceq</th>\n",
       "      <th>ceql</th>\n",
       "      <th>ch</th>\n",
       "      <th>ebit</th>\n",
       "      <th>ebitda</th>\n",
       "      <th>intan</th>\n",
       "      <th>lt</th>\n",
       "      <th>ni</th>\n",
       "      <th>re</th>\n",
       "      <th>rect</th>\n",
       "      <th>rectr</th>\n",
       "      <th>sale_x</th>\n",
       "      <th>seq</th>\n",
       "      <th>wcap</th>\n",
       "      <th>xint</th>\n",
       "    </tr>\n",
       "  </thead>\n",
       "  <tbody>\n",
       "    <tr>\n",
       "      <th>0</th>\n",
       "      <td>0.065</td>\n",
       "      <td>5.051</td>\n",
       "      <td>4.986</td>\n",
       "      <td>4.986</td>\n",
       "      <td>0.005</td>\n",
       "      <td>-0.13</td>\n",
       "      <td>-0.116</td>\n",
       "      <td>0.0</td>\n",
       "      <td>0.065</td>\n",
       "      <td>-0.067</td>\n",
       "      <td>-1.061</td>\n",
       "      <td>0.003</td>\n",
       "      <td>0.003</td>\n",
       "      <td>0.038</td>\n",
       "      <td>4.986</td>\n",
       "      <td>-0.057</td>\n",
       "      <td>0.0</td>\n",
       "    </tr>\n",
       "  </tbody>\n",
       "</table>\n",
       "</div>"
      ],
      "text/plain": [
       "      ap     at    ceq   ceql     ch  ebit  ebitda  intan     lt     ni  \\\n",
       "0  0.065  5.051  4.986  4.986  0.005 -0.13  -0.116    0.0  0.065 -0.067   \n",
       "\n",
       "      re   rect  rectr  sale_x    seq   wcap  xint  \n",
       "0 -1.061  0.003  0.003   0.038  4.986 -0.057   0.0  "
      ]
     },
     "execution_count": 74,
     "metadata": {},
     "output_type": "execute_result"
    }
   ],
   "source": [
    "gd_sme_d_cl_samp.iloc[:,-17:].head(1)"
   ]
  },
  {
   "cell_type": "code",
   "execution_count": 75,
   "metadata": {
    "collapsed": false
   },
   "outputs": [
    {
     "data": {
      "text/plain": [
       "<matplotlib.text.Text at 0xe2ca748>"
      ]
     },
     "execution_count": 75,
     "metadata": {},
     "output_type": "execute_result"
    },
    {
     "data": {
      "image/png": "[encoded data removed]",
      "text/plain": [
       "<matplotlib.figure.Figure at 0xe28b160>"
      ]
     },
     "metadata": {},
     "output_type": "display_data"
    }
   ],
   "source": [
    "# let's now plot some additional variables\n",
    "var = 'ceq'\n",
    "c1 = 10\n",
    "c2 = 15\n",
    "gd_sme_d_cl_samp_v = gd_sme_d_cl_samp[['tic', 'fyear', var]]\n",
    "gd_sme_d_cl_samp_vy = gd_sme_d_cl_samp_v.set_index(['tic', 'fyear']).unstack('tic')\n",
    "vfy = gd_sme_d_cl_samp_vy.iloc[:,c1:c2].plot(y=var)\n",
    "vfy.set_xlabel('Financial Year')\n",
    "vfy.set_ylabel('USD (Millions)')\n",
    "vfy.set_title(var + ' for Selected Defaulting Enterprizes')"
   ]
  },
  {
   "cell_type": "code",
   "execution_count": 76,
   "metadata": {
    "collapsed": false
   },
   "outputs": [
    {
     "data": {
      "text/plain": [
       "<matplotlib.text.Text at 0x11191cf8>"
      ]
     },
     "execution_count": 76,
     "metadata": {},
     "output_type": "execute_result"
    },
    {
     "data": {
      "image/png": "[encoded data removed]",
      "text/plain": [
       "<matplotlib.figure.Figure at 0x111804e0>"
      ]
     },
     "metadata": {},
     "output_type": "display_data"
    }
   ],
   "source": [
    "var = 'sale_x'\n",
    "c1 = 10\n",
    "c2 = 15\n",
    "gd_sme_d_cl_samp_v = gd_sme_d_cl_samp[['tic', 'fyear', var]]\n",
    "gd_sme_d_cl_samp_vy = gd_sme_d_cl_samp_v.set_index(['tic', 'fyear']).unstack('tic')\n",
    "vfy = gd_sme_d_cl_samp_vy.iloc[:,c1:c2].plot(y=var)\n",
    "vfy.set_xlabel('Financial Year')\n",
    "vfy.set_ylabel('USD (Millions)')\n",
    "vfy.set_title(var + ' for Selected Defaulting Enterprizes')"
   ]
  },
  {
   "cell_type": "code",
   "execution_count": 77,
   "metadata": {
    "collapsed": true
   },
   "outputs": [],
   "source": [
    "gd_sme_samp = gd_sme_samp[gd_sme_samp.fyear<2008]"
   ]
  },
  {
   "cell_type": "code",
   "execution_count": 78,
   "metadata": {
    "collapsed": false
   },
   "outputs": [
    {
     "data": {
      "text/html": [
       "<div>\n",
       "<table border=\"1\" class=\"dataframe\">\n",
       "  <thead>\n",
       "    <tr style=\"text-align: right;\">\n",
       "      <th>default</th>\n",
       "      <th>0.0</th>\n",
       "      <th>1.0</th>\n",
       "      <th>ratio_pct</th>\n",
       "    </tr>\n",
       "    <tr>\n",
       "      <th>fyear</th>\n",
       "      <th></th>\n",
       "      <th></th>\n",
       "      <th></th>\n",
       "    </tr>\n",
       "  </thead>\n",
       "  <tbody>\n",
       "    <tr>\n",
       "      <th>2000.0</th>\n",
       "      <td>250</td>\n",
       "      <td>16</td>\n",
       "      <td>6.015038</td>\n",
       "    </tr>\n",
       "    <tr>\n",
       "      <th>2001.0</th>\n",
       "      <td>250</td>\n",
       "      <td>16</td>\n",
       "      <td>6.015038</td>\n",
       "    </tr>\n",
       "    <tr>\n",
       "      <th>2002.0</th>\n",
       "      <td>250</td>\n",
       "      <td>16</td>\n",
       "      <td>6.015038</td>\n",
       "    </tr>\n",
       "    <tr>\n",
       "      <th>2003.0</th>\n",
       "      <td>250</td>\n",
       "      <td>16</td>\n",
       "      <td>6.015038</td>\n",
       "    </tr>\n",
       "    <tr>\n",
       "      <th>2004.0</th>\n",
       "      <td>250</td>\n",
       "      <td>16</td>\n",
       "      <td>6.015038</td>\n",
       "    </tr>\n",
       "  </tbody>\n",
       "</table>\n",
       "</div>"
      ],
      "text/plain": [
       "default  0.0  1.0  ratio_pct\n",
       "fyear                       \n",
       "2000.0   250   16   6.015038\n",
       "2001.0   250   16   6.015038\n",
       "2002.0   250   16   6.015038\n",
       "2003.0   250   16   6.015038\n",
       "2004.0   250   16   6.015038"
      ]
     },
     "execution_count": 78,
     "metadata": {},
     "output_type": "execute_result"
    }
   ],
   "source": [
    "fdd2 = gd_sme_samp[['fyear', 'tic', 'default']].groupby(['fyear', 'default'])['tic'].count().reset_index()\n",
    "fdd2 = fdd2.set_index(['fyear', 'default'])\n",
    "fdd2 = fdd2.unstack('default')\n",
    "fdd2.columns = fdd2.columns.droplevel(0)\n",
    "fdd2['ratio_pct'] = fdd2.iloc[:,1] / (fdd2.iloc[:,1] + fdd2.iloc[:,0]) * 100\n",
    "fdd2.head()"
   ]
  },
  {
   "cell_type": "code",
   "execution_count": 79,
   "metadata": {
    "collapsed": false
   },
   "outputs": [
    {
     "data": {
      "text/plain": [
       "<matplotlib.text.Text at 0xdd72b00>"
      ]
     },
     "execution_count": 79,
     "metadata": {},
     "output_type": "execute_result"
    },
    {
     "data": {
      "image/png": "[encoded data removed]",
      "text/plain": [
       "<matplotlib.figure.Figure at 0xe4b2898>"
      ]
     },
     "metadata": {},
     "output_type": "display_data"
    }
   ],
   "source": [
    "bx = fdd2['ratio_pct'].plot(kind='bar')\n",
    "bx.set_title('Percentage of Defaulting Enterprizes per Year')\n",
    "bx.set_xlabel('Financial Year')\n",
    "bx.set_ylabel('Percent')"
   ]
  },
  {
   "cell_type": "code",
   "execution_count": 80,
   "metadata": {
    "collapsed": false
   },
   "outputs": [
    {
     "data": {
      "text/plain": [
       "Index([u'tic', u'gvkey', u'datadate', u'fyear', u'indfmt', u'conm', u'curcd',\n",
       "       u'fyr', u'costat', u'fic', u'addzip', u'city', u'dlrsn', u'fyrc',\n",
       "       u'state', u'dldte', u'default', u'ap', u'at', u'ceq', u'ceql', u'ch',\n",
       "       u'ebit', u'ebitda', u'intan', u'lt', u'ni', u're', u'rect', u'rectr',\n",
       "       u'sale_x', u'seq', u'wcap', u'xint'],\n",
       "      dtype='object')"
      ]
     },
     "execution_count": 80,
     "metadata": {},
     "output_type": "execute_result"
    }
   ],
   "source": [
    "gd_sme_samp.columns"
   ]
  },
  {
   "cell_type": "code",
   "execution_count": 81,
   "metadata": {
    "collapsed": false
   },
   "outputs": [
    {
     "data": {
      "text/plain": [
       "ap        0\n",
       "at        0\n",
       "ceq       0\n",
       "ceql      0\n",
       "ch        0\n",
       "ebit      0\n",
       "ebitda    0\n",
       "intan     0\n",
       "lt        0\n",
       "ni        0\n",
       "re        0\n",
       "rect      0\n",
       "rectr     0\n",
       "sale_x    0\n",
       "seq       0\n",
       "wcap      0\n",
       "xint      0\n",
       "dtype: int64"
      ]
     },
     "execution_count": 81,
     "metadata": {},
     "output_type": "execute_result"
    }
   ],
   "source": [
    "gd_sme_samp.iloc[:,-17:].isnull().sum()"
   ]
  }
 ],
 "metadata": {
  "anaconda-cloud": {},
  "kernelspec": {
   "display_name": "Python [default]",
   "language": "python",
   "name": "python2"
  },
  "language_info": {
   "codemirror_mode": {
    "name": "ipython",
    "version": 2
   },
   "file_extension": ".py",
   "mimetype": "text/x-python",
   "name": "python",
   "nbconvert_exporter": "python",
   "pygments_lexer": "ipython2",
   "version": "2.7.12"
  }
 },
 "nbformat": 4,
 "nbformat_minor": 1
}
